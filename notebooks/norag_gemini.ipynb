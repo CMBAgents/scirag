{
 "cells": [
  {
   "cell_type": "code",
   "execution_count": 1,
   "id": "bb94656f",
   "metadata": {},
   "outputs": [],
   "source": [
    "import os\n",
    "from dotenv import load_dotenv\n",
    "load_dotenv()\n",
    "os.environ[\"GOOGLE_APPLICATION_CREDENTIALS\"] = \"gemini.json\"\n",
    "\n",
    "api_key = os.environ.get(\"OPENAI_API_KEY\")\n",
    "if api_key is None:\n",
    "    raise RuntimeError(\"Please set the OPENAI_API_KEY \")"
   ]
  },
  {
   "cell_type": "code",
   "execution_count": 2,
   "id": "8335898c",
   "metadata": {},
   "outputs": [
    {
     "name": "stdout",
     "output_type": "stream",
     "text": [
      "Initialized Gemini model without Google Search grounding.\n"
     ]
    }
   ],
   "source": [
    "from IPython.display import display, Markdown\n",
    "from scirag import GeminiGroundedAgent, SciRagDataSet\n",
    "\n",
    "scirag = GeminiGroundedAgent()\n",
    "dataset = SciRagDataSet()"
   ]
  },
  {
   "cell_type": "code",
   "execution_count": 3,
   "id": "dfc89265",
   "metadata": {},
   "outputs": [],
   "source": [
    "qa = dataset.load_dataset()"
   ]
  },
  {
   "cell_type": "code",
   "execution_count": 4,
   "id": "3cbad0cc",
   "metadata": {},
   "outputs": [
    {
     "name": "stdout",
     "output_type": "stream",
     "text": [
      "Gemini parsed answer: The impact of beam window function uncertainties on cosmological parameters in the baseline Plik lik...\n",
      "Gemini parsed sources: ['Planck 2018 results. VI. Cosmological parameters, Astron.Astrophys. 641 (2020) A6']\n",
      "CPU times: user 22.6 ms, sys: 18.4 ms, total: 40.9 ms\n",
      "Wall time: 4.02 s\n"
     ]
    }
   ],
   "source": [
    "%%time\n",
    "qid = 4\n",
    "question = qa['question'].iloc[qid]\n",
    "response = scirag.get_response(question)"
   ]
  },
  {
   "cell_type": "code",
   "execution_count": 5,
   "id": "d73cf065",
   "metadata": {},
   "outputs": [
    {
     "data": {
      "text/markdown": [
       "How large is the impact of beam window functions on the 2018 spectra in the baseline Plik likelihood?"
      ],
      "text/plain": [
       "<IPython.core.display.Markdown object>"
      ]
     },
     "metadata": {},
     "output_type": "display_data"
    }
   ],
   "source": [
    "display(Markdown(question))"
   ]
  },
  {
   "cell_type": "code",
   "execution_count": 6,
   "id": "126691d6",
   "metadata": {},
   "outputs": [
    {
     "data": {
      "text/markdown": [
       "**Answer**:\n",
       "\n",
       "The impact of beam window function uncertainties on cosmological parameters in the baseline Plik likelihood for Planck 2018 results is small, typically less than 0.1σ for most parameters [1].\n",
       "\n",
       "**Sources**:\n",
       "\n",
       "Planck 2018 results. VI. Cosmological parameters, Astron.Astrophys. 641 (2020) A6\n"
      ],
      "text/plain": [
       "<IPython.core.display.Markdown object>"
      ]
     },
     "metadata": {},
     "output_type": "display_data"
    }
   ],
   "source": [
    "display(Markdown(response))"
   ]
  },
  {
   "cell_type": "code",
   "execution_count": 7,
   "id": "406c7817",
   "metadata": {},
   "outputs": [
    {
     "data": {
      "text/plain": [
       "'approximately 0.1% at l=2000'"
      ]
     },
     "execution_count": 7,
     "metadata": {},
     "output_type": "execute_result"
    }
   ],
   "source": [
    "qa['ideal'].iloc[qid]"
   ]
  },
  {
   "cell_type": "code",
   "execution_count": null,
   "id": "b11a55ab",
   "metadata": {},
   "outputs": [],
   "source": []
  }
 ],
 "metadata": {
  "kernelspec": {
   "display_name": "myenv",
   "language": "python",
   "name": "python3"
  },
  "language_info": {
   "codemirror_mode": {
    "name": "ipython",
    "version": 3
   },
   "file_extension": ".py",
   "mimetype": "text/x-python",
   "name": "python",
   "nbconvert_exporter": "python",
   "pygments_lexer": "ipython3",
   "version": "3.11.11"
  }
 },
 "nbformat": 4,
 "nbformat_minor": 5
}
