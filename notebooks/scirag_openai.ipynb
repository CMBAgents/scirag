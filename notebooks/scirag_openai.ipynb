{
 "cells": [
  {
   "cell_type": "code",
   "execution_count": 1,
   "id": "8f90666e",
   "metadata": {},
   "outputs": [],
   "source": [
    "import os\n",
    "from dotenv import load_dotenv\n",
    "load_dotenv()\n",
    "os.environ[\"GOOGLE_APPLICATION_CREDENTIALS\"] = \"gemini.json\"\n",
    "\n",
    "api_key = os.environ.get(\"OPENAI_API_KEY\")\n",
    "if api_key is None:\n",
    "    raise RuntimeError(\"Please set the OPENAI_API_KEY \")"
   ]
  },
  {
   "cell_type": "code",
   "execution_count": null,
   "id": "d4a90565",
   "metadata": {},
   "outputs": [],
   "source": [
    "import shutil\n",
    "import os\n",
    "\n",
    "chroma_path = \"/Users/apple/Documents/GitHub/scirag_paperqa/scirag/embeddings/chromadb_openai\"\n",
    "if os.path.exists(chroma_path):\n",
    "    shutil.rmtree(chroma_path)\n",
    "    print(\"Cleaned up ChromaDB directory\")"
   ]
  },
  {
   "cell_type": "code",
   "execution_count": 3,
   "id": "c48b79b9-297d-48db-8be0-71aa21a918a7",
   "metadata": {},
   "outputs": [
    {
     "name": "stderr",
     "output_type": "stream",
     "text": [
      "/Users/apple/opt/anaconda3/envs/myenv/lib/python3.11/site-packages/tqdm/auto.py:21: TqdmWarning: IProgress not found. Please update jupyter and ipywidgets. See https://ipywidgets.readthedocs.io/en/stable/user_install.html\n",
      "  from .autonotebook import tqdm as notebook_tqdm\n"
     ]
    },
    {
     "name": "stdout",
     "output_type": "stream",
     "text": [
      "  Loaded 2503.14454v1.md\n",
      "  Loaded 2010.00619v2.md\n",
      "  Loaded 1807.06209v4.md\n",
      "  Loaded 1604.01424v3.md\n",
      "Total markdown documents loaded: 4\n",
      "Splitting documents into chunks...\n",
      "Created 1631 chunks from 4 documents\n",
      "Preparing texts for ChromaDB...\n",
      "Processed 1631 chunks\n",
      "Could not load existing collection: Could not load collection: Collection [sci_rag_openai_chunks] does not exists\n",
      "Creating new ChromaDB collection...\n",
      "Creating embeddings using OpenAI...\n",
      "Processing batch 1/17\n",
      "Processing batch 2/17\n",
      "Processing batch 3/17\n",
      "Processing batch 4/17\n",
      "Processing batch 5/17\n",
      "Processing batch 6/17\n",
      "Processing batch 7/17\n",
      "Processing batch 8/17\n",
      "Processing batch 9/17\n",
      "Processing batch 10/17\n",
      "Processing batch 11/17\n",
      "Processing batch 12/17\n",
      "Processing batch 13/17\n",
      "Processing batch 14/17\n",
      "Processing batch 15/17\n",
      "Processing batch 16/17\n",
      "Processing batch 17/17\n",
      "Created 1631 embeddings\n",
      "Storing batch 1/2\n",
      "Storing batch 2/2\n",
      "Successfully stored 1631 chunks in ChromaDB collection 'sci_rag_openai_chunks'\n",
      "Collection stored at: /Users/apple/Documents/GitHub/scirag_paperqa/scirag/embeddings/chromadb_openai\n"
     ]
    }
   ],
   "source": [
    "from IPython.display import display, Markdown\n",
    "from scirag import SciRagOpenAI, SciRagDataSet\n",
    "\n",
    "scirag = SciRagOpenAI(vector_db_backend=\"chromadb\")\n",
    "dataset = SciRagDataSet()"
   ]
  },
  {
   "cell_type": "code",
   "execution_count": 4,
   "id": "5571cab4-07a5-4a25-851d-96b06a4fa4f8",
   "metadata": {},
   "outputs": [],
   "source": [
    "qa = dataset.load_dataset()"
   ]
  },
  {
   "cell_type": "code",
   "execution_count": null,
   "id": "d37d6735-9ac2-4da5-a05b-d508ce2e8386",
   "metadata": {
    "scrolled": true
   },
   "outputs": [],
   "source": []
  },
  {
   "cell_type": "code",
   "execution_count": 5,
   "id": "e505a6e1-6554-4ec1-b8d0-75754e469397",
   "metadata": {},
   "outputs": [
    {
     "data": {
      "text/markdown": [
       "How large is the impact of beam window functions on the 2018 spectra in the baseline Plik likelihood?"
      ],
      "text/plain": [
       "<IPython.core.display.Markdown object>"
      ]
     },
     "metadata": {},
     "output_type": "display_data"
    },
    {
     "data": {
      "text/markdown": [
       "**Answer**:\n",
       "\n",
       "The impact of beam window functions on the 2018 spectra in the baseline Plik likelihood is small, at the level of approximately 0.1% at ℓ = 2000.\n",
       "\n",
       "**Sources**:\n",
       "\n",
       "/Users/apple/Documents/GitHub/scirag_paperqa/scirag/markdowns/1807.06209v4.md (Context 1)\n"
      ],
      "text/plain": [
       "<IPython.core.display.Markdown object>"
      ]
     },
     "metadata": {},
     "output_type": "display_data"
    },
    {
     "name": "stdout",
     "output_type": "stream",
     "text": [
      "CPU times: user 65.3 ms, sys: 19.5 ms, total: 84.7 ms\n",
      "Wall time: 3.56 s\n"
     ]
    }
   ],
   "source": [
    "%%time\n",
    "qids = [4]\n",
    "for qid in qids:\n",
    "    question = qa['question'].iloc[qid]\n",
    "    display(Markdown(question))\n",
    "    response = scirag.get_response(question)\n",
    "    display(Markdown(response))"
   ]
  },
  {
   "cell_type": "code",
   "execution_count": 6,
   "id": "c395213b-7bb6-4c19-b436-f8574ad571b3",
   "metadata": {},
   "outputs": [
    {
     "data": {
      "text/plain": [
       "'approximately 0.1% at l=2000'"
      ]
     },
     "execution_count": 6,
     "metadata": {},
     "output_type": "execute_result"
    }
   ],
   "source": [
    "qa['ideal'].iloc[qid]"
   ]
  },
  {
   "cell_type": "code",
   "execution_count": 7,
   "id": "e57644eb-5f5d-43a0-96a0-9bbaa1ee7aad",
   "metadata": {},
   "outputs": [
    {
     "data": {
      "text/plain": [
       "'p6; sec2.2.1'"
      ]
     },
     "execution_count": 7,
     "metadata": {},
     "output_type": "execute_result"
    }
   ],
   "source": [
    "qa['Location'].iloc[qid]"
   ]
  },
  {
   "cell_type": "code",
   "execution_count": 8,
   "id": "deb4842d-a1dd-4d46-aced-708244f49ca0",
   "metadata": {},
   "outputs": [
    {
     "data": {
      "text/plain": [
       "{'Cost': [], 'Prompt Tokens': [], 'Completion Tokens': [], 'Total Tokens': []}"
      ]
     },
     "execution_count": 8,
     "metadata": {},
     "output_type": "execute_result"
    }
   ],
   "source": [
    "scirag.cost_dict"
   ]
  }
 ],
 "metadata": {
  "kernelspec": {
   "display_name": "myenv",
   "language": "python",
   "name": "python3"
  },
  "language_info": {
   "codemirror_mode": {
    "name": "ipython",
    "version": 3
   },
   "file_extension": ".py",
   "mimetype": "text/x-python",
   "name": "python",
   "nbconvert_exporter": "python",
   "pygments_lexer": "ipython3",
   "version": "3.11.11"
  }
 },
 "nbformat": 4,
 "nbformat_minor": 5
}
