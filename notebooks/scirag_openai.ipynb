{
 "cells": [
  {
   "cell_type": "code",
   "execution_count": 1,
   "id": "8f90666e",
   "metadata": {},
   "outputs": [],
   "source": [
    "import os\n",
    "from dotenv import load_dotenv\n",
    "load_dotenv()\n",
    "os.environ[\"GOOGLE_APPLICATION_CREDENTIALS\"] = \"gemini.json\"\n",
    "\n",
    "api_key = os.environ.get(\"OPENAI_API_KEY\")\n",
    "if api_key is None:\n",
    "    raise RuntimeError(\"Please set the OPENAI_API_KEY \")"
   ]
  },
  {
   "cell_type": "code",
   "execution_count": 2,
   "id": "d4a90565",
   "metadata": {},
   "outputs": [],
   "source": [
    "import shutil\n",
    "import os\n",
    "\n",
    "chroma_path = \"/Users/apple/Documents/GitHub/scirag_paperqa/scirag/embeddings/chromadb_openai\"\n",
    "if os.path.exists(chroma_path):\n",
    "    shutil.rmtree(chroma_path)\n",
    "    print(\"Cleaned up ChromaDB directory\")"
   ]
  },
  {
   "cell_type": "code",
   "execution_count": 3,
   "id": "c48b79b9-297d-48db-8be0-71aa21a918a7",
   "metadata": {},
   "outputs": [
    {
     "name": "stdout",
     "output_type": "stream",
     "text": [
      "Listing existing RAG Corpora:\n",
      "--- Found existing corpus: corpus ---\n",
      "Creating assistant for existing vector store...\n",
      "Assistant created for existing corpus with ID: asst_G2QKE9uOC9Opa3fOKicxYKug\n"
     ]
    }
   ],
   "source": [
    "from IPython.display import display, Markdown\n",
    "from scirag import SciRagOpenAI, SciRagDataSet\n",
    "\n",
    "scirag = SciRagOpenAI(vector_db_backend=\"openai\")\n",
    "dataset = SciRagDataSet()"
   ]
  },
  {
   "cell_type": "code",
   "execution_count": 4,
   "id": "5571cab4-07a5-4a25-851d-96b06a4fa4f8",
   "metadata": {},
   "outputs": [],
   "source": [
    "qa = dataset.load_dataset()"
   ]
  },
  {
   "cell_type": "code",
   "execution_count": 5,
   "id": "e505a6e1-6554-4ec1-b8d0-75754e469397",
   "metadata": {},
   "outputs": [
    {
     "data": {
      "text/markdown": [
       "How large is the impact of beam window functions on the 2018 spectra in the baseline Plik likelihood?"
      ],
      "text/plain": [
       "<IPython.core.display.Markdown object>"
      ]
     },
     "metadata": {},
     "output_type": "display_data"
    },
    {
     "data": {
      "text/markdown": [
       "**Answer**:\n",
       "\n",
       "Sure! Please provide the *Context* section or the relevant files so I can answer your question using the specified sources.\n",
       "\n",
       "**Sources**:\n",
       "\n",
       "\n"
      ],
      "text/plain": [
       "<IPython.core.display.Markdown object>"
      ]
     },
     "metadata": {},
     "output_type": "display_data"
    },
    {
     "name": "stdout",
     "output_type": "stream",
     "text": [
      "CPU times: user 48.4 ms, sys: 15.8 ms, total: 64.1 ms\n",
      "Wall time: 4.39 s\n"
     ]
    }
   ],
   "source": [
    "%%time\n",
    "qids = [4]\n",
    "for qid in qids:\n",
    "    question = qa['question'].iloc[qid]\n",
    "    display(Markdown(question))\n",
    "    response = scirag.get_response(question)\n",
    "    display(Markdown(response))"
   ]
  },
  {
   "cell_type": "code",
   "execution_count": 6,
   "id": "c395213b-7bb6-4c19-b436-f8574ad571b3",
   "metadata": {},
   "outputs": [
    {
     "data": {
      "text/plain": [
       "'approximately 0.1% at l=2000'"
      ]
     },
     "execution_count": 6,
     "metadata": {},
     "output_type": "execute_result"
    }
   ],
   "source": [
    "qa['ideal'].iloc[qid]"
   ]
  },
  {
   "cell_type": "code",
   "execution_count": 7,
   "id": "e57644eb-5f5d-43a0-96a0-9bbaa1ee7aad",
   "metadata": {},
   "outputs": [
    {
     "data": {
      "text/plain": [
       "'p6; sec2.2.1'"
      ]
     },
     "execution_count": 7,
     "metadata": {},
     "output_type": "execute_result"
    }
   ],
   "source": [
    "qa['Location'].iloc[qid]"
   ]
  },
  {
   "cell_type": "code",
   "execution_count": 8,
   "id": "deb4842d-a1dd-4d46-aced-708244f49ca0",
   "metadata": {},
   "outputs": [
    {
     "data": {
      "text/plain": [
       "{'Cost': [], 'Prompt Tokens': [], 'Completion Tokens': [], 'Total Tokens': []}"
      ]
     },
     "execution_count": 8,
     "metadata": {},
     "output_type": "execute_result"
    }
   ],
   "source": [
    "scirag.cost_dict"
   ]
  }
 ],
 "metadata": {
  "kernelspec": {
   "display_name": "myenv",
   "language": "python",
   "name": "python3"
  },
  "language_info": {
   "codemirror_mode": {
    "name": "ipython",
    "version": 3
   },
   "file_extension": ".py",
   "mimetype": "text/x-python",
   "name": "python",
   "nbconvert_exporter": "python",
   "pygments_lexer": "ipython3",
   "version": "3.11.11"
  }
 },
 "nbformat": 4,
 "nbformat_minor": 5
}
