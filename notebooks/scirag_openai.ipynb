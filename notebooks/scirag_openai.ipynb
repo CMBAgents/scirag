{
 "cells": [
  {
   "cell_type": "code",
   "execution_count": 2,
   "id": "c48b79b9-297d-48db-8be0-71aa21a918a7",
   "metadata": {},
   "outputs": [
    {
     "name": "stdout",
     "output_type": "stream",
     "text": [
      "Listing RAG Corpora:\n",
      "--- Corpus: corpus ---\n"
     ]
    }
   ],
   "source": [
    "from IPython.display import display, Markdown\n",
    "from scirag import SciRagOpenAI, SciRagDataSet\n",
    "\n",
    "scirag = SciRagOpenAI()\n",
    "dataset = SciRagDataSet()"
   ]
  },
  {
   "cell_type": "code",
   "execution_count": 3,
   "id": "5571cab4-07a5-4a25-851d-96b06a4fa4f8",
   "metadata": {},
   "outputs": [],
   "source": [
    "qa = dataset.load_dataset()"
   ]
  },
  {
   "cell_type": "code",
   "execution_count": null,
   "id": "d37d6735-9ac2-4da5-a05b-d508ce2e8386",
   "metadata": {
    "scrolled": true
   },
   "outputs": [],
   "source": []
  },
  {
   "cell_type": "code",
   "execution_count": 18,
   "id": "e505a6e1-6554-4ec1-b8d0-75754e469397",
   "metadata": {},
   "outputs": [
    {
     "data": {
      "text/markdown": [
       "How large is the impact of beam window functions on the 2018 spectra in the baseline Plik likelihood?"
      ],
      "text/plain": [
       "<IPython.core.display.Markdown object>"
      ]
     },
     "metadata": {},
     "output_type": "display_data"
    },
    {
     "data": {
      "text/markdown": [
       "**Answer**:\n",
       "\n",
       "The impact of beam window functions on the 2018 spectra in the baseline Plik likelihood is small, at the level of approximately 0.1% at ℓ = 2000. This improvement comes from applying beam window functions calculated for the specific sky fraction retained at each frequency, rather than assuming the same average sky fraction at all frequencies as in the 2015 release .\n",
       "\n",
       "**Sources**:\n",
       "\n",
       "1807.06209v4.md, section on major changes with respect to the 2015 Plik likelihood\n"
      ],
      "text/plain": [
       "<IPython.core.display.Markdown object>"
      ]
     },
     "metadata": {},
     "output_type": "display_data"
    },
    {
     "name": "stdout",
     "output_type": "stream",
     "text": [
      "CPU times: user 77.1 ms, sys: 47.8 ms, total: 125 ms\n",
      "Wall time: 11 s\n"
     ]
    }
   ],
   "source": [
    "%%time\n",
    "qids = [4]\n",
    "for qid in qids:\n",
    "    question = qa['question'].iloc[qid]\n",
    "    display(Markdown(question))\n",
    "    response = scirag.get_response(question)\n",
    "    display(Markdown(response))"
   ]
  },
  {
   "cell_type": "code",
   "execution_count": 13,
   "id": "c395213b-7bb6-4c19-b436-f8574ad571b3",
   "metadata": {},
   "outputs": [
    {
     "data": {
      "text/plain": [
       "'1.04097\\\\pm0.00046'"
      ]
     },
     "execution_count": 13,
     "metadata": {},
     "output_type": "execute_result"
    }
   ],
   "source": [
    "qa['ideal'].iloc[qid]"
   ]
  },
  {
   "cell_type": "code",
   "execution_count": 14,
   "id": "e57644eb-5f5d-43a0-96a0-9bbaa1ee7aad",
   "metadata": {},
   "outputs": [
    {
     "data": {
      "text/plain": [
       "'p14; sec3.1; Eq7'"
      ]
     },
     "execution_count": 14,
     "metadata": {},
     "output_type": "execute_result"
    }
   ],
   "source": [
    "qa['Location'].iloc[qid]"
   ]
  },
  {
   "cell_type": "code",
   "execution_count": 15,
   "id": "deb4842d-a1dd-4d46-aced-708244f49ca0",
   "metadata": {},
   "outputs": [
    {
     "data": {
      "text/plain": [
       "{'Cost': [0.036384, 0.030572000000000002, 0.03790399999999999],\n",
       " 'Prompt Tokens': [17536, 14470, 18436],\n",
       " 'Completion Tokens': [164, 204, 129],\n",
       " 'Total Tokens': [17700, 14674, 18565]}"
      ]
     },
     "execution_count": 15,
     "metadata": {},
     "output_type": "execute_result"
    }
   ],
   "source": [
    "scirag.cost_dict"
   ]
  }
 ],
 "metadata": {
  "kernelspec": {
   "display_name": "google_env",
   "language": "python",
   "name": "google_env"
  },
  "language_info": {
   "codemirror_mode": {
    "name": "ipython",
    "version": 3
   },
   "file_extension": ".py",
   "mimetype": "text/x-python",
   "name": "python",
   "nbconvert_exporter": "python",
   "pygments_lexer": "ipython3",
   "version": "3.12.9"
  }
 },
 "nbformat": 4,
 "nbformat_minor": 5
}
