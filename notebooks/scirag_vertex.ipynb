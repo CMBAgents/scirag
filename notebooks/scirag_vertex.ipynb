{
 "cells": [
  {
   "cell_type": "markdown",
   "id": "fe52bc73-45d5-4bf5-8e83-749ea3fa3e4e",
   "metadata": {
    "include-cell-in-app": true
   },
   "source": [
    "## Create Corpus From Markdown\n",
    "\n",
    "- Create a Google Cloud Bucket. \n",
    "- Specify its name in the config.py (there is a variable there).\n"
   ]
  },
  {
   "cell_type": "code",
   "execution_count": 1,
   "id": "c5aa9f7e-777c-4f86-ba76-a1c92e2a6ea4",
   "metadata": {
    "include-cell-in-app": true
   },
   "outputs": [],
   "source": [
    "from scirag.config import upload_markdown_files_to_gcs"
   ]
  },
  {
   "cell_type": "code",
   "execution_count": 3,
   "id": "35351101-fac8-4177-82d9-8abb919592cb",
   "metadata": {
    "include-cell-in-app": true
   },
   "outputs": [
    {
     "name": "stdout",
     "output_type": "stream",
     "text": [
      "Uploaded 2503.14454v1.md to gs://cmbagent/2503.14454v1.md\n",
      "Uploaded 2010.00619v2.md to gs://cmbagent/2010.00619v2.md\n",
      "Uploaded 2201.02202v1.md to gs://cmbagent/2201.02202v1.md\n",
      "Uploaded 1807.06209v4.md to gs://cmbagent/1807.06209v4.md\n",
      "Uploaded 1604.01424v3.md to gs://cmbagent/1604.01424v3.md\n"
     ]
    },
    {
     "data": {
      "text/plain": [
       "['gs://cmbagent/2503.14454v1.md',\n",
       " 'gs://cmbagent/2010.00619v2.md',\n",
       " 'gs://cmbagent/2201.02202v1.md',\n",
       " 'gs://cmbagent/1807.06209v4.md',\n",
       " 'gs://cmbagent/1604.01424v3.md']"
      ]
     },
     "execution_count": 3,
     "metadata": {},
     "output_type": "execute_result"
    }
   ],
   "source": [
    "upload_markdown_files_to_gcs()"
   ]
  },
  {
   "cell_type": "markdown",
   "id": "106721f3-c97f-4710-9317-2b042f155bf7",
   "metadata": {
    "include-cell-in-app": true
   },
   "source": [
    "This uploaded the local files to the google cloud storage (bucket). \n",
    "\n",
    "We can now create the vector DB. "
   ]
  },
  {
   "cell_type": "code",
   "execution_count": 1,
   "id": "69375b12-27ec-4c63-92c0-4a401c823f30",
   "metadata": {
    "include-cell-in-app": true
   },
   "outputs": [
    {
     "name": "stdout",
     "output_type": "stream",
     "text": [
      "Listing RAG Corpora:\n",
      "--- Corpus: corpus ---\n",
      "  Name (Resource Path): projects/camels-453517/locations/us-central1/ragCorpora/5181391371289755648\n",
      "  Display Name: corpus\n",
      "  Create Time: 2025-06-04 22:37:28\n",
      "  Update Time: 2025-06-04 22:37:28\n",
      "------------------------------\n"
     ]
    }
   ],
   "source": [
    "from scirag import SciRagVertexAI\n",
    "\n",
    "scirag = SciRagVertexAI()"
   ]
  },
  {
   "cell_type": "code",
   "execution_count": 2,
   "id": "d51b6b14-4c42-4b80-ad1d-2faf783f40df",
   "metadata": {
    "include-cell-in-app": true
   },
   "outputs": [],
   "source": [
    "# scirag.create_vector_db() ## this only creates the corpus... the files have to be imported manually. "
   ]
  },
  {
   "cell_type": "markdown",
   "id": "adb10bd9-ecfe-4178-9b05-f181d5b8954d",
   "metadata": {
    "include-cell-in-app": true
   },
   "source": [
    "## Delete corpus"
   ]
  },
  {
   "cell_type": "code",
   "execution_count": 8,
   "id": "356a1cef-e9fb-470b-90d1-37a8962d5805",
   "metadata": {
    "include-cell-in-app": true
   },
   "outputs": [],
   "source": [
    "\n",
    "# scirag.delete_vector_db()"
   ]
  },
  {
   "cell_type": "markdown",
   "id": "b209010f-a991-4989-bff3-3c981f8ee9de",
   "metadata": {
    "include-cell-in-app": true
   },
   "source": [
    "## Query"
   ]
  },
  {
   "cell_type": "code",
   "execution_count": 1,
   "id": "c48b79b9-297d-48db-8be0-71aa21a918a7",
   "metadata": {
    "include-cell-in-app": true
   },
   "outputs": [
    {
     "name": "stdout",
     "output_type": "stream",
     "text": [
      "Listing RAG Corpora:\n",
      "--- Corpus: corpus ---\n",
      "  Name (Resource Path): projects/camels-453517/locations/us-central1/ragCorpora/5181391371289755648\n",
      "  Display Name: corpus\n",
      "  Create Time: 2025-06-04 22:37:28\n",
      "  Update Time: 2025-06-04 22:37:28\n",
      "------------------------------\n"
     ]
    }
   ],
   "source": [
    "from IPython.display import display, Markdown\n",
    "from scirag import SciRagVertexAI, SciRagDataSet\n",
    "\n",
    "scirag = SciRagVertexAI()\n"
   ]
  },
  {
   "cell_type": "code",
   "execution_count": 2,
   "id": "4bb4bd44-75fa-461d-80ed-d05ffbfdc6bd",
   "metadata": {
    "include-cell-in-app": true
   },
   "outputs": [],
   "source": [
    "dataset = SciRagDataSet()\n",
    "qa = dataset.load_dataset()"
   ]
  },
  {
   "cell_type": "code",
   "execution_count": 3,
   "id": "4eb3d883-c868-4100-8531-5274a533c66c",
   "metadata": {
    "include-cell-in-app": true
   },
   "outputs": [
    {
     "name": "stdout",
     "output_type": "stream",
     "text": [
      "CPU times: user 80.9 ms, sys: 6.62 ms, total: 87.5 ms\n",
      "Wall time: 5.16 s\n"
     ]
    }
   ],
   "source": [
    "%%time\n",
    "qid = 4\n",
    "question = qa['question'].iloc[qid]\n",
    "response = scirag.get_response(question)\n"
   ]
  },
  {
   "cell_type": "code",
   "execution_count": 4,
   "id": "8985d7e5-ca31-40e6-9271-645a87dd4fd6",
   "metadata": {
    "include-cell-in-app": true
   },
   "outputs": [
    {
     "data": {
      "text/markdown": [
       "\n",
       "Question: How large is the impact of beam window functions on the 2018 spectra in the baseline Plik likelihood?\n"
      ],
      "text/plain": [
       "<IPython.core.display.Markdown object>"
      ]
     },
     "metadata": {},
     "output_type": "display_data"
    }
   ],
   "source": [
    "display(Markdown(scirag.enhanced_query(question)))"
   ]
  },
  {
   "cell_type": "code",
   "execution_count": 5,
   "id": "0951d28c-c9c2-4a77-bd46-57c7c24c853e",
   "metadata": {
    "include-cell-in-app": true
   },
   "outputs": [
    {
     "data": {
      "text/markdown": [
       "**Answer**:\n",
       "\n",
       "The impact of beam window functions on the 2018 spectra in the baseline Plik likelihood is small, approximately 0.1% at \\ell=2000. This is because the 2018 release applies beam window functions calculated for the specific sky fraction retained at each frequency, unlike the 2015 approach which assumed the same average sky fraction.\n",
       "\n",
       "**Sources**:\n",
       "\n",
       "1807.06209v4.md\n"
      ],
      "text/plain": [
       "<IPython.core.display.Markdown object>"
      ]
     },
     "metadata": {},
     "output_type": "display_data"
    }
   ],
   "source": [
    "display(Markdown(response))"
   ]
  },
  {
   "cell_type": "code",
   "execution_count": 6,
   "id": "ac062658-69e3-47ab-9b42-380df42694fc",
   "metadata": {
    "include-cell-in-app": true
   },
   "outputs": [
    {
     "data": {
      "text/plain": [
       "'approximately 0.1% at l=2000'"
      ]
     },
     "execution_count": 6,
     "metadata": {},
     "output_type": "execute_result"
    }
   ],
   "source": [
    "qa['ideal'].iloc[qid]"
   ]
  },
  {
   "cell_type": "code",
   "execution_count": 7,
   "id": "b2682619-ddb5-4145-9019-1dec4fdb2abe",
   "metadata": {
    "include-cell-in-app": true
   },
   "outputs": [
    {
     "data": {
      "text/plain": [
       "'p6; sec2.2.1'"
      ]
     },
     "execution_count": 7,
     "metadata": {},
     "output_type": "execute_result"
    }
   ],
   "source": [
    "qa['Location'].iloc[qid]"
   ]
  }
 ],
 "metadata": {
  "kernelspec": {
   "display_name": "google_env",
   "language": "python",
   "name": "google_env"
  },
  "language_info": {
   "codemirror_mode": {
    "name": "ipython",
    "version": 3
   },
   "file_extension": ".py",
   "mimetype": "text/x-python",
   "name": "python",
   "nbconvert_exporter": "python",
   "pygments_lexer": "ipython3",
   "version": "3.12.9"
  }
 },
 "nbformat": 4,
 "nbformat_minor": 5
}
