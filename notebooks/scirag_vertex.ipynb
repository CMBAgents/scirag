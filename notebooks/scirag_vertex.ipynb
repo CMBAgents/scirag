{
 "cells": [
  {
   "cell_type": "code",
   "execution_count": 2,
   "id": "279dfdf4",
   "metadata": {},
   "outputs": [],
   "source": [
    "import os\n",
    "from dotenv import load_dotenv\n",
    "load_dotenv()\n",
    "os.environ[\"GOOGLE_APPLICATION_CREDENTIALS\"] = \"gemini.json\"\n",
    "\n",
    "api_key = os.environ.get(\"OPENAI_API_KEY\")\n",
    "if api_key is None:\n",
    "    raise RuntimeError(\"Please set the OPENAI_API_KEY \")"
   ]
  },
  {
   "cell_type": "code",
   "execution_count": 3,
   "id": "c48b79b9-297d-48db-8be0-71aa21a918a7",
   "metadata": {},
   "outputs": [
    {
     "name": "stdout",
     "output_type": "stream",
     "text": [
      "Listing RAG Corpora:\n",
      "--- Corpus: corpus ---\n",
      "  Name (Resource Path): projects/camels-453517/locations/us-central1/ragCorpora/1729382256910270464\n",
      "  Display Name: corpus\n",
      "  Create Time: 2025-05-25 16:17:36\n",
      "  Update Time: 2025-05-25 16:17:36\n",
      "------------------------------\n"
     ]
    }
   ],
   "source": [
    "from IPython.display import display, Markdown\n",
    "from scirag import SciRagVertexAI, SciRagDataSet\n",
    "\n",
    "scirag = SciRagVertexAI()\n",
    "dataset = SciRagDataSet()"
   ]
  },
  {
   "cell_type": "code",
   "execution_count": 4,
   "id": "4bb4bd44-75fa-461d-80ed-d05ffbfdc6bd",
   "metadata": {},
   "outputs": [],
   "source": [
    "qa = dataset.load_dataset()"
   ]
  },
  {
   "cell_type": "code",
   "execution_count": 5,
   "id": "4eb3d883-c868-4100-8531-5274a533c66c",
   "metadata": {},
   "outputs": [
    {
     "name": "stdout",
     "output_type": "stream",
     "text": [
      "CPU times: user 66 ms, sys: 36.1 ms, total: 102 ms\n",
      "Wall time: 6.03 s\n"
     ]
    }
   ],
   "source": [
    "%%time\n",
    "qid = 4\n",
    "question = qa['question'].iloc[qid]\n",
    "response = scirag.get_response(question)\n"
   ]
  },
  {
   "cell_type": "code",
   "execution_count": 6,
   "id": "8985d7e5-ca31-40e6-9271-645a87dd4fd6",
   "metadata": {},
   "outputs": [
    {
     "data": {
      "text/markdown": [
       "\n",
       "Question: How large is the impact of beam window functions on the 2018 spectra in the baseline Plik likelihood?\n"
      ],
      "text/plain": [
       "<IPython.core.display.Markdown object>"
      ]
     },
     "metadata": {},
     "output_type": "display_data"
    }
   ],
   "source": [
    "display(Markdown(scirag.enhanced_query(question)))"
   ]
  },
  {
   "cell_type": "code",
   "execution_count": 7,
   "id": "0951d28c-c9c2-4a77-bd46-57c7c24c853e",
   "metadata": {},
   "outputs": [
    {
     "data": {
      "text/markdown": [
       "**Answer**:\n",
       "\n",
       "The impact of beam window functions on the 2018 spectra in the baseline Plik likelihood is small, approximately 0.1% at $\\ell=2000$. This is due to the application of beam window functions calculated for the specific sky fraction retained at each frequency in the 2018 release, a change from the 2015 method which assumed the same average sky fraction across all frequencies.\n",
       "\n",
       "**Sources**:\n",
       "\n",
       "1807.06209v4.md\n"
      ],
      "text/plain": [
       "<IPython.core.display.Markdown object>"
      ]
     },
     "metadata": {},
     "output_type": "display_data"
    }
   ],
   "source": [
    "display(Markdown(response))"
   ]
  },
  {
   "cell_type": "code",
   "execution_count": 8,
   "id": "ac062658-69e3-47ab-9b42-380df42694fc",
   "metadata": {},
   "outputs": [
    {
     "data": {
      "text/plain": [
       "'approximately 0.1% at l=2000'"
      ]
     },
     "execution_count": 8,
     "metadata": {},
     "output_type": "execute_result"
    }
   ],
   "source": [
    "qa['ideal'].iloc[qid]"
   ]
  },
  {
   "cell_type": "code",
   "execution_count": 9,
   "id": "b2682619-ddb5-4145-9019-1dec4fdb2abe",
   "metadata": {},
   "outputs": [
    {
     "data": {
      "text/plain": [
       "'p6; sec2.2.1'"
      ]
     },
     "execution_count": 9,
     "metadata": {},
     "output_type": "execute_result"
    }
   ],
   "source": [
    "qa['Location'].iloc[qid]"
   ]
  }
 ],
 "metadata": {
  "kernelspec": {
   "display_name": "myenv",
   "language": "python",
   "name": "python3"
  },
  "language_info": {
   "codemirror_mode": {
    "name": "ipython",
    "version": 3
   },
   "file_extension": ".py",
   "mimetype": "text/x-python",
   "name": "python",
   "nbconvert_exporter": "python",
   "pygments_lexer": "ipython3",
   "version": "3.11.11"
  }
 },
 "nbformat": 4,
 "nbformat_minor": 5
}
