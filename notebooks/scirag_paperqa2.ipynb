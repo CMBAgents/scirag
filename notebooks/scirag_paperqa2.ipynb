{
 "cells": [
  {
   "cell_type": "code",
   "execution_count": 1,
   "metadata": {},
   "outputs": [],
   "source": [
    "import os\n",
    "from dotenv import load_dotenv\n",
    "load_dotenv()\n",
    "os.environ[\"GOOGLE_APPLICATION_CREDENTIALS\"] = \"gemini.json\"\n",
    "\n",
    "api_key = os.environ.get(\"OPENAI_API_KEY\")\n",
    "if api_key is None:\n",
    "    raise RuntimeError(\"Please set the OPENAI_API_KEY \")"
   ]
  },
  {
   "cell_type": "code",
   "execution_count": 2,
   "metadata": {},
   "outputs": [
    {
     "name": "stdout",
     "output_type": "stream",
     "text": [
      "[SciRagPaperQA2] Building index on initialization...\n",
      "[SciRagPaperQA2] Checking for paper directory: /Users/apple/Documents/GitHub/scirag_paperqa/scirag/txt_files\n",
      "[SciRagPaperQA2] Building PaperQA2 document index (only happens once)...\n",
      "[SciRagPaperQA2] Index built successfully.\n"
     ]
    }
   ],
   "source": [
    "from IPython.display import display, Markdown\n",
    "from scirag import SciRagPaperQA2, SciRagDataSet\n",
    "\n",
    "scirag = SciRagPaperQA2()\n",
    "dataset = SciRagDataSet()"
   ]
  },
  {
   "cell_type": "code",
   "execution_count": 3,
   "metadata": {},
   "outputs": [],
   "source": [
    "\n",
    "qa = dataset.load_dataset()"
   ]
  },
  {
   "cell_type": "code",
   "execution_count": 4,
   "metadata": {},
   "outputs": [
    {
     "data": {
      "text/html": [
       "<pre style=\"white-space:pre;overflow-x:auto;line-height:normal;font-family:Menlo,'DejaVu Sans Mono',consolas,'Courier New',monospace\"><span style=\"color: #7fbfbf; text-decoration-color: #7fbfbf\">[13:10:10] </span>Starting paper search for <span style=\"color: #008000; text-decoration-color: #008000\">'impact of beam window functions on 2018 spectra baseline Plik likelihood'</span>.   \n",
       "</pre>\n"
      ],
      "text/plain": [
       "\u001b[2;36m[13:10:10]\u001b[0m\u001b[2;36m \u001b[0mStarting paper search for \u001b[32m'impact of beam window functions on 2018 spectra baseline Plik likelihood'\u001b[0m.   \n"
      ]
     },
     "metadata": {},
     "output_type": "display_data"
    },
    {
     "data": {
      "text/html": [
       "<pre style=\"white-space:pre;overflow-x:auto;line-height:normal;font-family:Menlo,'DejaVu Sans Mono',consolas,'Courier New',monospace\"><span style=\"color: #7fbfbf; text-decoration-color: #7fbfbf\">[13:10:11] </span>paper_search for query <span style=\"color: #008000; text-decoration-color: #008000\">'impact of beam window functions on 2018 spectra baseline Plik likelihood'</span> and   \n",
       "<span style=\"color: #7fbfbf; text-decoration-color: #7fbfbf\">           </span>offset <span style=\"color: #008080; text-decoration-color: #008080; font-weight: bold\">0</span> returned <span style=\"color: #008080; text-decoration-color: #008080; font-weight: bold\">5</span> papers.                                                                             \n",
       "</pre>\n"
      ],
      "text/plain": [
       "\u001b[2;36m[13:10:11]\u001b[0m\u001b[2;36m \u001b[0mpaper_search for query \u001b[32m'impact of beam window functions on 2018 spectra baseline Plik likelihood'\u001b[0m and   \n",
       "\u001b[2;36m           \u001b[0moffset \u001b[1;36m0\u001b[0m returned \u001b[1;36m5\u001b[0m papers.                                                                             \n"
      ]
     },
     "metadata": {},
     "output_type": "display_data"
    },
    {
     "data": {
      "text/html": [
       "<pre style=\"white-space:pre;overflow-x:auto;line-height:normal;font-family:Menlo,'DejaVu Sans Mono',consolas,'Courier New',monospace\"><span style=\"color: #7fbfbf; text-decoration-color: #7fbfbf\">           </span>Status: Paper <span style=\"color: #808000; text-decoration-color: #808000\">Count</span>=<span style=\"color: #008080; text-decoration-color: #008080; font-weight: bold\">5</span> | Relevant <span style=\"color: #808000; text-decoration-color: #808000\">Papers</span>=<span style=\"color: #008080; text-decoration-color: #008080; font-weight: bold\">0</span> | Current <span style=\"color: #808000; text-decoration-color: #808000\">Evidence</span>=<span style=\"color: #008080; text-decoration-color: #008080; font-weight: bold\">0</span> | Current <span style=\"color: #808000; text-decoration-color: #808000\">Cost</span>=$<span style=\"color: #008080; text-decoration-color: #008080; font-weight: bold\">0.0020</span>                   \n",
       "</pre>\n"
      ],
      "text/plain": [
       "\u001b[2;36m          \u001b[0m\u001b[2;36m \u001b[0mStatus: Paper \u001b[33mCount\u001b[0m=\u001b[1;36m5\u001b[0m | Relevant \u001b[33mPapers\u001b[0m=\u001b[1;36m0\u001b[0m | Current \u001b[33mEvidence\u001b[0m=\u001b[1;36m0\u001b[0m | Current \u001b[33mCost\u001b[0m=$\u001b[1;36m0.0020\u001b[0m                   \n"
      ]
     },
     "metadata": {},
     "output_type": "display_data"
    },
    {
     "data": {
      "text/html": [
       "<pre style=\"white-space:pre;overflow-x:auto;line-height:normal;font-family:Menlo,'DejaVu Sans Mono',consolas,'Courier New',monospace\"><span style=\"color: #7fbfbf; text-decoration-color: #7fbfbf\">[13:10:12] </span>gather_evidence starting for question <span style=\"color: #008000; text-decoration-color: #008000\">'How large is the impact of beam window functions on the 2018 </span>    \n",
       "<span style=\"color: #7fbfbf; text-decoration-color: #7fbfbf\">           </span><span style=\"color: #008000; text-decoration-color: #008000\">spectra in the baseline Plik likelihood?'</span>.                                                              \n",
       "</pre>\n"
      ],
      "text/plain": [
       "\u001b[2;36m[13:10:12]\u001b[0m\u001b[2;36m \u001b[0mgather_evidence starting for question \u001b[32m'How large is the impact of beam window functions on the 2018 \u001b[0m    \n",
       "\u001b[2;36m           \u001b[0m\u001b[32mspectra in the baseline Plik likelihood?'\u001b[0m.                                                              \n"
      ]
     },
     "metadata": {},
     "output_type": "display_data"
    },
    {
     "data": {
      "text/html": [
       "<pre style=\"white-space:pre;overflow-x:auto;line-height:normal;font-family:Menlo,'DejaVu Sans Mono',consolas,'Courier New',monospace\"><span style=\"color: #7fbfbf; text-decoration-color: #7fbfbf\">[13:12:23] </span>Status: Paper <span style=\"color: #808000; text-decoration-color: #808000\">Count</span>=<span style=\"color: #008080; text-decoration-color: #008080; font-weight: bold\">5</span> | Relevant <span style=\"color: #808000; text-decoration-color: #808000\">Papers</span>=<span style=\"color: #008080; text-decoration-color: #008080; font-weight: bold\">1</span> | Current <span style=\"color: #808000; text-decoration-color: #808000\">Evidence</span>=<span style=\"color: #008080; text-decoration-color: #008080; font-weight: bold\">5</span> | Current <span style=\"color: #808000; text-decoration-color: #808000\">Cost</span>=$<span style=\"color: #008080; text-decoration-color: #008080; font-weight: bold\">0.2562</span>                   \n",
       "</pre>\n"
      ],
      "text/plain": [
       "\u001b[2;36m[13:12:23]\u001b[0m\u001b[2;36m \u001b[0mStatus: Paper \u001b[33mCount\u001b[0m=\u001b[1;36m5\u001b[0m | Relevant \u001b[33mPapers\u001b[0m=\u001b[1;36m1\u001b[0m | Current \u001b[33mEvidence\u001b[0m=\u001b[1;36m5\u001b[0m | Current \u001b[33mCost\u001b[0m=$\u001b[1;36m0.2562\u001b[0m                   \n"
      ]
     },
     "metadata": {},
     "output_type": "display_data"
    },
    {
     "data": {
      "text/html": [
       "<pre style=\"white-space:pre;overflow-x:auto;line-height:normal;font-family:Menlo,'DejaVu Sans Mono',consolas,'Courier New',monospace\"><span style=\"color: #7fbfbf; text-decoration-color: #7fbfbf\">[13:12:24] </span>Generating answer for <span style=\"color: #008000; text-decoration-color: #008000\">'How large is the impact of beam window functions on the 2018 spectra in the </span>     \n",
       "<span style=\"color: #7fbfbf; text-decoration-color: #7fbfbf\">           </span><span style=\"color: #008000; text-decoration-color: #008000\">baseline Plik likelihood?'</span>.                                                                             \n",
       "</pre>\n"
      ],
      "text/plain": [
       "\u001b[2;36m[13:12:24]\u001b[0m\u001b[2;36m \u001b[0mGenerating answer for \u001b[32m'How large is the impact of beam window functions on the 2018 spectra in the \u001b[0m     \n",
       "\u001b[2;36m           \u001b[0m\u001b[32mbaseline Plik likelihood?'\u001b[0m.                                                                             \n"
      ]
     },
     "metadata": {},
     "output_type": "display_data"
    },
    {
     "data": {
      "text/html": [
       "<pre style=\"white-space:pre;overflow-x:auto;line-height:normal;font-family:Menlo,'DejaVu Sans Mono',consolas,'Courier New',monospace\"><span style=\"color: #7fbfbf; text-decoration-color: #7fbfbf\">[13:12:33] </span>Status: Paper <span style=\"color: #808000; text-decoration-color: #808000\">Count</span>=<span style=\"color: #008080; text-decoration-color: #008080; font-weight: bold\">5</span> | Relevant <span style=\"color: #808000; text-decoration-color: #808000\">Papers</span>=<span style=\"color: #008080; text-decoration-color: #008080; font-weight: bold\">1</span> | Current <span style=\"color: #808000; text-decoration-color: #808000\">Evidence</span>=<span style=\"color: #008080; text-decoration-color: #008080; font-weight: bold\">5</span> | Current <span style=\"color: #808000; text-decoration-color: #808000\">Cost</span>=$<span style=\"color: #008080; text-decoration-color: #008080; font-weight: bold\">0.2617</span>                   \n",
       "</pre>\n"
      ],
      "text/plain": [
       "\u001b[2;36m[13:12:33]\u001b[0m\u001b[2;36m \u001b[0mStatus: Paper \u001b[33mCount\u001b[0m=\u001b[1;36m5\u001b[0m | Relevant \u001b[33mPapers\u001b[0m=\u001b[1;36m1\u001b[0m | Current \u001b[33mEvidence\u001b[0m=\u001b[1;36m5\u001b[0m | Current \u001b[33mCost\u001b[0m=$\u001b[1;36m0.2617\u001b[0m                   \n"
      ]
     },
     "metadata": {},
     "output_type": "display_data"
    },
    {
     "data": {
      "text/html": [
       "<pre style=\"white-space:pre;overflow-x:auto;line-height:normal;font-family:Menlo,'DejaVu Sans Mono',consolas,'Courier New',monospace\"><span style=\"color: #7fbfbf; text-decoration-color: #7fbfbf\">[13:12:34] </span>Completing <span style=\"color: #008000; text-decoration-color: #008000\">'How large is the impact of beam window functions on the 2018 spectra in the baseline Plik </span>  \n",
       "<span style=\"color: #7fbfbf; text-decoration-color: #7fbfbf\">           </span><span style=\"color: #008000; text-decoration-color: #008000\">likelihood?'</span> as <span style=\"color: #008000; text-decoration-color: #008000\">'certain'</span>.                                                                              \n",
       "</pre>\n"
      ],
      "text/plain": [
       "\u001b[2;36m[13:12:34]\u001b[0m\u001b[2;36m \u001b[0mCompleting \u001b[32m'How large is the impact of beam window functions on the 2018 spectra in the baseline Plik \u001b[0m  \n",
       "\u001b[2;36m           \u001b[0m\u001b[32mlikelihood?'\u001b[0m as \u001b[32m'certain'\u001b[0m.                                                                              \n"
      ]
     },
     "metadata": {},
     "output_type": "display_data"
    },
    {
     "data": {
      "text/html": [
       "<pre style=\"white-space:pre;overflow-x:auto;line-height:normal;font-family:Menlo,'DejaVu Sans Mono',consolas,'Courier New',monospace\"><span style=\"color: #7fbfbf; text-decoration-color: #7fbfbf\">[13:12:36] </span><span style=\"color: #000080; text-decoration-color: #000080; font-weight: bold\">Answer: The impact of beam window functions on the </span><span style=\"color: #008080; text-decoration-color: #008080; font-weight: bold\">2018</span><span style=\"color: #000080; text-decoration-color: #000080; font-weight: bold\"> spectra in the baseline Plik likelihood is </span>     \n",
       "<span style=\"color: #7fbfbf; text-decoration-color: #7fbfbf\">           </span><span style=\"color: #000080; text-decoration-color: #000080; font-weight: bold\">relatively small. In the </span><span style=\"color: #008080; text-decoration-color: #008080; font-weight: bold\">2018</span><span style=\"color: #000080; text-decoration-color: #000080; font-weight: bold\"> Planck analysis, beam window functions were calculated for specific sky </span>  \n",
       "<span style=\"color: #7fbfbf; text-decoration-color: #7fbfbf\">           </span><span style=\"color: #000080; text-decoration-color: #000080; font-weight: bold\">fractions at each frequency, a change from the </span><span style=\"color: #008080; text-decoration-color: #008080; font-weight: bold\">2015</span><span style=\"color: #000080; text-decoration-color: #000080; font-weight: bold\"> analysis which assumed a uniform average sky </span>       \n",
       "<span style=\"color: #7fbfbf; text-decoration-color: #7fbfbf\">           </span><span style=\"color: #000080; text-decoration-color: #000080; font-weight: bold\">fraction across all frequencies. This adjustment resulted in only a minor effect on the spectra, </span>       \n",
       "<span style=\"color: #7fbfbf; text-decoration-color: #7fbfbf\">           </span><span style=\"color: #000080; text-decoration-color: #000080; font-weight: bold\">estimated to be around </span><span style=\"color: #008080; text-decoration-color: #008080; font-weight: bold\">0.1</span><span style=\"color: #000080; text-decoration-color: #000080; font-weight: bold\">% at multipole moment </span><span style=\"color: #808000; text-decoration-color: #808000; font-weight: bold\">ℓ</span><span style=\"color: #000080; text-decoration-color: #000080; font-weight: bold\">=</span><span style=\"color: #008080; text-decoration-color: #008080; font-weight: bold\">2000</span><span style=\"color: #000080; text-decoration-color: #000080; font-weight: bold\"> (aghanim2020&lt;</span><span style=\"color: #ff00ff; text-decoration-color: #ff00ff; font-weight: bold\">i</span><span style=\"color: #000000; text-decoration-color: #000000; font-weight: bold\">&gt;planck&lt;i&gt;2018results chunk </span><span style=\"color: #008080; text-decoration-color: #008080; font-weight: bold\">8</span><span style=\"color: #000000; text-decoration-color: #000000; font-weight: bold\">).</span>    \n",
       "<span style=\"color: #7fbfbf; text-decoration-color: #7fbfbf\">           </span>                                                                                                        \n",
       "<span style=\"color: #7fbfbf; text-decoration-color: #7fbfbf\">           </span><span style=\"color: #000000; text-decoration-color: #000000; font-weight: bold\">Moreover, corrections for systematic effects, including beam leakage and polarization efficiencies, </span>    \n",
       "<span style=\"color: #7fbfbf; text-decoration-color: #7fbfbf\">           </span><span style=\"color: #000000; text-decoration-color: #000000; font-weight: bold\">primarily drive the differences observed between the </span><span style=\"color: #008080; text-decoration-color: #008080; font-weight: bold\">2015</span><span style=\"color: #000000; text-decoration-color: #000000; font-weight: bold\"> and </span><span style=\"color: #008080; text-decoration-color: #008080; font-weight: bold\">2018</span><span style=\"color: #000000; text-decoration-color: #000000; font-weight: bold\"> results. The beam-leakage correction </span>\n",
       "<span style=\"color: #7fbfbf; text-decoration-color: #7fbfbf\">           </span><span style=\"color: #000000; text-decoration-color: #000000; font-weight: bold\">in the temperature-polarization cross-correlation likelihood (TE high-ℓ likelihood) notably influences </span> \n",
       "<span style=\"color: #7fbfbf; text-decoration-color: #7fbfbf\">           </span><span style=\"color: #000000; text-decoration-color: #000000; font-weight: bold\">parameters such as the baryon density (ω_b) and scalar spectral index (n_s) </span>                            \n",
       "<span style=\"color: #7fbfbf; text-decoration-color: #7fbfbf\">           </span><span style=\"color: #000000; text-decoration-color: #000000; font-weight: bold\">(aghanim2020&lt;i&gt;planck&lt;i&gt;2018results chunk </span><span style=\"color: #008080; text-decoration-color: #008080; font-weight: bold\">23</span><span style=\"color: #000000; text-decoration-color: #000000; font-weight: bold\">). </span>                                                         \n",
       "<span style=\"color: #7fbfbf; text-decoration-color: #7fbfbf\">           </span>                                                                                                        \n",
       "<span style=\"color: #7fbfbf; text-decoration-color: #7fbfbf\">           </span><span style=\"color: #000000; text-decoration-color: #000000; font-weight: bold\">Despite these corrections, the overall effect of beam window functions on cosmological parameter </span>       \n",
       "<span style=\"color: #7fbfbf; text-decoration-color: #7fbfbf\">           </span><span style=\"color: #000000; text-decoration-color: #000000; font-weight: bold\">determinations is considered minor, with variations largely attributed to methodological differences in </span>\n",
       "<span style=\"color: #7fbfbf; text-decoration-color: #7fbfbf\">           </span><span style=\"color: #000000; text-decoration-color: #000000; font-weight: bold\">likelihood construction rather than the beam window functions themselves </span>                               \n",
       "<span style=\"color: #7fbfbf; text-decoration-color: #7fbfbf\">           </span><span style=\"color: #000000; text-decoration-color: #000000; font-weight: bold\">(aghanim2020&lt;i&gt;planck&lt;i</span><span style=\"color: #000080; text-decoration-color: #000080; font-weight: bold\">&gt;2018results chunk </span><span style=\"color: #008080; text-decoration-color: #008080; font-weight: bold\">87</span><span style=\"color: #000080; text-decoration-color: #000080; font-weight: bold\">).</span>                                                          \n",
       "</pre>\n"
      ],
      "text/plain": [
       "\u001b[2;36m[13:12:36]\u001b[0m\u001b[2;36m \u001b[0m\u001b[1;34mAnswer: The impact of beam window functions on the \u001b[0m\u001b[1;36m2018\u001b[0m\u001b[1;34m spectra in the baseline Plik likelihood is \u001b[0m     \n",
       "\u001b[2;36m           \u001b[0m\u001b[1;34mrelatively small. In the \u001b[0m\u001b[1;36m2018\u001b[0m\u001b[1;34m Planck analysis, beam window functions were calculated for specific sky \u001b[0m  \n",
       "\u001b[2;36m           \u001b[0m\u001b[1;34mfractions at each frequency, a change from the \u001b[0m\u001b[1;36m2015\u001b[0m\u001b[1;34m analysis which assumed a uniform average sky \u001b[0m       \n",
       "\u001b[2;36m           \u001b[0m\u001b[1;34mfraction across all frequencies. This adjustment resulted in only a minor effect on the spectra, \u001b[0m       \n",
       "\u001b[2;36m           \u001b[0m\u001b[1;34mestimated to be around \u001b[0m\u001b[1;36m0.1\u001b[0m\u001b[1;34m% at multipole moment \u001b[0m\u001b[1;33mℓ\u001b[0m\u001b[1;34m=\u001b[0m\u001b[1;36m2000\u001b[0m\u001b[1;34m \u001b[0m\u001b[1;34m(\u001b[0m\u001b[1;34maghanim2020\u001b[0m\u001b[1;34m<\u001b[0m\u001b[1;95mi\u001b[0m\u001b[1;39m>planck<i>2018results chunk \u001b[0m\u001b[1;36m8\u001b[0m\u001b[1;39m)\u001b[0m\u001b[1;39m.\u001b[0m    \n",
       "\u001b[2;36m           \u001b[0m                                                                                                        \n",
       "\u001b[2;36m           \u001b[0m\u001b[1;39mMoreover, corrections for systematic effects, including beam leakage and polarization efficiencies, \u001b[0m    \n",
       "\u001b[2;36m           \u001b[0m\u001b[1;39mprimarily drive the differences observed between the \u001b[0m\u001b[1;36m2015\u001b[0m\u001b[1;39m and \u001b[0m\u001b[1;36m2018\u001b[0m\u001b[1;39m results. The beam-leakage correction \u001b[0m\n",
       "\u001b[2;36m           \u001b[0m\u001b[1;39min the temperature-polarization cross-correlation likelihood \u001b[0m\u001b[1;39m(\u001b[0m\u001b[1;39mTE high-ℓ likelihood\u001b[0m\u001b[1;39m)\u001b[0m\u001b[1;39m notably influences \u001b[0m \n",
       "\u001b[2;36m           \u001b[0m\u001b[1;39mparameters such as the baryon density \u001b[0m\u001b[1;39m(\u001b[0m\u001b[1;39mω_b\u001b[0m\u001b[1;39m)\u001b[0m\u001b[1;39m and scalar spectral index \u001b[0m\u001b[1;39m(\u001b[0m\u001b[1;39mn_s\u001b[0m\u001b[1;39m)\u001b[0m\u001b[1;39m \u001b[0m                            \n",
       "\u001b[2;36m           \u001b[0m\u001b[1;39m(\u001b[0m\u001b[1;39maghanim2020<i>planck<i>2018results chunk \u001b[0m\u001b[1;36m23\u001b[0m\u001b[1;39m)\u001b[0m\u001b[1;39m. \u001b[0m                                                         \n",
       "\u001b[2;36m           \u001b[0m                                                                                                        \n",
       "\u001b[2;36m           \u001b[0m\u001b[1;39mDespite these corrections, the overall effect of beam window functions on cosmological parameter \u001b[0m       \n",
       "\u001b[2;36m           \u001b[0m\u001b[1;39mdeterminations is considered minor, with variations largely attributed to methodological differences in \u001b[0m\n",
       "\u001b[2;36m           \u001b[0m\u001b[1;39mlikelihood construction rather than the beam window functions themselves \u001b[0m                               \n",
       "\u001b[2;36m           \u001b[0m\u001b[1;39m(\u001b[0m\u001b[1;39maghanim2020<i>planck<i\u001b[0m\u001b[1;34m>\u001b[0m\u001b[1;34m2018results chunk \u001b[0m\u001b[1;36m87\u001b[0m\u001b[1;34m)\u001b[0m\u001b[1;34m.\u001b[0m                                                          \n"
      ]
     },
     "metadata": {},
     "output_type": "display_data"
    },
    {
     "name": "stdout",
     "output_type": "stream",
     "text": [
      "CPU times: user 6.68 s, sys: 833 ms, total: 7.51 s\n",
      "Wall time: 2min 27s\n"
     ]
    }
   ],
   "source": [
    "%%time\n",
    "qid = 4\n",
    "question = qa['question'].iloc[qid]\n",
    "response = scirag.get_response(question)\n"
   ]
  },
  {
   "cell_type": "code",
   "execution_count": 10,
   "metadata": {},
   "outputs": [
    {
     "data": {
      "text/markdown": [
       "How large is the impact of beam window functions on the 2018 spectra in the baseline Plik likelihood?"
      ],
      "text/plain": [
       "<IPython.core.display.Markdown object>"
      ]
     },
     "metadata": {},
     "output_type": "display_data"
    }
   ],
   "source": [
    "display(Markdown(question))"
   ]
  },
  {
   "cell_type": "code",
   "execution_count": 11,
   "metadata": {},
   "outputs": [
    {
     "data": {
      "text/markdown": [
       "**Answer**:\n",
       "\n",
       "The impact of beam window functions on the 2018 spectra in the baseline Plik likelihood is relatively small. In the 2018 Planck analysis, beam window functions were calculated for specific sky fractions at each frequency, a change from the 2015 analysis which assumed a uniform average sky fraction across all frequencies. This adjustment resulted in only a minor effect on the spectra, estimated to be around 0.1% at multipole moment ℓ=2000 . Moreover, corrections for systematic effects, including beam leakage and polarization efficiencies, primarily drive the differences observed between the 2015 and 2018 results. The beam-leakage correction in the temperature-polarization cross-correlation likelihood (TE high-ℓ likelihood) notably influences parameters such as the baryon density (ω_b) and scalar spectral index (n_s) . Despite these corrections, the overall effect of beam window functions on cosmological parameter determinations is considered minor, with variations largely attributed to methodological differences in likelihood construction rather than the beam window functions themselves .\n",
       "\n",
       "**Sources**:\n",
       "\n",
       "aghanim2020<i>planck<i>2018results chunk 8, aghanim2020<i>planck<i>2018results chunk 23, aghanim2020<i>planck<i>2018results chunk 87\n"
      ],
      "text/plain": [
       "<IPython.core.display.Markdown object>"
      ]
     },
     "metadata": {},
     "output_type": "display_data"
    }
   ],
   "source": [
    "display(Markdown(response.answer))"
   ]
  },
  {
   "cell_type": "code",
   "execution_count": 12,
   "metadata": {},
   "outputs": [
    {
     "data": {
      "text/plain": [
       "'approximately 0.1% at l=2000'"
      ]
     },
     "execution_count": 12,
     "metadata": {},
     "output_type": "execute_result"
    }
   ],
   "source": [
    "qa['ideal'].iloc[qid]"
   ]
  },
  {
   "cell_type": "code",
   "execution_count": 13,
   "metadata": {},
   "outputs": [
    {
     "data": {
      "text/plain": [
       "'p6; sec2.2.1'"
      ]
     },
     "execution_count": 13,
     "metadata": {},
     "output_type": "execute_result"
    }
   ],
   "source": [
    "\n",
    "qa['Location'].iloc[qid]"
   ]
  },
  {
   "cell_type": "code",
   "execution_count": 14,
   "metadata": {},
   "outputs": [],
   "source": [
    "scirag.cost_dict()"
   ]
  }
 ],
 "metadata": {
  "kernelspec": {
   "display_name": "myenv",
   "language": "python",
   "name": "python3"
  },
  "language_info": {
   "codemirror_mode": {
    "name": "ipython",
    "version": 3
   },
   "file_extension": ".py",
   "mimetype": "text/x-python",
   "name": "python",
   "nbconvert_exporter": "python",
   "pygments_lexer": "ipython3",
   "version": "3.11.11"
  }
 },
 "nbformat": 4,
 "nbformat_minor": 2
}
