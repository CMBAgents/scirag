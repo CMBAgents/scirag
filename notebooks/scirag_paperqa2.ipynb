{
 "cells": [
  {
   "cell_type": "code",
   "execution_count": 1,
   "metadata": {},
   "outputs": [],
   "source": [
    "import os\n",
    "from dotenv import load_dotenv\n",
    "load_dotenv()\n",
    "os.environ[\"GOOGLE_APPLICATION_CREDENTIALS\"] = \"gemini.json\"\n",
    "\n",
    "api_key = os.environ.get(\"OPENAI_API_KEY\")\n",
    "if api_key is None:\n",
    "    raise RuntimeError(\"Please set the OPENAI_API_KEY \")"
   ]
  },
  {
   "cell_type": "code",
   "execution_count": 19,
   "metadata": {},
   "outputs": [
    {
     "name": "stdout",
     "output_type": "stream",
     "text": [
      "[SciRagPaperQA2] Building index on initialization...\n",
      "[SciRagPaperQA2] Checking for paper directory: /Users/apple/Documents/GitHub/scirag_paperqa/scirag/txt_files\n",
      "[SciRagPaperQA2] Building PaperQA2 document index (only happens once)...\n",
      "Using index: pqa_index_969208873c16842f6232653a9eca7e7a\n",
      "Index files: {'2201.02202v1.txt': 'a569bb587a9091300ba2f479aba3efc8', '1604.01424v3.txt': '70196f1a55258dc0d6ece83887dec601', '1807.06209v4.txt': '61f1a51953008a179d876dded8a7f3a1', '2010.00619v2.txt': 'cc0b6c6c76fe9a1b9132c0dd9de161bf', '2503.14454v1.txt': 'cc44e168db0f207acfe5c6a6f185e266'}\n",
      "[SciRagPaperQA2] Index built successfully.\n"
     ]
    }
   ],
   "source": [
    "from IPython.display import display, Markdown\n",
    "from scirag import SciRagPaperQA2, SciRagDataSet\n",
    "\n",
    "scirag = SciRagPaperQA2()\n",
    "dataset = SciRagDataSet()"
   ]
  },
  {
   "cell_type": "code",
   "execution_count": 12,
   "metadata": {},
   "outputs": [],
   "source": [
    "qa = dataset.load_dataset()"
   ]
  },
  {
   "cell_type": "code",
   "execution_count": 4,
   "metadata": {},
   "outputs": [
    {
     "data": {
      "text/html": [
       "<pre style=\"white-space:pre;overflow-x:auto;line-height:normal;font-family:Menlo,'DejaVu Sans Mono',consolas,'Courier New',monospace\"><span style=\"color: #7fbfbf; text-decoration-color: #7fbfbf\">[21:04:06] </span>Starting paper search for <span style=\"color: #008000; text-decoration-color: #008000\">'CMB monopole temperature 68% confidence P-ACT-LB dataset'</span>.                   \n",
       "</pre>\n"
      ],
      "text/plain": [
       "\u001b[2;36m[21:04:06]\u001b[0m\u001b[2;36m \u001b[0mStarting paper search for \u001b[32m'CMB monopole temperature 68% confidence P-ACT-LB dataset'\u001b[0m.                   \n"
      ]
     },
     "metadata": {},
     "output_type": "display_data"
    },
    {
     "data": {
      "text/html": [
       "<pre style=\"white-space:pre;overflow-x:auto;line-height:normal;font-family:Menlo,'DejaVu Sans Mono',consolas,'Courier New',monospace\"><span style=\"color: #7fbfbf; text-decoration-color: #7fbfbf\">           </span>paper_search for query <span style=\"color: #008000; text-decoration-color: #008000\">'CMB monopole temperature 68% confidence P-ACT-LB dataset'</span> and offset <span style=\"color: #008080; text-decoration-color: #008080; font-weight: bold\">0</span> returned \n",
       "<span style=\"color: #7fbfbf; text-decoration-color: #7fbfbf\">           </span><span style=\"color: #008080; text-decoration-color: #008080; font-weight: bold\">5</span> papers.                                                                                               \n",
       "</pre>\n"
      ],
      "text/plain": [
       "\u001b[2;36m          \u001b[0m\u001b[2;36m \u001b[0mpaper_search for query \u001b[32m'CMB monopole temperature 68% confidence P-ACT-LB dataset'\u001b[0m and offset \u001b[1;36m0\u001b[0m returned \n",
       "\u001b[2;36m           \u001b[0m\u001b[1;36m5\u001b[0m papers.                                                                                               \n"
      ]
     },
     "metadata": {},
     "output_type": "display_data"
    },
    {
     "data": {
      "text/html": [
       "<pre style=\"white-space:pre;overflow-x:auto;line-height:normal;font-family:Menlo,'DejaVu Sans Mono',consolas,'Courier New',monospace\"><span style=\"color: #7fbfbf; text-decoration-color: #7fbfbf\">           </span>Status: Paper <span style=\"color: #808000; text-decoration-color: #808000\">Count</span>=<span style=\"color: #008080; text-decoration-color: #008080; font-weight: bold\">5</span> | Relevant <span style=\"color: #808000; text-decoration-color: #808000\">Papers</span>=<span style=\"color: #008080; text-decoration-color: #008080; font-weight: bold\">0</span> | Current <span style=\"color: #808000; text-decoration-color: #808000\">Evidence</span>=<span style=\"color: #008080; text-decoration-color: #008080; font-weight: bold\">0</span> | Current <span style=\"color: #808000; text-decoration-color: #808000\">Cost</span>=$<span style=\"color: #008080; text-decoration-color: #008080; font-weight: bold\">0.0016</span>                   \n",
       "</pre>\n"
      ],
      "text/plain": [
       "\u001b[2;36m          \u001b[0m\u001b[2;36m \u001b[0mStatus: Paper \u001b[33mCount\u001b[0m=\u001b[1;36m5\u001b[0m | Relevant \u001b[33mPapers\u001b[0m=\u001b[1;36m0\u001b[0m | Current \u001b[33mEvidence\u001b[0m=\u001b[1;36m0\u001b[0m | Current \u001b[33mCost\u001b[0m=$\u001b[1;36m0.0016\u001b[0m                   \n"
      ]
     },
     "metadata": {},
     "output_type": "display_data"
    },
    {
     "data": {
      "text/html": [
       "<pre style=\"white-space:pre;overflow-x:auto;line-height:normal;font-family:Menlo,'DejaVu Sans Mono',consolas,'Courier New',monospace\"><span style=\"color: #7fbfbf; text-decoration-color: #7fbfbf\">[21:04:07] </span>gather_evidence starting for question <span style=\"color: #008000; text-decoration-color: #008000\">'What is the CMB monopole temperature at the 68% CL, according to </span>\n",
       "<span style=\"color: #7fbfbf; text-decoration-color: #7fbfbf\">           </span><span style=\"color: #008000; text-decoration-color: #008000\">the P-ACT-LB dataset?'</span>.                                                                                 \n",
       "</pre>\n"
      ],
      "text/plain": [
       "\u001b[2;36m[21:04:07]\u001b[0m\u001b[2;36m \u001b[0mgather_evidence starting for question \u001b[32m'What is the CMB monopole temperature at the 68% CL, according to \u001b[0m\n",
       "\u001b[2;36m           \u001b[0m\u001b[32mthe P-ACT-LB dataset?'\u001b[0m.                                                                                 \n"
      ]
     },
     "metadata": {},
     "output_type": "display_data"
    },
    {
     "data": {
      "text/html": [
       "<pre style=\"white-space:pre;overflow-x:auto;line-height:normal;font-family:Menlo,'DejaVu Sans Mono',consolas,'Courier New',monospace\"><span style=\"color: #7fbfbf; text-decoration-color: #7fbfbf\">[21:06:13] </span>Status: Paper <span style=\"color: #808000; text-decoration-color: #808000\">Count</span>=<span style=\"color: #008080; text-decoration-color: #008080; font-weight: bold\">5</span> | Relevant <span style=\"color: #808000; text-decoration-color: #808000\">Papers</span>=<span style=\"color: #008080; text-decoration-color: #008080; font-weight: bold\">2</span> | Current <span style=\"color: #808000; text-decoration-color: #808000\">Evidence</span>=<span style=\"color: #008080; text-decoration-color: #008080; font-weight: bold\">8</span> | Current <span style=\"color: #808000; text-decoration-color: #808000\">Cost</span>=$<span style=\"color: #008080; text-decoration-color: #008080; font-weight: bold\">0.2018</span>                   \n",
       "</pre>\n"
      ],
      "text/plain": [
       "\u001b[2;36m[21:06:13]\u001b[0m\u001b[2;36m \u001b[0mStatus: Paper \u001b[33mCount\u001b[0m=\u001b[1;36m5\u001b[0m | Relevant \u001b[33mPapers\u001b[0m=\u001b[1;36m2\u001b[0m | Current \u001b[33mEvidence\u001b[0m=\u001b[1;36m8\u001b[0m | Current \u001b[33mCost\u001b[0m=$\u001b[1;36m0.2018\u001b[0m                   \n"
      ]
     },
     "metadata": {},
     "output_type": "display_data"
    },
    {
     "data": {
      "text/html": [
       "<pre style=\"white-space:pre;overflow-x:auto;line-height:normal;font-family:Menlo,'DejaVu Sans Mono',consolas,'Courier New',monospace\"><span style=\"color: #7fbfbf; text-decoration-color: #7fbfbf\">[21:06:14] </span>Generating answer for <span style=\"color: #008000; text-decoration-color: #008000\">'What is the CMB monopole temperature at the 68% CL, according to the P-ACT-LB </span>   \n",
       "<span style=\"color: #7fbfbf; text-decoration-color: #7fbfbf\">           </span><span style=\"color: #008000; text-decoration-color: #008000\">dataset?'</span>.                                                                                              \n",
       "</pre>\n"
      ],
      "text/plain": [
       "\u001b[2;36m[21:06:14]\u001b[0m\u001b[2;36m \u001b[0mGenerating answer for \u001b[32m'What is the CMB monopole temperature at the 68% CL, according to the P-ACT-LB \u001b[0m   \n",
       "\u001b[2;36m           \u001b[0m\u001b[32mdataset?'\u001b[0m.                                                                                              \n"
      ]
     },
     "metadata": {},
     "output_type": "display_data"
    },
    {
     "data": {
      "text/html": [
       "<pre style=\"white-space:pre;overflow-x:auto;line-height:normal;font-family:Menlo,'DejaVu Sans Mono',consolas,'Courier New',monospace\"><span style=\"color: #7fbfbf; text-decoration-color: #7fbfbf\">[21:06:15] </span>Status: Paper <span style=\"color: #808000; text-decoration-color: #808000\">Count</span>=<span style=\"color: #008080; text-decoration-color: #008080; font-weight: bold\">5</span> | Relevant <span style=\"color: #808000; text-decoration-color: #808000\">Papers</span>=<span style=\"color: #008080; text-decoration-color: #008080; font-weight: bold\">2</span> | Current <span style=\"color: #808000; text-decoration-color: #808000\">Evidence</span>=<span style=\"color: #008080; text-decoration-color: #008080; font-weight: bold\">8</span> | Current <span style=\"color: #808000; text-decoration-color: #808000\">Cost</span>=$<span style=\"color: #008080; text-decoration-color: #008080; font-weight: bold\">0.2166</span>                   \n",
       "</pre>\n"
      ],
      "text/plain": [
       "\u001b[2;36m[21:06:15]\u001b[0m\u001b[2;36m \u001b[0mStatus: Paper \u001b[33mCount\u001b[0m=\u001b[1;36m5\u001b[0m | Relevant \u001b[33mPapers\u001b[0m=\u001b[1;36m2\u001b[0m | Current \u001b[33mEvidence\u001b[0m=\u001b[1;36m8\u001b[0m | Current \u001b[33mCost\u001b[0m=$\u001b[1;36m0.2166\u001b[0m                   \n"
      ]
     },
     "metadata": {},
     "output_type": "display_data"
    },
    {
     "data": {
      "text/html": [
       "<pre style=\"white-space:pre;overflow-x:auto;line-height:normal;font-family:Menlo,'DejaVu Sans Mono',consolas,'Courier New',monospace\"><span style=\"color: #7fbfbf; text-decoration-color: #7fbfbf\">[21:06:16] </span>Completing <span style=\"color: #008000; text-decoration-color: #008000\">'What is the CMB monopole temperature at the 68% CL, according to the P-ACT-LB dataset?'</span> as  \n",
       "<span style=\"color: #7fbfbf; text-decoration-color: #7fbfbf\">           </span><span style=\"color: #008000; text-decoration-color: #008000\">'certain'</span>.                                                                                              \n",
       "</pre>\n"
      ],
      "text/plain": [
       "\u001b[2;36m[21:06:16]\u001b[0m\u001b[2;36m \u001b[0mCompleting \u001b[32m'What is the CMB monopole temperature at the 68% CL, according to the P-ACT-LB dataset?'\u001b[0m as  \n",
       "\u001b[2;36m           \u001b[0m\u001b[32m'certain'\u001b[0m.                                                                                              \n"
      ]
     },
     "metadata": {},
     "output_type": "display_data"
    },
    {
     "data": {
      "text/html": [
       "<pre style=\"white-space:pre;overflow-x:auto;line-height:normal;font-family:Menlo,'DejaVu Sans Mono',consolas,'Courier New',monospace\"><span style=\"color: #7fbfbf; text-decoration-color: #7fbfbf\">[21:06:17] </span><span style=\"color: #000080; text-decoration-color: #000080; font-weight: bold\">Answer: The CMB monopole temperature at the </span><span style=\"color: #008080; text-decoration-color: #008080; font-weight: bold\">68</span><span style=\"color: #000080; text-decoration-color: #000080; font-weight: bold\">% confidence level (CL), according to the P-ACT-LB </span>       \n",
       "<span style=\"color: #7fbfbf; text-decoration-color: #7fbfbf\">           </span><span style=\"color: #000080; text-decoration-color: #000080; font-weight: bold\">dataset, is T_CMB = </span><span style=\"color: #008080; text-decoration-color: #008080; font-weight: bold\">2.698</span><span style=\"color: #000080; text-decoration-color: #000080; font-weight: bold\"> ± </span><span style=\"color: #008080; text-decoration-color: #008080; font-weight: bold\">0.016</span><span style=\"color: #000080; text-decoration-color: #000080; font-weight: bold\"> K (calabrese2025theatacamacosmology chunk </span><span style=\"color: #008080; text-decoration-color: #008080; font-weight: bold\">2</span><span style=\"color: #000080; text-decoration-color: #000080; font-weight: bold\">, </span>                         \n",
       "<span style=\"color: #7fbfbf; text-decoration-color: #7fbfbf\">           </span><span style=\"color: #000080; text-decoration-color: #000080; font-weight: bold\">calabrese2025theatacamacosmology chunk </span><span style=\"color: #008080; text-decoration-color: #008080; font-weight: bold\">22</span><span style=\"color: #000080; text-decoration-color: #000080; font-weight: bold\">).</span>                                                             \n",
       "</pre>\n"
      ],
      "text/plain": [
       "\u001b[2;36m[21:06:17]\u001b[0m\u001b[2;36m \u001b[0m\u001b[1;34mAnswer: The CMB monopole temperature at the \u001b[0m\u001b[1;36m68\u001b[0m\u001b[1;34m% confidence level \u001b[0m\u001b[1;34m(\u001b[0m\u001b[1;34mCL\u001b[0m\u001b[1;34m)\u001b[0m\u001b[1;34m, according to the P-ACT-LB \u001b[0m       \n",
       "\u001b[2;36m           \u001b[0m\u001b[1;34mdataset, is T_CMB = \u001b[0m\u001b[1;36m2.698\u001b[0m\u001b[1;34m ± \u001b[0m\u001b[1;36m0.016\u001b[0m\u001b[1;34m K \u001b[0m\u001b[1;34m(\u001b[0m\u001b[1;34mcalabrese2025theatacamacosmology chunk \u001b[0m\u001b[1;36m2\u001b[0m\u001b[1;34m, \u001b[0m                         \n",
       "\u001b[2;36m           \u001b[0m\u001b[1;34mcalabrese2025theatacamacosmology chunk \u001b[0m\u001b[1;36m22\u001b[0m\u001b[1;34m)\u001b[0m\u001b[1;34m.\u001b[0m                                                             \n"
      ]
     },
     "metadata": {},
     "output_type": "display_data"
    },
    {
     "name": "stdout",
     "output_type": "stream",
     "text": [
      "CPU times: user 5.96 s, sys: 688 ms, total: 6.65 s\n",
      "Wall time: 2min 15s\n"
     ]
    }
   ],
   "source": [
    "%%time\n",
    "qid = 104\n",
    "question = qa['question'].iloc[qid]\n",
    "response = scirag.get_response(question)\n"
   ]
  },
  {
   "cell_type": "code",
   "execution_count": 51,
   "metadata": {},
   "outputs": [],
   "source": [
    "qid = 103"
   ]
  },
  {
   "cell_type": "code",
   "execution_count": 52,
   "metadata": {},
   "outputs": [
    {
     "data": {
      "text/markdown": [
       "What is the CMB monopole temperature at the 68% CL, according to the P-ACT-LB dataset?"
      ],
      "text/plain": [
       "<IPython.core.display.Markdown object>"
      ]
     },
     "metadata": {},
     "output_type": "display_data"
    }
   ],
   "source": [
    "display(Markdown(question))"
   ]
  },
  {
   "cell_type": "code",
   "execution_count": 50,
   "metadata": {},
   "outputs": [
    {
     "data": {
      "text/markdown": [
       "No. The range of H_0 given by the models studied in the ACT DR6 paper is still lower than the 2024 SH0ES measurement of H_0."
      ],
      "text/plain": [
       "<IPython.core.display.Markdown object>"
      ]
     },
     "metadata": {},
     "output_type": "display_data"
    }
   ],
   "source": [
    "display(Markdown(qa['ideal'].iloc[qid]))"
   ]
  },
  {
   "cell_type": "code",
   "execution_count": 8,
   "metadata": {},
   "outputs": [
    {
     "data": {
      "text/plain": [
       "'p25; sec5.4'"
      ]
     },
     "execution_count": 8,
     "metadata": {},
     "output_type": "execute_result"
    }
   ],
   "source": [
    "\n",
    "qa['Location'].iloc[qid]"
   ]
  }
 ],
 "metadata": {
  "kernelspec": {
   "display_name": "myenv",
   "language": "python",
   "name": "python3"
  },
  "language_info": {
   "codemirror_mode": {
    "name": "ipython",
    "version": 3
   },
   "file_extension": ".py",
   "mimetype": "text/x-python",
   "name": "python",
   "nbconvert_exporter": "python",
   "pygments_lexer": "ipython3",
   "version": "3.11.11"
  }
 },
 "nbformat": 4,
 "nbformat_minor": 2
}
