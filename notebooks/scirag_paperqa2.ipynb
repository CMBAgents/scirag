{
 "cells": [
  {
   "cell_type": "code",
   "execution_count": 1,
   "metadata": {},
   "outputs": [],
   "source": [
    "import os\n",
    "from dotenv import load_dotenv\n",
    "load_dotenv()\n",
    "os.environ[\"GOOGLE_APPLICATION_CREDENTIALS\"] = \"gemini.json\"\n",
    "\n",
    "api_key = os.environ.get(\"OPENAI_API_KEY\")\n",
    "if api_key is None:\n",
    "    raise RuntimeError(\"Please set the OPENAI_API_KEY \")"
   ]
  },
  {
   "cell_type": "code",
   "execution_count": null,
   "metadata": {},
   "outputs": [
    {
     "data": {
      "text/html": [
       "<pre style=\"white-space:pre;overflow-x:auto;line-height:normal;font-family:Menlo,'DejaVu Sans Mono',consolas,'Courier New',monospace\"><span style=\"color: #7fbfbf; text-decoration-color: #7fbfbf\">[14:27:20] </span>Starting paper search for <span style=\"color: #008000; text-decoration-color: #008000\">'impact of beam window functions on 2018 spectra baseline Plik likelihood'</span>.   \n",
       "</pre>\n"
      ],
      "text/plain": [
       "\u001b[2;36m[14:27:20]\u001b[0m\u001b[2;36m \u001b[0mStarting paper search for \u001b[32m'impact of beam window functions on 2018 spectra baseline Plik likelihood'\u001b[0m.   \n"
      ]
     },
     "metadata": {},
     "output_type": "display_data"
    },
    {
     "data": {
      "text/html": [
       "<pre style=\"white-space:pre;overflow-x:auto;line-height:normal;font-family:Menlo,'DejaVu Sans Mono',consolas,'Courier New',monospace\"><span style=\"color: #7fbfbf; text-decoration-color: #7fbfbf\">           </span>paper_search for query <span style=\"color: #008000; text-decoration-color: #008000\">'impact of beam window functions on 2018 spectra baseline Plik likelihood'</span> and   \n",
       "<span style=\"color: #7fbfbf; text-decoration-color: #7fbfbf\">           </span>offset <span style=\"color: #008080; text-decoration-color: #008080; font-weight: bold\">0</span> returned <span style=\"color: #008080; text-decoration-color: #008080; font-weight: bold\">5</span> papers.                                                                             \n",
       "</pre>\n"
      ],
      "text/plain": [
       "\u001b[2;36m          \u001b[0m\u001b[2;36m \u001b[0mpaper_search for query \u001b[32m'impact of beam window functions on 2018 spectra baseline Plik likelihood'\u001b[0m and   \n",
       "\u001b[2;36m           \u001b[0moffset \u001b[1;36m0\u001b[0m returned \u001b[1;36m5\u001b[0m papers.                                                                             \n"
      ]
     },
     "metadata": {},
     "output_type": "display_data"
    },
    {
     "data": {
      "text/html": [
       "<pre style=\"white-space:pre;overflow-x:auto;line-height:normal;font-family:Menlo,'DejaVu Sans Mono',consolas,'Courier New',monospace\"><span style=\"color: #7fbfbf; text-decoration-color: #7fbfbf\">           </span>Status: Paper <span style=\"color: #808000; text-decoration-color: #808000\">Count</span>=<span style=\"color: #008080; text-decoration-color: #008080; font-weight: bold\">5</span> | Relevant <span style=\"color: #808000; text-decoration-color: #808000\">Papers</span>=<span style=\"color: #008080; text-decoration-color: #008080; font-weight: bold\">0</span> | Current <span style=\"color: #808000; text-decoration-color: #808000\">Evidence</span>=<span style=\"color: #008080; text-decoration-color: #008080; font-weight: bold\">0</span> | Current <span style=\"color: #808000; text-decoration-color: #808000\">Cost</span>=$<span style=\"color: #008080; text-decoration-color: #008080; font-weight: bold\">0.0001</span>                   \n",
       "</pre>\n"
      ],
      "text/plain": [
       "\u001b[2;36m          \u001b[0m\u001b[2;36m \u001b[0mStatus: Paper \u001b[33mCount\u001b[0m=\u001b[1;36m5\u001b[0m | Relevant \u001b[33mPapers\u001b[0m=\u001b[1;36m0\u001b[0m | Current \u001b[33mEvidence\u001b[0m=\u001b[1;36m0\u001b[0m | Current \u001b[33mCost\u001b[0m=$\u001b[1;36m0.0001\u001b[0m                   \n"
      ]
     },
     "metadata": {},
     "output_type": "display_data"
    },
    {
     "data": {
      "text/html": [
       "<pre style=\"white-space:pre;overflow-x:auto;line-height:normal;font-family:Menlo,'DejaVu Sans Mono',consolas,'Courier New',monospace\"><span style=\"color: #7fbfbf; text-decoration-color: #7fbfbf\">[14:27:21] </span>gather_evidence starting for question <span style=\"color: #008000; text-decoration-color: #008000\">'How large is the impact of beam window functions on the 2018 </span>    \n",
       "<span style=\"color: #7fbfbf; text-decoration-color: #7fbfbf\">           </span><span style=\"color: #008000; text-decoration-color: #008000\">spectra in the baseline Plik likelihood?'</span>.                                                              \n",
       "</pre>\n"
      ],
      "text/plain": [
       "\u001b[2;36m[14:27:21]\u001b[0m\u001b[2;36m \u001b[0mgather_evidence starting for question \u001b[32m'How large is the impact of beam window functions on the 2018 \u001b[0m    \n",
       "\u001b[2;36m           \u001b[0m\u001b[32mspectra in the baseline Plik likelihood?'\u001b[0m.                                                              \n"
      ]
     },
     "metadata": {},
     "output_type": "display_data"
    },
    {
     "ename": "KeyboardInterrupt",
     "evalue": "",
     "output_type": "error",
     "traceback": [
      "\u001b[0;31m---------------------------------------------------------------------------\u001b[0m\n",
      "\u001b[0;31mKeyboardInterrupt\u001b[0m                         Traceback (most recent call last)\n",
      "File \u001b[0;32m<timed exec>:3\u001b[0m\n",
      "\n",
      "File \u001b[0;32m~/Documents/GitHub/scirag_paperqa/scirag/scirag/scirag_paperqa2.py:55\u001b[0m, in \u001b[0;36mSciRagPaperQA2.get_response\u001b[0;34m(self, query)\u001b[0m\n",
      "\u001b[1;32m     53\u001b[0m \u001b[38;5;28;01mdef\u001b[39;00m\u001b[38;5;250m \u001b[39m\u001b[38;5;21mget_response\u001b[39m(\u001b[38;5;28mself\u001b[39m, query: \u001b[38;5;28mstr\u001b[39m) \u001b[38;5;241m-\u001b[39m\u001b[38;5;241m>\u001b[39m AnswerFormat:\n",
      "\u001b[1;32m     54\u001b[0m     loop \u001b[38;5;241m=\u001b[39m asyncio\u001b[38;5;241m.\u001b[39mget_event_loop()\n",
      "\u001b[0;32m---> 55\u001b[0m     answer_text \u001b[38;5;241m=\u001b[39m \u001b[43mloop\u001b[49m\u001b[38;5;241;43m.\u001b[39;49m\u001b[43mrun_until_complete\u001b[49m\u001b[43m(\u001b[49m\u001b[38;5;28;43mself\u001b[39;49m\u001b[38;5;241;43m.\u001b[39;49m\u001b[43mquery_paperqa\u001b[49m\u001b[43m(\u001b[49m\u001b[43mquery\u001b[49m\u001b[43m)\u001b[49m\u001b[43m)\u001b[49m\n",
      "\u001b[1;32m     56\u001b[0m     \u001b[38;5;66;03m# Extract sources from the answer text\u001b[39;00m\n",
      "\u001b[1;32m     57\u001b[0m     answer, sources \u001b[38;5;241m=\u001b[39m \u001b[38;5;28mself\u001b[39m\u001b[38;5;241m.\u001b[39mextract_answer_and_sources(answer_text)\n",
      "\n",
      "File \u001b[0;32m~/opt/anaconda3/envs/myenv/lib/python3.11/site-packages/nest_asyncio.py:92\u001b[0m, in \u001b[0;36m_patch_loop.<locals>.run_until_complete\u001b[0;34m(self, future)\u001b[0m\n",
      "\u001b[1;32m     90\u001b[0m     f\u001b[38;5;241m.\u001b[39m_log_destroy_pending \u001b[38;5;241m=\u001b[39m \u001b[38;5;28;01mFalse\u001b[39;00m\n",
      "\u001b[1;32m     91\u001b[0m \u001b[38;5;28;01mwhile\u001b[39;00m \u001b[38;5;129;01mnot\u001b[39;00m f\u001b[38;5;241m.\u001b[39mdone():\n",
      "\u001b[0;32m---> 92\u001b[0m     \u001b[38;5;28;43mself\u001b[39;49m\u001b[38;5;241;43m.\u001b[39;49m\u001b[43m_run_once\u001b[49m\u001b[43m(\u001b[49m\u001b[43m)\u001b[49m\n",
      "\u001b[1;32m     93\u001b[0m     \u001b[38;5;28;01mif\u001b[39;00m \u001b[38;5;28mself\u001b[39m\u001b[38;5;241m.\u001b[39m_stopping:\n",
      "\u001b[1;32m     94\u001b[0m         \u001b[38;5;28;01mbreak\u001b[39;00m\n",
      "\n",
      "File \u001b[0;32m~/opt/anaconda3/envs/myenv/lib/python3.11/site-packages/nest_asyncio.py:133\u001b[0m, in \u001b[0;36m_patch_loop.<locals>._run_once\u001b[0;34m(self)\u001b[0m\n",
      "\u001b[1;32m    130\u001b[0m curr_task \u001b[38;5;241m=\u001b[39m curr_tasks\u001b[38;5;241m.\u001b[39mpop(\u001b[38;5;28mself\u001b[39m, \u001b[38;5;28;01mNone\u001b[39;00m)\n",
      "\u001b[1;32m    132\u001b[0m \u001b[38;5;28;01mtry\u001b[39;00m:\n",
      "\u001b[0;32m--> 133\u001b[0m     \u001b[43mhandle\u001b[49m\u001b[38;5;241;43m.\u001b[39;49m\u001b[43m_run\u001b[49m\u001b[43m(\u001b[49m\u001b[43m)\u001b[49m\n",
      "\u001b[1;32m    134\u001b[0m \u001b[38;5;28;01mfinally\u001b[39;00m:\n",
      "\u001b[1;32m    135\u001b[0m     \u001b[38;5;66;03m# restore the current task\u001b[39;00m\n",
      "\u001b[1;32m    136\u001b[0m     \u001b[38;5;28;01mif\u001b[39;00m curr_task \u001b[38;5;129;01mis\u001b[39;00m \u001b[38;5;129;01mnot\u001b[39;00m \u001b[38;5;28;01mNone\u001b[39;00m:\n",
      "\n",
      "File \u001b[0;32m~/opt/anaconda3/envs/myenv/lib/python3.11/asyncio/events.py:84\u001b[0m, in \u001b[0;36mHandle._run\u001b[0;34m(self)\u001b[0m\n",
      "\u001b[1;32m     82\u001b[0m \u001b[38;5;28;01mdef\u001b[39;00m\u001b[38;5;250m \u001b[39m\u001b[38;5;21m_run\u001b[39m(\u001b[38;5;28mself\u001b[39m):\n",
      "\u001b[1;32m     83\u001b[0m     \u001b[38;5;28;01mtry\u001b[39;00m:\n",
      "\u001b[0;32m---> 84\u001b[0m         \u001b[38;5;28;43mself\u001b[39;49m\u001b[38;5;241;43m.\u001b[39;49m\u001b[43m_context\u001b[49m\u001b[38;5;241;43m.\u001b[39;49m\u001b[43mrun\u001b[49m\u001b[43m(\u001b[49m\u001b[38;5;28;43mself\u001b[39;49m\u001b[38;5;241;43m.\u001b[39;49m\u001b[43m_callback\u001b[49m\u001b[43m,\u001b[49m\u001b[43m \u001b[49m\u001b[38;5;241;43m*\u001b[39;49m\u001b[38;5;28;43mself\u001b[39;49m\u001b[38;5;241;43m.\u001b[39;49m\u001b[43m_args\u001b[49m\u001b[43m)\u001b[49m\n",
      "\u001b[1;32m     85\u001b[0m     \u001b[38;5;28;01mexcept\u001b[39;00m (\u001b[38;5;167;01mSystemExit\u001b[39;00m, \u001b[38;5;167;01mKeyboardInterrupt\u001b[39;00m):\n",
      "\u001b[1;32m     86\u001b[0m         \u001b[38;5;28;01mraise\u001b[39;00m\n",
      "\n",
      "File \u001b[0;32m~/opt/anaconda3/envs/myenv/lib/python3.11/asyncio/tasks.py:277\u001b[0m, in \u001b[0;36mTask.__step\u001b[0;34m(***failed resolving arguments***)\u001b[0m\n",
      "\u001b[1;32m    273\u001b[0m \u001b[38;5;28;01mtry\u001b[39;00m:\n",
      "\u001b[1;32m    274\u001b[0m     \u001b[38;5;28;01mif\u001b[39;00m exc \u001b[38;5;129;01mis\u001b[39;00m \u001b[38;5;28;01mNone\u001b[39;00m:\n",
      "\u001b[1;32m    275\u001b[0m         \u001b[38;5;66;03m# We use the `send` method directly, because coroutines\u001b[39;00m\n",
      "\u001b[1;32m    276\u001b[0m         \u001b[38;5;66;03m# don't have `__iter__` and `__next__` methods.\u001b[39;00m\n",
      "\u001b[0;32m--> 277\u001b[0m         result \u001b[38;5;241m=\u001b[39m coro\u001b[38;5;241m.\u001b[39msend(\u001b[38;5;28;01mNone\u001b[39;00m)\n",
      "\u001b[1;32m    278\u001b[0m     \u001b[38;5;28;01melse\u001b[39;00m:\n",
      "\u001b[1;32m    279\u001b[0m         result \u001b[38;5;241m=\u001b[39m coro\u001b[38;5;241m.\u001b[39mthrow(exc)\n",
      "\n",
      "File \u001b[0;32m~/Documents/GitHub/scirag_paperqa/scirag/scirag/scirag_paperqa2.py:75\u001b[0m, in \u001b[0;36mSciRagPaperQA2.query_paperqa\u001b[0;34m(self, query)\u001b[0m\n",
      "\u001b[1;32m     73\u001b[0m \u001b[38;5;28;01masync\u001b[39;00m \u001b[38;5;28;01mdef\u001b[39;00m\u001b[38;5;250m \u001b[39m\u001b[38;5;21mquery_paperqa\u001b[39m(\u001b[38;5;28mself\u001b[39m,query: \u001b[38;5;28mstr\u001b[39m) \u001b[38;5;241m-\u001b[39m\u001b[38;5;241m>\u001b[39m \u001b[38;5;28mstr\u001b[39m:\n",
      "\u001b[1;32m     74\u001b[0m \u001b[38;5;250m    \u001b[39m\u001b[38;5;124;03m\"\"\"Query PaperQA2 for scientific evidence using OCR-processed documents\"\"\"\u001b[39;00m\n",
      "\u001b[0;32m---> 75\u001b[0m     response \u001b[38;5;241m=\u001b[39m \u001b[43mask\u001b[49m\u001b[43m(\u001b[49m\u001b[43mquery\u001b[49m\u001b[43m,\u001b[49m\u001b[43m \u001b[49m\u001b[43msettings\u001b[49m\u001b[38;5;241;43m=\u001b[39;49m\u001b[38;5;28;43mself\u001b[39;49m\u001b[38;5;241;43m.\u001b[39;49m\u001b[43msettings\u001b[49m\u001b[43m)\u001b[49m\n",
      "\u001b[1;32m     76\u001b[0m     \u001b[38;5;28;01mreturn\u001b[39;00m response\u001b[38;5;241m.\u001b[39mdict()[\u001b[38;5;124m'\u001b[39m\u001b[38;5;124msession\u001b[39m\u001b[38;5;124m'\u001b[39m][\u001b[38;5;124m'\u001b[39m\u001b[38;5;124manswer\u001b[39m\u001b[38;5;124m'\u001b[39m]\n",
      "\n",
      "File \u001b[0;32m~/opt/anaconda3/envs/myenv/lib/python3.11/site-packages/paperqa/agents/__init__.py:104\u001b[0m, in \u001b[0;36mask\u001b[0;34m(query, settings)\u001b[0m\n",
      "\u001b[1;32m    102\u001b[0m \u001b[38;5;250m\u001b[39m\u001b[38;5;124;03m\"\"\"Query PaperQA via an agent.\"\"\"\u001b[39;00m\n",
      "\u001b[1;32m    103\u001b[0m configure_cli_logging(settings)\n",
      "\u001b[0;32m--> 104\u001b[0m \u001b[38;5;28;01mreturn\u001b[39;00m \u001b[43mget_loop\u001b[49m\u001b[43m(\u001b[49m\u001b[43m)\u001b[49m\u001b[38;5;241;43m.\u001b[39;49m\u001b[43mrun_until_complete\u001b[49m\u001b[43m(\u001b[49m\n",
      "\u001b[1;32m    105\u001b[0m \u001b[43m    \u001b[49m\u001b[43magent_query\u001b[49m\u001b[43m(\u001b[49m\u001b[43mquery\u001b[49m\u001b[43m,\u001b[49m\u001b[43m \u001b[49m\u001b[43msettings\u001b[49m\u001b[43m,\u001b[49m\u001b[43m \u001b[49m\u001b[43magent_type\u001b[49m\u001b[38;5;241;43m=\u001b[39;49m\u001b[43msettings\u001b[49m\u001b[38;5;241;43m.\u001b[39;49m\u001b[43magent\u001b[49m\u001b[38;5;241;43m.\u001b[39;49m\u001b[43magent_type\u001b[49m\u001b[43m)\u001b[49m\n",
      "\u001b[1;32m    106\u001b[0m \u001b[43m\u001b[49m\u001b[43m)\u001b[49m\n",
      "\n",
      "File \u001b[0;32m~/opt/anaconda3/envs/myenv/lib/python3.11/site-packages/nest_asyncio.py:92\u001b[0m, in \u001b[0;36m_patch_loop.<locals>.run_until_complete\u001b[0;34m(self, future)\u001b[0m\n",
      "\u001b[1;32m     90\u001b[0m     f\u001b[38;5;241m.\u001b[39m_log_destroy_pending \u001b[38;5;241m=\u001b[39m \u001b[38;5;28;01mFalse\u001b[39;00m\n",
      "\u001b[1;32m     91\u001b[0m \u001b[38;5;28;01mwhile\u001b[39;00m \u001b[38;5;129;01mnot\u001b[39;00m f\u001b[38;5;241m.\u001b[39mdone():\n",
      "\u001b[0;32m---> 92\u001b[0m     \u001b[38;5;28;43mself\u001b[39;49m\u001b[38;5;241;43m.\u001b[39;49m\u001b[43m_run_once\u001b[49m\u001b[43m(\u001b[49m\u001b[43m)\u001b[49m\n",
      "\u001b[1;32m     93\u001b[0m     \u001b[38;5;28;01mif\u001b[39;00m \u001b[38;5;28mself\u001b[39m\u001b[38;5;241m.\u001b[39m_stopping:\n",
      "\u001b[1;32m     94\u001b[0m         \u001b[38;5;28;01mbreak\u001b[39;00m\n",
      "\n",
      "File \u001b[0;32m~/opt/anaconda3/envs/myenv/lib/python3.11/site-packages/nest_asyncio.py:115\u001b[0m, in \u001b[0;36m_patch_loop.<locals>._run_once\u001b[0;34m(self)\u001b[0m\n",
      "\u001b[1;32m    108\u001b[0m     heappop(scheduled)\n",
      "\u001b[1;32m    110\u001b[0m timeout \u001b[38;5;241m=\u001b[39m (\n",
      "\u001b[1;32m    111\u001b[0m     \u001b[38;5;241m0\u001b[39m \u001b[38;5;28;01mif\u001b[39;00m ready \u001b[38;5;129;01mor\u001b[39;00m \u001b[38;5;28mself\u001b[39m\u001b[38;5;241m.\u001b[39m_stopping\n",
      "\u001b[1;32m    112\u001b[0m     \u001b[38;5;28;01melse\u001b[39;00m \u001b[38;5;28mmin\u001b[39m(\u001b[38;5;28mmax\u001b[39m(\n",
      "\u001b[1;32m    113\u001b[0m         scheduled[\u001b[38;5;241m0\u001b[39m]\u001b[38;5;241m.\u001b[39m_when \u001b[38;5;241m-\u001b[39m \u001b[38;5;28mself\u001b[39m\u001b[38;5;241m.\u001b[39mtime(), \u001b[38;5;241m0\u001b[39m), \u001b[38;5;241m86400\u001b[39m) \u001b[38;5;28;01mif\u001b[39;00m scheduled\n",
      "\u001b[1;32m    114\u001b[0m     \u001b[38;5;28;01melse\u001b[39;00m \u001b[38;5;28;01mNone\u001b[39;00m)\n",
      "\u001b[0;32m--> 115\u001b[0m event_list \u001b[38;5;241m=\u001b[39m \u001b[38;5;28;43mself\u001b[39;49m\u001b[38;5;241;43m.\u001b[39;49m\u001b[43m_selector\u001b[49m\u001b[38;5;241;43m.\u001b[39;49m\u001b[43mselect\u001b[49m\u001b[43m(\u001b[49m\u001b[43mtimeout\u001b[49m\u001b[43m)\u001b[49m\n",
      "\u001b[1;32m    116\u001b[0m \u001b[38;5;28mself\u001b[39m\u001b[38;5;241m.\u001b[39m_process_events(event_list)\n",
      "\u001b[1;32m    118\u001b[0m end_time \u001b[38;5;241m=\u001b[39m \u001b[38;5;28mself\u001b[39m\u001b[38;5;241m.\u001b[39mtime() \u001b[38;5;241m+\u001b[39m \u001b[38;5;28mself\u001b[39m\u001b[38;5;241m.\u001b[39m_clock_resolution\n",
      "\n",
      "File \u001b[0;32m~/opt/anaconda3/envs/myenv/lib/python3.11/selectors.py:566\u001b[0m, in \u001b[0;36mKqueueSelector.select\u001b[0;34m(self, timeout)\u001b[0m\n",
      "\u001b[1;32m    564\u001b[0m ready \u001b[38;5;241m=\u001b[39m []\n",
      "\u001b[1;32m    565\u001b[0m \u001b[38;5;28;01mtry\u001b[39;00m:\n",
      "\u001b[0;32m--> 566\u001b[0m     kev_list \u001b[38;5;241m=\u001b[39m \u001b[38;5;28mself\u001b[39m\u001b[38;5;241m.\u001b[39m_selector\u001b[38;5;241m.\u001b[39mcontrol(\u001b[38;5;28;01mNone\u001b[39;00m, max_ev, timeout)\n",
      "\u001b[1;32m    567\u001b[0m \u001b[38;5;28;01mexcept\u001b[39;00m \u001b[38;5;167;01mInterruptedError\u001b[39;00m:\n",
      "\u001b[1;32m    568\u001b[0m     \u001b[38;5;28;01mreturn\u001b[39;00m ready\n",
      "\n",
      "\u001b[0;31mKeyboardInterrupt\u001b[0m: "
     ]
    }
   ],
   "source": [
    "%%time\n",
    "qid = 4\n",
    "question = qa['question'].iloc[qid]\n",
    "response = scirag.get_response(question)\n"
   ]
  },
  {
   "cell_type": "code",
   "execution_count": 2,
   "metadata": {},
   "outputs": [
    {
     "name": "stdout",
     "output_type": "stream",
     "text": [
      "[SciRagPaperQA2] Building index on initialization...\n",
      "[SciRagPaperQA2] Checking for paper directory: /Users/apple/Documents/GitHub/scirag_paperqa/scirag/txt_files\n",
      "[SciRagPaperQA2] Building PaperQA2 document index (only happens once)...\n",
      "Using index: pqa_index_969208873c16842f6232653a9eca7e7a\n",
      "Index files: {'2201.02202v1.txt': 'a569bb587a9091300ba2f479aba3efc8', '1604.01424v3.txt': '70196f1a55258dc0d6ece83887dec601', '1807.06209v4.txt': '61f1a51953008a179d876dded8a7f3a1', '2010.00619v2.txt': 'cc0b6c6c76fe9a1b9132c0dd9de161bf', '2503.14454v1.txt': 'cc44e168db0f207acfe5c6a6f185e266'}\n",
      "[SciRagPaperQA2] Index built successfully.\n"
     ]
    }
   ],
   "source": [
    "from IPython.display import display, Markdown\n",
    "from scirag import SciRagPaperQA2, SciRagDataSet\n",
    "\n",
    "scirag = SciRagPaperQA2()\n",
    "dataset = SciRagDataSet()"
   ]
  },
  {
   "cell_type": "code",
   "execution_count": 3,
   "metadata": {},
   "outputs": [],
   "source": [
    "qa = dataset.load_dataset()"
   ]
  },
  {
   "cell_type": "code",
   "execution_count": 4,
   "metadata": {},
   "outputs": [
    {
     "data": {
      "text/html": [
       "<pre style=\"white-space:pre;overflow-x:auto;line-height:normal;font-family:Menlo,'DejaVu Sans Mono',consolas,'Courier New',monospace\"><span style=\"color: #7fbfbf; text-decoration-color: #7fbfbf\">[15:22:05] </span>Starting paper search for <span style=\"color: #008000; text-decoration-color: #008000\">'impact of beam window functions on 2018 spectra baseline Plik likelihood'</span>.   \n",
       "</pre>\n"
      ],
      "text/plain": [
       "\u001b[2;36m[15:22:05]\u001b[0m\u001b[2;36m \u001b[0mStarting paper search for \u001b[32m'impact of beam window functions on 2018 spectra baseline Plik likelihood'\u001b[0m.   \n"
      ]
     },
     "metadata": {},
     "output_type": "display_data"
    },
    {
     "data": {
      "text/html": [
       "<pre style=\"white-space:pre;overflow-x:auto;line-height:normal;font-family:Menlo,'DejaVu Sans Mono',consolas,'Courier New',monospace\"><span style=\"color: #7fbfbf; text-decoration-color: #7fbfbf\">[15:22:06] </span>paper_search for query <span style=\"color: #008000; text-decoration-color: #008000\">'impact of beam window functions on 2018 spectra baseline Plik likelihood'</span> and   \n",
       "<span style=\"color: #7fbfbf; text-decoration-color: #7fbfbf\">           </span>offset <span style=\"color: #008080; text-decoration-color: #008080; font-weight: bold\">0</span> returned <span style=\"color: #008080; text-decoration-color: #008080; font-weight: bold\">5</span> papers.                                                                             \n",
       "</pre>\n"
      ],
      "text/plain": [
       "\u001b[2;36m[15:22:06]\u001b[0m\u001b[2;36m \u001b[0mpaper_search for query \u001b[32m'impact of beam window functions on 2018 spectra baseline Plik likelihood'\u001b[0m and   \n",
       "\u001b[2;36m           \u001b[0moffset \u001b[1;36m0\u001b[0m returned \u001b[1;36m5\u001b[0m papers.                                                                             \n"
      ]
     },
     "metadata": {},
     "output_type": "display_data"
    },
    {
     "data": {
      "text/html": [
       "<pre style=\"white-space:pre;overflow-x:auto;line-height:normal;font-family:Menlo,'DejaVu Sans Mono',consolas,'Courier New',monospace\"><span style=\"color: #7fbfbf; text-decoration-color: #7fbfbf\">           </span>Status: Paper <span style=\"color: #808000; text-decoration-color: #808000\">Count</span>=<span style=\"color: #008080; text-decoration-color: #008080; font-weight: bold\">5</span> | Relevant <span style=\"color: #808000; text-decoration-color: #808000\">Papers</span>=<span style=\"color: #008080; text-decoration-color: #008080; font-weight: bold\">0</span> | Current <span style=\"color: #808000; text-decoration-color: #808000\">Evidence</span>=<span style=\"color: #008080; text-decoration-color: #008080; font-weight: bold\">0</span> | Current <span style=\"color: #808000; text-decoration-color: #808000\">Cost</span>=$<span style=\"color: #008080; text-decoration-color: #008080; font-weight: bold\">0.0001</span>                   \n",
       "</pre>\n"
      ],
      "text/plain": [
       "\u001b[2;36m          \u001b[0m\u001b[2;36m \u001b[0mStatus: Paper \u001b[33mCount\u001b[0m=\u001b[1;36m5\u001b[0m | Relevant \u001b[33mPapers\u001b[0m=\u001b[1;36m0\u001b[0m | Current \u001b[33mEvidence\u001b[0m=\u001b[1;36m0\u001b[0m | Current \u001b[33mCost\u001b[0m=$\u001b[1;36m0.0001\u001b[0m                   \n"
      ]
     },
     "metadata": {},
     "output_type": "display_data"
    },
    {
     "data": {
      "text/html": [
       "<pre style=\"white-space:pre;overflow-x:auto;line-height:normal;font-family:Menlo,'DejaVu Sans Mono',consolas,'Courier New',monospace\"><span style=\"color: #7fbfbf; text-decoration-color: #7fbfbf\">[15:22:07] </span>gather_evidence starting for question <span style=\"color: #008000; text-decoration-color: #008000\">'How large is the impact of beam window functions on the 2018 </span>    \n",
       "<span style=\"color: #7fbfbf; text-decoration-color: #7fbfbf\">           </span><span style=\"color: #008000; text-decoration-color: #008000\">spectra in the baseline Plik likelihood?'</span>.                                                              \n",
       "</pre>\n"
      ],
      "text/plain": [
       "\u001b[2;36m[15:22:07]\u001b[0m\u001b[2;36m \u001b[0mgather_evidence starting for question \u001b[32m'How large is the impact of beam window functions on the 2018 \u001b[0m    \n",
       "\u001b[2;36m           \u001b[0m\u001b[32mspectra in the baseline Plik likelihood?'\u001b[0m.                                                              \n"
      ]
     },
     "metadata": {},
     "output_type": "display_data"
    },
    {
     "data": {
      "text/html": [
       "<pre style=\"white-space:pre;overflow-x:auto;line-height:normal;font-family:Menlo,'DejaVu Sans Mono',consolas,'Courier New',monospace\"><span style=\"color: #7fbfbf; text-decoration-color: #7fbfbf\">[15:23:23] </span>Status: Paper <span style=\"color: #808000; text-decoration-color: #808000\">Count</span>=<span style=\"color: #008080; text-decoration-color: #008080; font-weight: bold\">5</span> | Relevant <span style=\"color: #808000; text-decoration-color: #808000\">Papers</span>=<span style=\"color: #008080; text-decoration-color: #008080; font-weight: bold\">1</span> | Current <span style=\"color: #808000; text-decoration-color: #808000\">Evidence</span>=<span style=\"color: #008080; text-decoration-color: #008080; font-weight: bold\">13</span> | Current <span style=\"color: #808000; text-decoration-color: #808000\">Cost</span>=$<span style=\"color: #008080; text-decoration-color: #008080; font-weight: bold\">0.0154</span>                  \n",
       "</pre>\n"
      ],
      "text/plain": [
       "\u001b[2;36m[15:23:23]\u001b[0m\u001b[2;36m \u001b[0mStatus: Paper \u001b[33mCount\u001b[0m=\u001b[1;36m5\u001b[0m | Relevant \u001b[33mPapers\u001b[0m=\u001b[1;36m1\u001b[0m | Current \u001b[33mEvidence\u001b[0m=\u001b[1;36m13\u001b[0m | Current \u001b[33mCost\u001b[0m=$\u001b[1;36m0.0154\u001b[0m                  \n"
      ]
     },
     "metadata": {},
     "output_type": "display_data"
    },
    {
     "data": {
      "text/html": [
       "<pre style=\"white-space:pre;overflow-x:auto;line-height:normal;font-family:Menlo,'DejaVu Sans Mono',consolas,'Courier New',monospace\"><span style=\"color: #7fbfbf; text-decoration-color: #7fbfbf\">[15:23:24] </span>Generating answer for <span style=\"color: #008000; text-decoration-color: #008000\">'How large is the impact of beam window functions on the 2018 spectra in the </span>     \n",
       "<span style=\"color: #7fbfbf; text-decoration-color: #7fbfbf\">           </span><span style=\"color: #008000; text-decoration-color: #008000\">baseline Plik likelihood?'</span>.                                                                             \n",
       "</pre>\n"
      ],
      "text/plain": [
       "\u001b[2;36m[15:23:24]\u001b[0m\u001b[2;36m \u001b[0mGenerating answer for \u001b[32m'How large is the impact of beam window functions on the 2018 spectra in the \u001b[0m     \n",
       "\u001b[2;36m           \u001b[0m\u001b[32mbaseline Plik likelihood?'\u001b[0m.                                                                             \n"
      ]
     },
     "metadata": {},
     "output_type": "display_data"
    },
    {
     "data": {
      "text/html": [
       "<pre style=\"white-space:pre;overflow-x:auto;line-height:normal;font-family:Menlo,'DejaVu Sans Mono',consolas,'Courier New',monospace\"><span style=\"color: #7fbfbf; text-decoration-color: #7fbfbf\">[15:23:29] </span>Status: Paper <span style=\"color: #808000; text-decoration-color: #808000\">Count</span>=<span style=\"color: #008080; text-decoration-color: #008080; font-weight: bold\">5</span> | Relevant <span style=\"color: #808000; text-decoration-color: #808000\">Papers</span>=<span style=\"color: #008080; text-decoration-color: #008080; font-weight: bold\">1</span> | Current <span style=\"color: #808000; text-decoration-color: #808000\">Evidence</span>=<span style=\"color: #008080; text-decoration-color: #008080; font-weight: bold\">13</span> | Current <span style=\"color: #808000; text-decoration-color: #808000\">Cost</span>=$<span style=\"color: #008080; text-decoration-color: #008080; font-weight: bold\">0.0187</span>                  \n",
       "</pre>\n"
      ],
      "text/plain": [
       "\u001b[2;36m[15:23:29]\u001b[0m\u001b[2;36m \u001b[0mStatus: Paper \u001b[33mCount\u001b[0m=\u001b[1;36m5\u001b[0m | Relevant \u001b[33mPapers\u001b[0m=\u001b[1;36m1\u001b[0m | Current \u001b[33mEvidence\u001b[0m=\u001b[1;36m13\u001b[0m | Current \u001b[33mCost\u001b[0m=$\u001b[1;36m0.0187\u001b[0m                  \n"
      ]
     },
     "metadata": {},
     "output_type": "display_data"
    },
    {
     "data": {
      "text/html": [
       "<pre style=\"white-space:pre;overflow-x:auto;line-height:normal;font-family:Menlo,'DejaVu Sans Mono',consolas,'Courier New',monospace\"><span style=\"color: #7fbfbf; text-decoration-color: #7fbfbf\">[15:23:30] </span>Completing <span style=\"color: #008000; text-decoration-color: #008000\">'How large is the impact of beam window functions on the 2018 spectra in the baseline Plik </span>  \n",
       "<span style=\"color: #7fbfbf; text-decoration-color: #7fbfbf\">           </span><span style=\"color: #008000; text-decoration-color: #008000\">likelihood?'</span> as <span style=\"color: #008000; text-decoration-color: #008000\">'certain'</span>.                                                                              \n",
       "</pre>\n"
      ],
      "text/plain": [
       "\u001b[2;36m[15:23:30]\u001b[0m\u001b[2;36m \u001b[0mCompleting \u001b[32m'How large is the impact of beam window functions on the 2018 spectra in the baseline Plik \u001b[0m  \n",
       "\u001b[2;36m           \u001b[0m\u001b[32mlikelihood?'\u001b[0m as \u001b[32m'certain'\u001b[0m.                                                                              \n"
      ]
     },
     "metadata": {},
     "output_type": "display_data"
    },
    {
     "data": {
      "text/html": [
       "<pre style=\"white-space:pre;overflow-x:auto;line-height:normal;font-family:Menlo,'DejaVu Sans Mono',consolas,'Courier New',monospace\"><span style=\"color: #7fbfbf; text-decoration-color: #7fbfbf\">[15:23:31] </span><span style=\"color: #000080; text-decoration-color: #000080; font-weight: bold\">Answer: The impact of beam window functions on the </span><span style=\"color: #008080; text-decoration-color: #008080; font-weight: bold\">2018</span><span style=\"color: #000080; text-decoration-color: #000080; font-weight: bold\"> spectra in the baseline Plik likelihood is </span>     \n",
       "<span style=\"color: #7fbfbf; text-decoration-color: #7fbfbf\">           </span><span style=\"color: #000080; text-decoration-color: #000080; font-weight: bold\">nuanced and varies across different analyses. The corrections applied to the polarization spectra </span>      \n",
       "<span style=\"color: #7fbfbf; text-decoration-color: #7fbfbf\">           </span><span style=\"color: #000080; text-decoration-color: #000080; font-weight: bold\">indicate that beam window functions significantly influence the results, particularly affecting </span>        \n",
       "<span style=\"color: #7fbfbf; text-decoration-color: #7fbfbf\">           </span><span style=\"color: #000080; text-decoration-color: #000080; font-weight: bold\">cosmological parameters like baryon density, cold dark matter density, and the spectral index. </span>         \n",
       "<span style=\"color: #7fbfbf; text-decoration-color: #7fbfbf\">           </span><span style=\"color: #000080; text-decoration-color: #000080; font-weight: bold\">Specifically, the beam-leakage correction shifts the baryon density parameter (\\(\\omega_{\\mathrm{b}}\\)) </span>\n",
       "<span style=\"color: #7fbfbf; text-decoration-color: #7fbfbf\">           </span><span style=\"color: #000080; text-decoration-color: #000080; font-weight: bold\">upwards by approximately \\(</span><span style=\"color: #008080; text-decoration-color: #008080; font-weight: bold\">1</span><span style=\"color: #000080; text-decoration-color: #000080; font-weight: bold\"> \\sigma\\) and decreases the cold dark matter density parameter </span>             \n",
       "<span style=\"color: #7fbfbf; text-decoration-color: #7fbfbf\">           </span><span style=\"color: #000080; text-decoration-color: #000080; font-weight: bold\">(\\(\\omega_{\\mathrm{c}}\\)) by about \\(</span><span style=\"color: #008080; text-decoration-color: #008080; font-weight: bold\">-0.7</span><span style=\"color: #000080; text-decoration-color: #000080; font-weight: bold\"> \\sigma\\) (aghanim2020&lt;planck&lt;2018results chunk </span><span style=\"color: #008080; text-decoration-color: #008080; font-weight: bold\">23</span><span style=\"color: #000080; text-decoration-color: #000080; font-weight: bold\">).</span>           \n",
       "<span style=\"color: #7fbfbf; text-decoration-color: #7fbfbf\">           </span>                                                                                                        \n",
       "<span style=\"color: #7fbfbf; text-decoration-color: #7fbfbf\">           </span><span style=\"color: #000080; text-decoration-color: #000080; font-weight: bold\">Moreover, while the overall impact of beam window functions is described as small at lower </span>             \n",
       "<span style=\"color: #7fbfbf; text-decoration-color: #7fbfbf\">           </span><span style=\"color: #000080; text-decoration-color: #000080; font-weight: bold\">multipoles—approximately </span><span style=\"color: #008080; text-decoration-color: #008080; font-weight: bold\">0.1</span><span style=\"color: #000080; text-decoration-color: #000080; font-weight: bold\">% at \\(\\</span><span style=\"color: #808000; text-decoration-color: #808000; font-weight: bold\">ell</span><span style=\"color: #000080; text-decoration-color: #000080; font-weight: bold\">=</span><span style=\"color: #008080; text-decoration-color: #008080; font-weight: bold\">2000</span><span style=\"color: #000080; text-decoration-color: #000080; font-weight: bold\">\\)—the careful management of these functions is crucial in </span> \n",
       "<span style=\"color: #7fbfbf; text-decoration-color: #7fbfbf\">           </span><span style=\"color: #000080; text-decoration-color: #000080; font-weight: bold\">maintaining the accuracy of the likelihood calculations (aghanim2020&lt;planck&lt;2018results chunk </span><span style=\"color: #008080; text-decoration-color: #008080; font-weight: bold\">8</span><span style=\"color: #000080; text-decoration-color: #000080; font-weight: bold\">). The </span>  \n",
       "<span style=\"color: #7fbfbf; text-decoration-color: #7fbfbf\">           </span><span style=\"color: #000080; text-decoration-color: #000080; font-weight: bold\">analysis also notes that while the signal-to-noise ratio per multipole remains consistent with previous </span>\n",
       "<span style=\"color: #7fbfbf; text-decoration-color: #7fbfbf\">           </span><span style=\"color: #000080; text-decoration-color: #000080; font-weight: bold\">results, the introduction of these corrections has enhanced the robustness of the likelihood </span>           \n",
       "<span style=\"color: #7fbfbf; text-decoration-color: #7fbfbf\">           </span><span style=\"color: #000080; text-decoration-color: #000080; font-weight: bold\">(aghanim2020&lt;planck&lt;2018results chunk </span><span style=\"color: #008080; text-decoration-color: #008080; font-weight: bold\">15</span><span style=\"color: #000080; text-decoration-color: #000080; font-weight: bold\">). Overall, the influence of beam window functions is </span>          \n",
       "<span style=\"color: #7fbfbf; text-decoration-color: #7fbfbf\">           </span><span style=\"color: #000080; text-decoration-color: #000080; font-weight: bold\">significant enough to warrant careful consideration in cosmological parameter estimation.</span>               \n",
       "</pre>\n"
      ],
      "text/plain": [
       "\u001b[2;36m[15:23:31]\u001b[0m\u001b[2;36m \u001b[0m\u001b[1;34mAnswer: The impact of beam window functions on the \u001b[0m\u001b[1;36m2018\u001b[0m\u001b[1;34m spectra in the baseline Plik likelihood is \u001b[0m     \n",
       "\u001b[2;36m           \u001b[0m\u001b[1;34mnuanced and varies across different analyses. The corrections applied to the polarization spectra \u001b[0m      \n",
       "\u001b[2;36m           \u001b[0m\u001b[1;34mindicate that beam window functions significantly influence the results, particularly affecting \u001b[0m        \n",
       "\u001b[2;36m           \u001b[0m\u001b[1;34mcosmological parameters like baryon density, cold dark matter density, and the spectral index. \u001b[0m         \n",
       "\u001b[2;36m           \u001b[0m\u001b[1;34mSpecifically, the beam-leakage correction shifts the baryon density parameter \u001b[0m\u001b[1;34m(\u001b[0m\u001b[1;34m\\\u001b[0m\u001b[1;34m(\u001b[0m\u001b[1;34m\\omega_\u001b[0m\u001b[1;34m{\u001b[0m\u001b[1;34m\\mathrm\u001b[0m\u001b[1;34m{\u001b[0m\u001b[1;34mb\u001b[0m\u001b[1;34m}\u001b[0m\u001b[1;34m}\u001b[0m\u001b[1;34m\\\u001b[0m\u001b[1;34m)\u001b[0m\u001b[1;34m)\u001b[0m\u001b[1;34m \u001b[0m\n",
       "\u001b[2;36m           \u001b[0m\u001b[1;34mupwards by approximately \\\u001b[0m\u001b[1;34m(\u001b[0m\u001b[1;36m1\u001b[0m\u001b[1;34m \\sigma\\\u001b[0m\u001b[1;34m)\u001b[0m\u001b[1;34m and decreases the cold dark matter density parameter \u001b[0m             \n",
       "\u001b[2;36m           \u001b[0m\u001b[1;34m(\u001b[0m\u001b[1;34m\\\u001b[0m\u001b[1;34m(\u001b[0m\u001b[1;34m\\omega_\u001b[0m\u001b[1;34m{\u001b[0m\u001b[1;34m\\mathrm\u001b[0m\u001b[1;34m{\u001b[0m\u001b[1;34mc\u001b[0m\u001b[1;34m}\u001b[0m\u001b[1;34m}\u001b[0m\u001b[1;34m\\\u001b[0m\u001b[1;34m)\u001b[0m\u001b[1;34m)\u001b[0m\u001b[1;34m by about \\\u001b[0m\u001b[1;34m(\u001b[0m\u001b[1;36m-0.7\u001b[0m\u001b[1;34m \\sigma\\\u001b[0m\u001b[1;34m)\u001b[0m\u001b[1;34m \u001b[0m\u001b[1;34m(\u001b[0m\u001b[1;34maghanim2020<planck<2018results chunk \u001b[0m\u001b[1;36m23\u001b[0m\u001b[1;34m)\u001b[0m\u001b[1;34m.\u001b[0m           \n",
       "\u001b[2;36m           \u001b[0m                                                                                                        \n",
       "\u001b[2;36m           \u001b[0m\u001b[1;34mMoreover, while the overall impact of beam window functions is described as small at lower \u001b[0m             \n",
       "\u001b[2;36m           \u001b[0m\u001b[1;34mmultipoles—approximately \u001b[0m\u001b[1;36m0.1\u001b[0m\u001b[1;34m% at \\\u001b[0m\u001b[1;34m(\u001b[0m\u001b[1;34m\\\u001b[0m\u001b[1;33mell\u001b[0m\u001b[1;34m=\u001b[0m\u001b[1;36m2000\u001b[0m\u001b[1;34m\\\u001b[0m\u001b[1;34m)\u001b[0m\u001b[1;34m—the careful management of these functions is crucial in \u001b[0m \n",
       "\u001b[2;36m           \u001b[0m\u001b[1;34mmaintaining the accuracy of the likelihood calculations \u001b[0m\u001b[1;34m(\u001b[0m\u001b[1;34maghanim2020<planck<2018results chunk \u001b[0m\u001b[1;36m8\u001b[0m\u001b[1;34m)\u001b[0m\u001b[1;34m. The \u001b[0m  \n",
       "\u001b[2;36m           \u001b[0m\u001b[1;34manalysis also notes that while the signal-to-noise ratio per multipole remains consistent with previous \u001b[0m\n",
       "\u001b[2;36m           \u001b[0m\u001b[1;34mresults, the introduction of these corrections has enhanced the robustness of the likelihood \u001b[0m           \n",
       "\u001b[2;36m           \u001b[0m\u001b[1;34m(\u001b[0m\u001b[1;34maghanim2020<planck<2018results chunk \u001b[0m\u001b[1;36m15\u001b[0m\u001b[1;34m)\u001b[0m\u001b[1;34m. Overall, the influence of beam window functions is \u001b[0m          \n",
       "\u001b[2;36m           \u001b[0m\u001b[1;34msignificant enough to warrant careful consideration in cosmological parameter estimation.\u001b[0m               \n"
      ]
     },
     "metadata": {},
     "output_type": "display_data"
    },
    {
     "name": "stdout",
     "output_type": "stream",
     "text": [
      "CPU times: user 5.56 s, sys: 807 ms, total: 6.36 s\n",
      "Wall time: 1min 28s\n"
     ]
    }
   ],
   "source": [
    "%%time\n",
    "qid = 4\n",
    "question = qa['question'].iloc[qid]\n",
    "response = scirag.get_response(question)\n"
   ]
  },
  {
   "cell_type": "code",
   "execution_count": 10,
   "metadata": {},
   "outputs": [
    {
     "data": {
      "text/markdown": [
       "How large is the impact of beam window functions on the 2018 spectra in the baseline Plik likelihood?"
      ],
      "text/plain": [
       "<IPython.core.display.Markdown object>"
      ]
     },
     "metadata": {},
     "output_type": "display_data"
    }
   ],
   "source": [
    "display(Markdown(question))"
   ]
  },
  {
   "cell_type": "code",
   "execution_count": 11,
   "metadata": {},
   "outputs": [
    {
     "data": {
      "text/markdown": [
       "**Answer**:\n",
       "\n",
       "The impact of beam window functions on the 2018 spectra in the baseline Plik likelihood is nuanced and varies across different analyses. The corrections applied to the polarization spectra indicate that beam window functions significantly influence the results, particularly affecting cosmological parameters like baryon density, cold dark matter density, and the spectral index. Specifically, the beam-leakage correction shifts the baryon density parameter (\\(\\omega_{\\mathrm{b}}\\)) upwards by approximately \\(1 \\sigma\\) and decreases the cold dark matter density parameter (\\(\\omega_{\\mathrm{c}}\\)) by about \\(-0.7 \\sigma\\) . Moreover, while the overall impact of beam window functions is described as small at lower multipoles—approximately 0.1% at \\(\\ell=2000\\)—the careful management of these functions is crucial in maintaining the accuracy of the likelihood calculations . The analysis also notes that while the signal-to-noise ratio per multipole remains consistent with previous results, the introduction of these corrections has enhanced the robustness of the likelihood . Overall, the influence of beam window functions is significant enough to warrant careful consideration in cosmological parameter estimation.\n",
       "\n",
       "**Sources**:\n",
       "\n",
       "aghanim2020<planck<2018results chunk 23, aghanim2020<planck<2018results chunk 8, aghanim2020<planck<2018results chunk 15\n"
      ],
      "text/plain": [
       "<IPython.core.display.Markdown object>"
      ]
     },
     "metadata": {},
     "output_type": "display_data"
    }
   ],
   "source": [
    "display(Markdown(response.answer))"
   ]
  },
  {
   "cell_type": "code",
   "execution_count": 12,
   "metadata": {},
   "outputs": [
    {
     "data": {
      "text/plain": [
       "'approximately 0.1% at l=2000'"
      ]
     },
     "execution_count": 12,
     "metadata": {},
     "output_type": "execute_result"
    }
   ],
   "source": [
    "qa['ideal'].iloc[qid]"
   ]
  },
  {
   "cell_type": "code",
   "execution_count": 13,
   "metadata": {},
   "outputs": [
    {
     "data": {
      "text/plain": [
       "'p6; sec2.2.1'"
      ]
     },
     "execution_count": 13,
     "metadata": {},
     "output_type": "execute_result"
    }
   ],
   "source": [
    "\n",
    "qa['Location'].iloc[qid]"
   ]
  },
  {
   "cell_type": "code",
   "execution_count": 14,
   "metadata": {},
   "outputs": [],
   "source": [
    "scirag.cost_dict()"
   ]
  }
 ],
 "metadata": {
  "kernelspec": {
   "display_name": "myenv",
   "language": "python",
   "name": "python3"
  },
  "language_info": {
   "codemirror_mode": {
    "name": "ipython",
    "version": 3
   },
   "file_extension": ".py",
   "mimetype": "text/x-python",
   "name": "python",
   "nbconvert_exporter": "python",
   "pygments_lexer": "ipython3",
   "version": "3.11.11"
  }
 },
 "nbformat": 4,
 "nbformat_minor": 2
}
