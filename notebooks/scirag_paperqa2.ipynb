{
 "cells": [
  {
   "cell_type": "code",
   "execution_count": 1,
   "metadata": {},
   "outputs": [],
   "source": [
    "import os\n",
    "from dotenv import load_dotenv\n",
    "load_dotenv()\n",
    "os.environ[\"GOOGLE_APPLICATION_CREDENTIALS\"] = \"gemini.json\"\n",
    "\n",
    "api_key = os.environ.get(\"OPENAI_API_KEY\")\n",
    "if api_key is None:\n",
    "    raise RuntimeError(\"Please set the OPENAI_API_KEY \")"
   ]
  },
  {
   "cell_type": "code",
   "execution_count": 2,
   "metadata": {},
   "outputs": [
    {
     "name": "stdout",
     "output_type": "stream",
     "text": [
      "[SciRagPaperQA2] Building index on initialization...\n",
      "[SciRagPaperQA2] Checking for paper directory: /Users/apple/Documents/GitHub/scirag_paperqa/scirag/txt_files\n",
      "[SciRagPaperQA2] Building PaperQA2 document index (only happens once)...\n",
      "Using index: pqa_index_969208873c16842f6232653a9eca7e7a\n",
      "Index files: {'2201.02202v1.txt': 'a569bb587a9091300ba2f479aba3efc8', '1604.01424v3.txt': '70196f1a55258dc0d6ece83887dec601', '1807.06209v4.txt': '61f1a51953008a179d876dded8a7f3a1', '2010.00619v2.txt': 'cc0b6c6c76fe9a1b9132c0dd9de161bf', '2503.14454v1.txt': 'cc44e168db0f207acfe5c6a6f185e266'}\n",
      "[SciRagPaperQA2] Index built successfully.\n"
     ]
    }
   ],
   "source": [
    "from IPython.display import display, Markdown\n",
    "from scirag import SciRagPaperQA2, SciRagDataSet\n",
    "\n",
    "scirag = SciRagPaperQA2()\n",
    "dataset = SciRagDataSet()"
   ]
  },
  {
   "cell_type": "code",
   "execution_count": 4,
   "metadata": {},
   "outputs": [
    {
     "data": {
      "text/html": [
       "<pre style=\"white-space:pre;overflow-x:auto;line-height:normal;font-family:Menlo,'DejaVu Sans Mono',consolas,'Courier New',monospace\"><span style=\"color: #7fbfbf; text-decoration-color: #7fbfbf\">[14:29:16] </span>Starting paper search for <span style=\"color: #008000; text-decoration-color: #008000\">'impact of beam window functions on 2018 spectra baseline Plik likelihood'</span>.   \n",
       "</pre>\n"
      ],
      "text/plain": [
       "\u001b[2;36m[14:29:16]\u001b[0m\u001b[2;36m \u001b[0mStarting paper search for \u001b[32m'impact of beam window functions on 2018 spectra baseline Plik likelihood'\u001b[0m.   \n"
      ]
     },
     "metadata": {},
     "output_type": "display_data"
    },
    {
     "data": {
      "text/html": [
       "<pre style=\"white-space:pre;overflow-x:auto;line-height:normal;font-family:Menlo,'DejaVu Sans Mono',consolas,'Courier New',monospace\"><span style=\"color: #7fbfbf; text-decoration-color: #7fbfbf\">           </span>paper_search for query <span style=\"color: #008000; text-decoration-color: #008000\">'impact of beam window functions on 2018 spectra baseline Plik likelihood'</span> and   \n",
       "<span style=\"color: #7fbfbf; text-decoration-color: #7fbfbf\">           </span>offset <span style=\"color: #008080; text-decoration-color: #008080; font-weight: bold\">0</span> returned <span style=\"color: #008080; text-decoration-color: #008080; font-weight: bold\">5</span> papers.                                                                             \n",
       "</pre>\n"
      ],
      "text/plain": [
       "\u001b[2;36m          \u001b[0m\u001b[2;36m \u001b[0mpaper_search for query \u001b[32m'impact of beam window functions on 2018 spectra baseline Plik likelihood'\u001b[0m and   \n",
       "\u001b[2;36m           \u001b[0moffset \u001b[1;36m0\u001b[0m returned \u001b[1;36m5\u001b[0m papers.                                                                             \n"
      ]
     },
     "metadata": {},
     "output_type": "display_data"
    },
    {
     "data": {
      "text/html": [
       "<pre style=\"white-space:pre;overflow-x:auto;line-height:normal;font-family:Menlo,'DejaVu Sans Mono',consolas,'Courier New',monospace\"><span style=\"color: #7fbfbf; text-decoration-color: #7fbfbf\">           </span>Status: Paper <span style=\"color: #808000; text-decoration-color: #808000\">Count</span>=<span style=\"color: #008080; text-decoration-color: #008080; font-weight: bold\">5</span> | Relevant <span style=\"color: #808000; text-decoration-color: #808000\">Papers</span>=<span style=\"color: #008080; text-decoration-color: #008080; font-weight: bold\">0</span> | Current <span style=\"color: #808000; text-decoration-color: #808000\">Evidence</span>=<span style=\"color: #008080; text-decoration-color: #008080; font-weight: bold\">0</span> | Current <span style=\"color: #808000; text-decoration-color: #808000\">Cost</span>=$<span style=\"color: #008080; text-decoration-color: #008080; font-weight: bold\">0.0001</span>                   \n",
       "</pre>\n"
      ],
      "text/plain": [
       "\u001b[2;36m          \u001b[0m\u001b[2;36m \u001b[0mStatus: Paper \u001b[33mCount\u001b[0m=\u001b[1;36m5\u001b[0m | Relevant \u001b[33mPapers\u001b[0m=\u001b[1;36m0\u001b[0m | Current \u001b[33mEvidence\u001b[0m=\u001b[1;36m0\u001b[0m | Current \u001b[33mCost\u001b[0m=$\u001b[1;36m0.0001\u001b[0m                   \n"
      ]
     },
     "metadata": {},
     "output_type": "display_data"
    },
    {
     "data": {
      "text/html": [
       "<pre style=\"white-space:pre;overflow-x:auto;line-height:normal;font-family:Menlo,'DejaVu Sans Mono',consolas,'Courier New',monospace\"><span style=\"color: #7fbfbf; text-decoration-color: #7fbfbf\">[14:29:18] </span>gather_evidence starting for question <span style=\"color: #008000; text-decoration-color: #008000\">'How large is the impact of beam window functions on the 2018 </span>    \n",
       "<span style=\"color: #7fbfbf; text-decoration-color: #7fbfbf\">           </span><span style=\"color: #008000; text-decoration-color: #008000\">spectra in the baseline Plik likelihood?'</span>.                                                              \n",
       "</pre>\n"
      ],
      "text/plain": [
       "\u001b[2;36m[14:29:18]\u001b[0m\u001b[2;36m \u001b[0mgather_evidence starting for question \u001b[32m'How large is the impact of beam window functions on the 2018 \u001b[0m    \n",
       "\u001b[2;36m           \u001b[0m\u001b[32mspectra in the baseline Plik likelihood?'\u001b[0m.                                                              \n"
      ]
     },
     "metadata": {},
     "output_type": "display_data"
    },
    {
     "data": {
      "text/html": [
       "<pre style=\"white-space:pre;overflow-x:auto;line-height:normal;font-family:Menlo,'DejaVu Sans Mono',consolas,'Courier New',monospace\"><span style=\"color: #7fbfbf; text-decoration-color: #7fbfbf\">[14:31:26] </span>Status: Paper <span style=\"color: #808000; text-decoration-color: #808000\">Count</span>=<span style=\"color: #008080; text-decoration-color: #008080; font-weight: bold\">5</span> | Relevant <span style=\"color: #808000; text-decoration-color: #808000\">Papers</span>=<span style=\"color: #008080; text-decoration-color: #008080; font-weight: bold\">2</span> | Current <span style=\"color: #808000; text-decoration-color: #808000\">Evidence</span>=<span style=\"color: #008080; text-decoration-color: #008080; font-weight: bold\">13</span> | Current <span style=\"color: #808000; text-decoration-color: #808000\">Cost</span>=$<span style=\"color: #008080; text-decoration-color: #008080; font-weight: bold\">0.0153</span>                  \n",
       "</pre>\n"
      ],
      "text/plain": [
       "\u001b[2;36m[14:31:26]\u001b[0m\u001b[2;36m \u001b[0mStatus: Paper \u001b[33mCount\u001b[0m=\u001b[1;36m5\u001b[0m | Relevant \u001b[33mPapers\u001b[0m=\u001b[1;36m2\u001b[0m | Current \u001b[33mEvidence\u001b[0m=\u001b[1;36m13\u001b[0m | Current \u001b[33mCost\u001b[0m=$\u001b[1;36m0.0153\u001b[0m                  \n"
      ]
     },
     "metadata": {},
     "output_type": "display_data"
    },
    {
     "data": {
      "text/html": [
       "<pre style=\"white-space:pre;overflow-x:auto;line-height:normal;font-family:Menlo,'DejaVu Sans Mono',consolas,'Courier New',monospace\"><span style=\"color: #7fbfbf; text-decoration-color: #7fbfbf\">           </span>Generating answer for <span style=\"color: #008000; text-decoration-color: #008000\">'How large is the impact of beam window functions on the 2018 spectra in the </span>     \n",
       "<span style=\"color: #7fbfbf; text-decoration-color: #7fbfbf\">           </span><span style=\"color: #008000; text-decoration-color: #008000\">baseline Plik likelihood?'</span>.                                                                             \n",
       "</pre>\n"
      ],
      "text/plain": [
       "\u001b[2;36m          \u001b[0m\u001b[2;36m \u001b[0mGenerating answer for \u001b[32m'How large is the impact of beam window functions on the 2018 spectra in the \u001b[0m     \n",
       "\u001b[2;36m           \u001b[0m\u001b[32mbaseline Plik likelihood?'\u001b[0m.                                                                             \n"
      ]
     },
     "metadata": {},
     "output_type": "display_data"
    },
    {
     "data": {
      "text/html": [
       "<pre style=\"white-space:pre;overflow-x:auto;line-height:normal;font-family:Menlo,'DejaVu Sans Mono',consolas,'Courier New',monospace\"><span style=\"color: #7fbfbf; text-decoration-color: #7fbfbf\">[14:31:33] </span>Status: Paper <span style=\"color: #808000; text-decoration-color: #808000\">Count</span>=<span style=\"color: #008080; text-decoration-color: #008080; font-weight: bold\">5</span> | Relevant <span style=\"color: #808000; text-decoration-color: #808000\">Papers</span>=<span style=\"color: #008080; text-decoration-color: #008080; font-weight: bold\">2</span> | Current <span style=\"color: #808000; text-decoration-color: #808000\">Evidence</span>=<span style=\"color: #008080; text-decoration-color: #008080; font-weight: bold\">13</span> | Current <span style=\"color: #808000; text-decoration-color: #808000\">Cost</span>=$<span style=\"color: #008080; text-decoration-color: #008080; font-weight: bold\">0.0186</span>                  \n",
       "</pre>\n"
      ],
      "text/plain": [
       "\u001b[2;36m[14:31:33]\u001b[0m\u001b[2;36m \u001b[0mStatus: Paper \u001b[33mCount\u001b[0m=\u001b[1;36m5\u001b[0m | Relevant \u001b[33mPapers\u001b[0m=\u001b[1;36m2\u001b[0m | Current \u001b[33mEvidence\u001b[0m=\u001b[1;36m13\u001b[0m | Current \u001b[33mCost\u001b[0m=$\u001b[1;36m0.0186\u001b[0m                  \n"
      ]
     },
     "metadata": {},
     "output_type": "display_data"
    },
    {
     "data": {
      "text/html": [
       "<pre style=\"white-space:pre;overflow-x:auto;line-height:normal;font-family:Menlo,'DejaVu Sans Mono',consolas,'Courier New',monospace\"><span style=\"color: #7fbfbf; text-decoration-color: #7fbfbf\">[14:31:34] </span>Completing <span style=\"color: #008000; text-decoration-color: #008000\">'How large is the impact of beam window functions on the 2018 spectra in the baseline Plik </span>  \n",
       "<span style=\"color: #7fbfbf; text-decoration-color: #7fbfbf\">           </span><span style=\"color: #008000; text-decoration-color: #008000\">likelihood?'</span> as <span style=\"color: #008000; text-decoration-color: #008000\">'certain'</span>.                                                                              \n",
       "</pre>\n"
      ],
      "text/plain": [
       "\u001b[2;36m[14:31:34]\u001b[0m\u001b[2;36m \u001b[0mCompleting \u001b[32m'How large is the impact of beam window functions on the 2018 spectra in the baseline Plik \u001b[0m  \n",
       "\u001b[2;36m           \u001b[0m\u001b[32mlikelihood?'\u001b[0m as \u001b[32m'certain'\u001b[0m.                                                                              \n"
      ]
     },
     "metadata": {},
     "output_type": "display_data"
    },
    {
     "data": {
      "text/html": [
       "<pre style=\"white-space:pre;overflow-x:auto;line-height:normal;font-family:Menlo,'DejaVu Sans Mono',consolas,'Courier New',monospace\"><span style=\"color: #7fbfbf; text-decoration-color: #7fbfbf\">[14:31:36] </span><span style=\"color: #000080; text-decoration-color: #000080; font-weight: bold\">Answer: The impact of beam window functions on the </span><span style=\"color: #008080; text-decoration-color: #008080; font-weight: bold\">2018</span><span style=\"color: #000080; text-decoration-color: #000080; font-weight: bold\"> spectra in the baseline Plik likelihood is </span>     \n",
       "<span style=\"color: #7fbfbf; text-decoration-color: #7fbfbf\">           </span><span style=\"color: #000080; text-decoration-color: #000080; font-weight: bold\">significant, though the extent varies across different parameters. It has been reported that the </span>       \n",
       "<span style=\"color: #7fbfbf; text-decoration-color: #7fbfbf\">           </span><span style=\"color: #000080; text-decoration-color: #000080; font-weight: bold\">corrections applied due to beam window functions lead to small shifts in key cosmological parameters, </span>  \n",
       "<span style=\"color: #7fbfbf; text-decoration-color: #7fbfbf\">           </span><span style=\"color: #000080; text-decoration-color: #000080; font-weight: bold\">such as a decrease of cold dark matter density (ωc) by </span><span style=\"color: #008080; text-decoration-color: #008080; font-weight: bold\">-0.7</span><span style=\"color: #000080; text-decoration-color: #000080; font-weight: bold\"> sigma and an increase in the angular size of</span>\n",
       "<span style=\"color: #7fbfbf; text-decoration-color: #7fbfbf\">           </span><span style=\"color: #000080; text-decoration-color: #000080; font-weight: bold\">the sound horizon (θMC) by +</span><span style=\"color: #008080; text-decoration-color: #008080; font-weight: bold\">0.7</span><span style=\"color: #000080; text-decoration-color: #000080; font-weight: bold\"> sigma (aghanim2020&lt;planck&lt;2018results chunk </span><span style=\"color: #008080; text-decoration-color: #008080; font-weight: bold\">23</span><span style=\"color: #000080; text-decoration-color: #000080; font-weight: bold\">). Additionally, the beam </span>\n",
       "<span style=\"color: #7fbfbf; text-decoration-color: #7fbfbf\">           </span><span style=\"color: #000080; text-decoration-color: #000080; font-weight: bold\">window functions have a minimal impact on the temperature and polarization spectra at high multipoles, </span> \n",
       "<span style=\"color: #7fbfbf; text-decoration-color: #7fbfbf\">           </span><span style=\"color: #000080; text-decoration-color: #000080; font-weight: bold\">although they are crucial in the context of low multipoles (aghanim2020&lt;planck&lt;2018results chunk </span><span style=\"color: #008080; text-decoration-color: #008080; font-weight: bold\">6</span><span style=\"color: #000080; text-decoration-color: #000080; font-weight: bold\">).</span>    \n",
       "<span style=\"color: #7fbfbf; text-decoration-color: #7fbfbf\">           </span>                                                                                                        \n",
       "<span style=\"color: #7fbfbf; text-decoration-color: #7fbfbf\">           </span><span style=\"color: #000080; text-decoration-color: #000080; font-weight: bold\">The sensitivity of polarization results to beam window functions indicates that these functions play a </span> \n",
       "<span style=\"color: #7fbfbf; text-decoration-color: #7fbfbf\">           </span><span style=\"color: #000080; text-decoration-color: #000080; font-weight: bold\">critical role in shaping the derived spectra and cosmological parameters (aghanim2020&lt;planck&lt;2018results</span>\n",
       "<span style=\"color: #7fbfbf; text-decoration-color: #7fbfbf\">           </span><span style=\"color: #000080; text-decoration-color: #000080; font-weight: bold\">chunk </span><span style=\"color: #008080; text-decoration-color: #008080; font-weight: bold\">10</span><span style=\"color: #000080; text-decoration-color: #000080; font-weight: bold\">). However, the overall influence on the likelihood calculations remains somewhat ambiguous, as </span>\n",
       "<span style=\"color: #7fbfbf; text-decoration-color: #7fbfbf\">           </span><span style=\"color: #000080; text-decoration-color: #000080; font-weight: bold\">the specific quantitative effects of beam window functions on the </span><span style=\"color: #008080; text-decoration-color: #008080; font-weight: bold\">2018</span><span style=\"color: #000080; text-decoration-color: #000080; font-weight: bold\"> spectra are not thoroughly </span>      \n",
       "<span style=\"color: #7fbfbf; text-decoration-color: #7fbfbf\">           </span><span style=\"color: #000080; text-decoration-color: #000080; font-weight: bold\">detailed in the available sources (aghanim2020&lt;planck&lt;2018results chunk </span><span style=\"color: #008080; text-decoration-color: #008080; font-weight: bold\">14</span><span style=\"color: #000080; text-decoration-color: #000080; font-weight: bold\">, </span>                            \n",
       "<span style=\"color: #7fbfbf; text-decoration-color: #7fbfbf\">           </span><span style=\"color: #000080; text-decoration-color: #000080; font-weight: bold\">aghanim2020&lt;planck&lt;2018results chunk </span><span style=\"color: #008080; text-decoration-color: #008080; font-weight: bold\">12</span><span style=\"color: #000080; text-decoration-color: #000080; font-weight: bold\">).</span>                                                               \n",
       "</pre>\n"
      ],
      "text/plain": [
       "\u001b[2;36m[14:31:36]\u001b[0m\u001b[2;36m \u001b[0m\u001b[1;34mAnswer: The impact of beam window functions on the \u001b[0m\u001b[1;36m2018\u001b[0m\u001b[1;34m spectra in the baseline Plik likelihood is \u001b[0m     \n",
       "\u001b[2;36m           \u001b[0m\u001b[1;34msignificant, though the extent varies across different parameters. It has been reported that the \u001b[0m       \n",
       "\u001b[2;36m           \u001b[0m\u001b[1;34mcorrections applied due to beam window functions lead to small shifts in key cosmological parameters, \u001b[0m  \n",
       "\u001b[2;36m           \u001b[0m\u001b[1;34msuch as a decrease of cold dark matter density \u001b[0m\u001b[1;34m(\u001b[0m\u001b[1;34mωc\u001b[0m\u001b[1;34m)\u001b[0m\u001b[1;34m by \u001b[0m\u001b[1;36m-0.7\u001b[0m\u001b[1;34m sigma and an increase in the angular size of\u001b[0m\n",
       "\u001b[2;36m           \u001b[0m\u001b[1;34mthe sound horizon \u001b[0m\u001b[1;34m(\u001b[0m\u001b[1;34mθMC\u001b[0m\u001b[1;34m)\u001b[0m\u001b[1;34m by +\u001b[0m\u001b[1;36m0.7\u001b[0m\u001b[1;34m sigma \u001b[0m\u001b[1;34m(\u001b[0m\u001b[1;34maghanim2020<planck<2018results chunk \u001b[0m\u001b[1;36m23\u001b[0m\u001b[1;34m)\u001b[0m\u001b[1;34m. Additionally, the beam \u001b[0m\n",
       "\u001b[2;36m           \u001b[0m\u001b[1;34mwindow functions have a minimal impact on the temperature and polarization spectra at high multipoles, \u001b[0m \n",
       "\u001b[2;36m           \u001b[0m\u001b[1;34malthough they are crucial in the context of low multipoles \u001b[0m\u001b[1;34m(\u001b[0m\u001b[1;34maghanim2020<planck<2018results chunk \u001b[0m\u001b[1;36m6\u001b[0m\u001b[1;34m)\u001b[0m\u001b[1;34m.\u001b[0m    \n",
       "\u001b[2;36m           \u001b[0m                                                                                                        \n",
       "\u001b[2;36m           \u001b[0m\u001b[1;34mThe sensitivity of polarization results to beam window functions indicates that these functions play a \u001b[0m \n",
       "\u001b[2;36m           \u001b[0m\u001b[1;34mcritical role in shaping the derived spectra and cosmological parameters \u001b[0m\u001b[1;34m(\u001b[0m\u001b[1;34maghanim2020<planck<2018results\u001b[0m\n",
       "\u001b[2;36m           \u001b[0m\u001b[1;34mchunk \u001b[0m\u001b[1;36m10\u001b[0m\u001b[1;34m)\u001b[0m\u001b[1;34m. However, the overall influence on the likelihood calculations remains somewhat ambiguous, as \u001b[0m\n",
       "\u001b[2;36m           \u001b[0m\u001b[1;34mthe specific quantitative effects of beam window functions on the \u001b[0m\u001b[1;36m2018\u001b[0m\u001b[1;34m spectra are not thoroughly \u001b[0m      \n",
       "\u001b[2;36m           \u001b[0m\u001b[1;34mdetailed in the available sources \u001b[0m\u001b[1;34m(\u001b[0m\u001b[1;34maghanim2020<planck<2018results chunk \u001b[0m\u001b[1;36m14\u001b[0m\u001b[1;34m, \u001b[0m                            \n",
       "\u001b[2;36m           \u001b[0m\u001b[1;34maghanim2020<planck<2018results chunk \u001b[0m\u001b[1;36m12\u001b[0m\u001b[1;34m)\u001b[0m\u001b[1;34m.\u001b[0m                                                               \n"
      ]
     },
     "metadata": {},
     "output_type": "display_data"
    },
    {
     "name": "stdout",
     "output_type": "stream",
     "text": [
      "CPU times: user 7.98 s, sys: 1.11 s, total: 9.09 s\n",
      "Wall time: 2min 21s\n"
     ]
    }
   ],
   "source": [
    "%%time\n",
    "qid = 4\n",
    "question = qa['question'].iloc[qid]\n",
    "response = scirag.get_response(question)\n"
   ]
  },
  {
   "cell_type": "code",
   "execution_count": 5,
   "metadata": {},
   "outputs": [],
   "source": [
    "\n",
    "qa = dataset.load_dataset()"
   ]
  },
  {
   "cell_type": "code",
   "execution_count": 6,
   "metadata": {},
   "outputs": [
    {
     "data": {
      "text/markdown": [
       "How large is the impact of beam window functions on the 2018 spectra in the baseline Plik likelihood?"
      ],
      "text/plain": [
       "<IPython.core.display.Markdown object>"
      ]
     },
     "metadata": {},
     "output_type": "display_data"
    }
   ],
   "source": [
    "display(Markdown(question))"
   ]
  },
  {
   "cell_type": "code",
   "execution_count": 7,
   "metadata": {},
   "outputs": [
    {
     "data": {
      "text/markdown": [
       "**Answer**:\n",
       "\n",
       "The impact of beam window functions on the 2018 spectra in the baseline Plik likelihood is significant, though the extent varies across different parameters. It has been reported that the corrections applied due to beam window functions lead to small shifts in key cosmological parameters, such as a decrease of cold dark matter density (ωc) by -0.7 sigma and an increase in the angular size of the sound horizon (θMC) by +0.7 sigma . Additionally, the beam window functions have a minimal impact on the temperature and polarization spectra at high multipoles, although they are crucial in the context of low multipoles . The sensitivity of polarization results to beam window functions indicates that these functions play a critical role in shaping the derived spectra and cosmological parameters . However, the overall influence on the likelihood calculations remains somewhat ambiguous, as the specific quantitative effects of beam window functions on the 2018 spectra are not thoroughly detailed in the available sources .\n",
       "\n",
       "**Sources**:\n",
       "\n",
       "aghanim2020<planck<2018results chunk 23, aghanim2020<planck<2018results chunk 6, aghanim2020<planck<2018results chunk 10, aghanim2020<planck<2018results chunk 14, aghanim2020<planck<2018results chunk 12\n"
      ],
      "text/plain": [
       "<IPython.core.display.Markdown object>"
      ]
     },
     "metadata": {},
     "output_type": "display_data"
    }
   ],
   "source": [
    "display(Markdown(response.answer))"
   ]
  },
  {
   "cell_type": "code",
   "execution_count": 8,
   "metadata": {},
   "outputs": [
    {
     "data": {
      "text/plain": [
       "'approximately 0.1% at l=2000'"
      ]
     },
     "execution_count": 8,
     "metadata": {},
     "output_type": "execute_result"
    }
   ],
   "source": [
    "qa['ideal'].iloc[qid]"
   ]
  },
  {
   "cell_type": "code",
   "execution_count": 9,
   "metadata": {},
   "outputs": [
    {
     "data": {
      "text/plain": [
       "'p6; sec2.2.1'"
      ]
     },
     "execution_count": 9,
     "metadata": {},
     "output_type": "execute_result"
    }
   ],
   "source": [
    "\n",
    "qa['Location'].iloc[qid]"
   ]
  },
  {
   "cell_type": "code",
   "execution_count": 10,
   "metadata": {},
   "outputs": [],
   "source": [
    "scirag.cost_dict()"
   ]
  }
 ],
 "metadata": {
  "kernelspec": {
   "display_name": "myenv",
   "language": "python",
   "name": "python3"
  },
  "language_info": {
   "codemirror_mode": {
    "name": "ipython",
    "version": 3
   },
   "file_extension": ".py",
   "mimetype": "text/x-python",
   "name": "python",
   "nbconvert_exporter": "python",
   "pygments_lexer": "ipython3",
   "version": "3.11.11"
  }
 },
 "nbformat": 4,
 "nbformat_minor": 2
}
