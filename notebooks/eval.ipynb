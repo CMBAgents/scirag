{
 "cells": [
  {
   "cell_type": "code",
   "execution_count": 1,
   "id": "a83f0b01",
   "metadata": {},
   "outputs": [],
   "source": [
    "import os\n",
    "from dotenv import load_dotenv\n",
    "load_dotenv()\n",
    "os.environ[\"GOOGLE_APPLICATION_CREDENTIALS\"] = \"gemini.json\"\n",
    "\n",
    "api_key = os.environ.get(\"OPENAI_API_KEY\")\n",
    "if api_key is None:\n",
    "    raise RuntimeError(\"Please set the OPENAI_API_KEY \")"
   ]
  },
  {
   "cell_type": "code",
   "execution_count": 2,
   "id": "a8e52685",
   "metadata": {},
   "outputs": [],
   "source": [
    "from scirag import SciRagHybrid, SciRagDataSet"
   ]
  },
  {
   "cell_type": "code",
   "execution_count": 3,
   "id": "a6954559",
   "metadata": {},
   "outputs": [],
   "source": [
    "import pandas as pd\n",
    "import time\n",
    "import datetime"
   ]
  },
  {
   "cell_type": "code",
   "execution_count": 4,
   "id": "9dba1899",
   "metadata": {},
   "outputs": [],
   "source": [
    "def parse_response(response):\n",
    "    \"\"\"Parse response to extract answer and sources\"\"\"\n",
    "    if not response:\n",
    "        return None, None\n",
    "    \n",
    "    try:\n",
    "        if \"**Answer**:\" in response and \"**Sources**:\" in response:\n",
    "            parts = response.split(\"**Sources**:\")\n",
    "            answer = parts[0].replace(\"**Answer**:\", \"\").strip()\n",
    "            sources = parts[1].strip() if len(parts) > 1 else \"\"\n",
    "            return answer, sources\n",
    "        else:\n",
    "            return response, \"\"\n",
    "    except:\n",
    "        return response, \"\""
   ]
  },
  {
   "cell_type": "markdown",
   "id": "bd3d2e4e",
   "metadata": {},
   "source": [
    "two-type-embedding"
   ]
  },
  {
   "cell_type": "code",
   "execution_count": 6,
   "id": "7393c5f1",
   "metadata": {},
   "outputs": [],
   "source": [
    "def get_openAI_embedding_response(num_questions=5):\n",
    "    \"\"\"\n",
    "    Returns separate DataFrames for Gemini and OpenAI embedding comparisons\n",
    "    \n",
    "    Returns:\n",
    "        tuple: (gemini_df, openai_df, comparison_df, summary_df)\n",
    "    \"\"\"\n",
    "    \n",
    "    # Load dataset\n",
    "    dataset = SciRagDataSet()\n",
    "    df = dataset.load_dataset()\n",
    "    \n",
    "    # Get questions\n",
    "    question_columns = ['question', 'query', 'text', 'prompt']\n",
    "    question_col = None\n",
    "    for col in question_columns:\n",
    "        if col in df.columns:\n",
    "            question_col = col\n",
    "            break\n",
    "    \n",
    "    if question_col is None:\n",
    "        text_cols = df.select_dtypes(include=['object']).columns\n",
    "        question_col = text_cols[0] if len(text_cols) > 0 else df.columns[0]\n",
    "    \n",
    "    questions = df[question_col].head(num_questions).tolist()\n",
    "    \n",
    "    # Initialize RAG systems\n",
    "    print(\"Initializing RAG systems...\")\n",
    "    openai_rag = SciRagHybrid(embedding_provider=\"openai\", openai_embedding_model=\"text-embedding-3-large\", vector_db_backend=\"chromadb\")\n",
    "    \n",
    "    # Process questions\n",
    "    openai_results = []\n",
    "    \n",
    "    for i, question in enumerate(questions, 1):\n",
    "        print(f\"Processing question {i}/{num_questions}\")\n",
    "        \n",
    "        # OpenAI processing\n",
    "        start_time = time.time()\n",
    "        try:\n",
    "            openai_response = openai_rag.get_response(question)\n",
    "            openai_time = time.time() - start_time\n",
    "            openai_answer, openai_sources = parse_response(openai_response)\n",
    "            openai_success = True\n",
    "            openai_error = None\n",
    "        except Exception as e:\n",
    "            openai_response = None\n",
    "            openai_time = time.time() - start_time\n",
    "            openai_answer = None\n",
    "            openai_sources = None\n",
    "            openai_success = False\n",
    "            openai_error = str(e)\n",
    "        \n",
    "        openai_results.append({\n",
    "            'question_id': i,\n",
    "            'question': question,\n",
    "            'response': openai_response,\n",
    "            'answer': openai_answer,\n",
    "            'sources': openai_sources,\n",
    "            'processing_time': openai_time,\n",
    "            'success': openai_success,\n",
    "            'error': openai_error,\n",
    "            'embedding_system': 'OpenAI'\n",
    "        })\n",
    "    \n",
    "    # Create DataFrames\n",
    "    openai_df = pd.DataFrame(openai_results)\n",
    "    return openai_df"
   ]
  },
  {
   "cell_type": "code",
   "execution_count": null,
   "id": "7aae7c35",
   "metadata": {},
   "outputs": [
    {
     "name": "stdout",
     "output_type": "stream",
     "text": [
      "Initializing RAG systems...\n",
      "  Loaded 2503.14454v1.md\n",
      "  Loaded 2010.00619v2.md\n",
      "  Loaded 2201.02202v1.md\n",
      "  Loaded 1807.06209v4.md\n",
      "  Loaded 1604.01424v3.md\n",
      "Total markdown documents loaded: 5\n",
      "Splitting documents into chunks...\n",
      "Created 305 chunks from 5 documents\n",
      "Building contextual retrieval index...\n",
      "Processed 305 chunks\n",
      "Initializing embeddings and vector database...\n",
      "Embeddings not found. Generating embeddings...\n",
      "Processed batch 1/4\n",
      "Processed batch 2/4\n",
      "Processed batch 3/4\n",
      "Processed batch 4/4\n",
      "Embeddings saved to: /Users/apple/Documents/GitHub/scirag_paperqa/scirag/embeddings/openai_text-embedding-3-large_embeddings.npy\n",
      "Creating vector database...\n",
      "Loaded existing ChromaDB collection: sci_rag_chunks_openai_text_embedding_3_large\n",
      "Loaded existing ChromaDB collection\n",
      "Processing question 1/5\n",
      "Processing question 2/5\n",
      "Processing question 3/5\n",
      "Processing question 4/5\n",
      "Processing question 5/5\n"
     ]
    }
   ],
   "source": [
    "openai_df = get_openAI_embedding_response(num_questions=5)\n",
    "openai_df.to_csv(\"openai_embedding_results.csv\", index=False)"
   ]
  },
  {
   "cell_type": "code",
   "execution_count": null,
   "id": "a3508cd0",
   "metadata": {},
   "outputs": [],
   "source": [
    "def get_Gemini_embedding_response(num_questions=5):\n",
    "    \"\"\"\n",
    "    Returns separate DataFrames for Gemini and OpenAI embedding comparisons\n",
    "    \n",
    "    Returns:\n",
    "        tuple: (gemini_df, openai_df, comparison_df, summary_df)\n",
    "    \"\"\"\n",
    "    \n",
    "    # Load dataset\n",
    "    dataset = SciRagDataSet()\n",
    "    df = dataset.load_dataset()\n",
    "    \n",
    "    # Get questions\n",
    "    question_columns = ['question', 'query', 'text', 'prompt']\n",
    "    question_col = None\n",
    "    for col in question_columns:\n",
    "        if col in df.columns:\n",
    "            question_col = col\n",
    "            break\n",
    "    \n",
    "    if question_col is None:\n",
    "        text_cols = df.select_dtypes(include=['object']).columns\n",
    "        question_col = text_cols[0] if len(text_cols) > 0 else df.columns[0]\n",
    "    \n",
    "    questions = df[question_col].head(num_questions).tolist()\n",
    "    \n",
    "    # Initialize RAG systems\n",
    "    print(\"Initializing RAG systems...\")\n",
    "    gemini_rag = SciRagHybrid(embedding_provider=\"gemini\", vector_db_backend=\"chromadb\") #we didn't specify the embedding, so it will use the default one in the config file, please check the config file for the embedding model used\n",
    "    \n",
    "    # Process questions\n",
    "    gemini_results = []\n",
    "\n",
    "    \n",
    "    for i, question in enumerate(questions, 1):\n",
    "        print(f\"Processing question {i}/{num_questions}\")\n",
    "        \n",
    "        # Gemini processing\n",
    "        start_time = time.time()\n",
    "        try:\n",
    "            gemini_response = gemini_rag.get_response(question)\n",
    "            gemini_time = time.time() - start_time\n",
    "            gemini_answer, gemini_sources = parse_response(gemini_response)\n",
    "            gemini_success = True\n",
    "            gemini_error = None\n",
    "        except Exception as e:\n",
    "            gemini_response = None\n",
    "            gemini_time = time.time() - start_time\n",
    "            gemini_answer = None\n",
    "            gemini_sources = None\n",
    "            gemini_success = False\n",
    "            gemini_error = str(e)\n",
    "        \n",
    "        gemini_results.append({\n",
    "            'question_id': i,\n",
    "            'question': question,\n",
    "            'response': gemini_response,\n",
    "            'answer': gemini_answer,\n",
    "            'sources': gemini_sources,\n",
    "            'processing_time': gemini_time,\n",
    "            'success': gemini_success,\n",
    "            'error': gemini_error,\n",
    "            'embedding_system': 'Gemini'\n",
    "        })\n",
    "    \n",
    "    # Create DataFrames\n",
    "    gemini_df = pd.DataFrame(gemini_results)\n",
    "    return gemini_df"
   ]
  },
  {
   "cell_type": "code",
   "execution_count": 11,
   "id": "5d5df08b",
   "metadata": {},
   "outputs": [
    {
     "name": "stdout",
     "output_type": "stream",
     "text": [
      "Initializing RAG systems...\n",
      "  Loaded 2503.14454v1.md\n",
      "  Loaded 2010.00619v2.md\n",
      "  Loaded 2201.02202v1.md\n",
      "  Loaded 1807.06209v4.md\n",
      "  Loaded 1604.01424v3.md\n",
      "Total markdown documents loaded: 5\n",
      "Splitting documents into chunks...\n",
      "Created 305 chunks from 5 documents\n",
      "Building contextual retrieval index...\n",
      "Processed 305 chunks\n",
      "Initializing embeddings and vector database...\n",
      "Embeddings not found. Generating embeddings...\n"
     ]
    },
    {
     "data": {
      "application/vnd.jupyter.widget-view+json": {
       "model_id": "9f6740cb508c4af8b2896afd5d11af4d",
       "version_major": 2,
       "version_minor": 0
      },
      "text/plain": [
       "Embedding texts (Gemini):   0%|          | 0/305 [00:00<?, ?doc/s]"
      ]
     },
     "metadata": {},
     "output_type": "display_data"
    },
    {
     "name": "stdout",
     "output_type": "stream",
     "text": [
      "Embeddings saved to: /Users/apple/Documents/GitHub/scirag_paperqa/scirag/embeddings/gemini_gemini-embedding-001_embeddings.npy\n",
      "Creating vector database...\n",
      "Collection sci_rag_chunks_gemini_gemini_embedding_001 not found: Collection [sci_rag_chunks_gemini_gemini_embedding_001] does not exists\n",
      "No existing collection found: Collection [sci_rag_chunks] does not exists\n",
      "Creating new ChromaDB collection...\n",
      "Creating new collection: sci_rag_chunks_gemini_gemini_embedding_001\n",
      "Stored 305 chunks in ChromaDB collection 'sci_rag_chunks_gemini_gemini_embedding_001' at /Users/apple/Documents/GitHub/scirag_paperqa/scirag/embeddings/chromadb\n",
      "Collection sci_rag_chunks_gemini_gemini_embedding_001_gemini_gemini_embedding_001 not found: Collection [sci_rag_chunks_gemini_gemini_embedding_001_gemini_gemini_embedding_001] does not exists\n",
      "Loaded fallback ChromaDB collection: sci_rag_chunks_gemini_gemini_embedding_001\n",
      "ChromaDB vector DB built successfully\n",
      "Processing question 1/5\n",
      "Processing question 2/5\n",
      "Processing question 3/5\n",
      "Processing question 4/5\n",
      "Processing question 5/5\n"
     ]
    }
   ],
   "source": [
    "gemini_df= get_Gemini_embedding_response(num_questions=5)"
   ]
  },
  {
   "cell_type": "code",
   "execution_count": 12,
   "id": "410718af",
   "metadata": {},
   "outputs": [
    {
     "data": {
      "text/html": [
       "<div>\n",
       "<style scoped>\n",
       "    .dataframe tbody tr th:only-of-type {\n",
       "        vertical-align: middle;\n",
       "    }\n",
       "\n",
       "    .dataframe tbody tr th {\n",
       "        vertical-align: top;\n",
       "    }\n",
       "\n",
       "    .dataframe thead th {\n",
       "        text-align: right;\n",
       "    }\n",
       "</style>\n",
       "<table border=\"1\" class=\"dataframe\">\n",
       "  <thead>\n",
       "    <tr style=\"text-align: right;\">\n",
       "      <th></th>\n",
       "      <th>question_id</th>\n",
       "      <th>question</th>\n",
       "      <th>response</th>\n",
       "      <th>answer</th>\n",
       "      <th>sources</th>\n",
       "      <th>processing_time</th>\n",
       "      <th>success</th>\n",
       "      <th>error</th>\n",
       "      <th>embedding_system</th>\n",
       "    </tr>\n",
       "  </thead>\n",
       "  <tbody>\n",
       "    <tr>\n",
       "      <th>0</th>\n",
       "      <td>1</td>\n",
       "      <td>How is the standard recombination history test...</td>\n",
       "      <td>**Answer**:\\n\\nThe Planck 2018 analysis tests ...</td>\n",
       "      <td>The Planck 2018 analysis tests the standard re...</td>\n",
       "      <td>1807.06209v4.md, Section 7.7, 1807.06209v4.md,...</td>\n",
       "      <td>9.771257</td>\n",
       "      <td>True</td>\n",
       "      <td>None</td>\n",
       "      <td>OpenAI</td>\n",
       "    </tr>\n",
       "    <tr>\n",
       "      <th>1</th>\n",
       "      <td>2</td>\n",
       "      <td>Which corrections in polarization spectra were...</td>\n",
       "      <td>**Answer**:\\n\\nIn the 2018 Planck analysis, co...</td>\n",
       "      <td>In the 2018 Planck analysis, corrections were ...</td>\n",
       "      <td>1807.06209v4.md</td>\n",
       "      <td>7.833613</td>\n",
       "      <td>True</td>\n",
       "      <td>None</td>\n",
       "      <td>OpenAI</td>\n",
       "    </tr>\n",
       "    <tr>\n",
       "      <th>2</th>\n",
       "      <td>3</td>\n",
       "      <td>What multipole cuts were applied in the Camspe...</td>\n",
       "      <td>**Answer**:\\n\\nFor the Planck 2018 analysis, t...</td>\n",
       "      <td>For the Planck 2018 analysis, the Camspec temp...</td>\n",
       "      <td>1807.06209v4.md</td>\n",
       "      <td>3.523303</td>\n",
       "      <td>True</td>\n",
       "      <td>None</td>\n",
       "      <td>OpenAI</td>\n",
       "    </tr>\n",
       "    <tr>\n",
       "      <th>3</th>\n",
       "      <td>4</td>\n",
       "      <td>What is the effective sky-fraction of the apod...</td>\n",
       "      <td>**Answer**:\\n\\nFor the Planck 2018 analysis, t...</td>\n",
       "      <td>For the Planck 2018 analysis, the default CamS...</td>\n",
       "      <td>1807.06209v4.md</td>\n",
       "      <td>3.361629</td>\n",
       "      <td>True</td>\n",
       "      <td>None</td>\n",
       "      <td>OpenAI</td>\n",
       "    </tr>\n",
       "    <tr>\n",
       "      <th>4</th>\n",
       "      <td>5</td>\n",
       "      <td>How large is the impact of beam window functio...</td>\n",
       "      <td>**Answer**:\\n\\nIn the 2018 release, the applic...</td>\n",
       "      <td>In the 2018 release, the application of beam w...</td>\n",
       "      <td>1807.06209v4.md</td>\n",
       "      <td>2.974444</td>\n",
       "      <td>True</td>\n",
       "      <td>None</td>\n",
       "      <td>OpenAI</td>\n",
       "    </tr>\n",
       "  </tbody>\n",
       "</table>\n",
       "</div>"
      ],
      "text/plain": [
       "   question_id                                           question  \\\n",
       "0            1  How is the standard recombination history test...   \n",
       "1            2  Which corrections in polarization spectra were...   \n",
       "2            3  What multipole cuts were applied in the Camspe...   \n",
       "3            4  What is the effective sky-fraction of the apod...   \n",
       "4            5  How large is the impact of beam window functio...   \n",
       "\n",
       "                                            response  \\\n",
       "0  **Answer**:\\n\\nThe Planck 2018 analysis tests ...   \n",
       "1  **Answer**:\\n\\nIn the 2018 Planck analysis, co...   \n",
       "2  **Answer**:\\n\\nFor the Planck 2018 analysis, t...   \n",
       "3  **Answer**:\\n\\nFor the Planck 2018 analysis, t...   \n",
       "4  **Answer**:\\n\\nIn the 2018 release, the applic...   \n",
       "\n",
       "                                              answer  \\\n",
       "0  The Planck 2018 analysis tests the standard re...   \n",
       "1  In the 2018 Planck analysis, corrections were ...   \n",
       "2  For the Planck 2018 analysis, the Camspec temp...   \n",
       "3  For the Planck 2018 analysis, the default CamS...   \n",
       "4  In the 2018 release, the application of beam w...   \n",
       "\n",
       "                                             sources  processing_time  \\\n",
       "0  1807.06209v4.md, Section 7.7, 1807.06209v4.md,...         9.771257   \n",
       "1                                    1807.06209v4.md         7.833613   \n",
       "2                                    1807.06209v4.md         3.523303   \n",
       "3                                    1807.06209v4.md         3.361629   \n",
       "4                                    1807.06209v4.md         2.974444   \n",
       "\n",
       "   success error embedding_system  \n",
       "0     True  None           OpenAI  \n",
       "1     True  None           OpenAI  \n",
       "2     True  None           OpenAI  \n",
       "3     True  None           OpenAI  \n",
       "4     True  None           OpenAI  "
      ]
     },
     "execution_count": 12,
     "metadata": {},
     "output_type": "execute_result"
    }
   ],
   "source": [
    "openai_df"
   ]
  },
  {
   "cell_type": "markdown",
   "id": "28c67bed",
   "metadata": {},
   "source": [
    "openAI-rag"
   ]
  },
  {
   "cell_type": "code",
   "execution_count": 16,
   "id": "1970e78a",
   "metadata": {},
   "outputs": [],
   "source": [
    "from scirag import SciRagOpenAI"
   ]
  },
  {
   "cell_type": "code",
   "execution_count": 17,
   "id": "54639b24",
   "metadata": {},
   "outputs": [],
   "source": [
    "def get_OpenAI_rag_response(num_questions=5):\n",
    "    \"\"\"\n",
    "    Returns separate DataFrames for Gemini and OpenAI embedding comparisons\n",
    "    \n",
    "    Returns:\n",
    "        tuple: (gemini_df, openai_df, comparison_df, summary_df)\n",
    "    \"\"\"\n",
    "    \n",
    "    # Load dataset\n",
    "    dataset = SciRagDataSet()\n",
    "    df = dataset.load_dataset()\n",
    "    \n",
    "    # Get questions\n",
    "    question_columns = ['question', 'query', 'text', 'prompt']\n",
    "    question_col = None\n",
    "    for col in question_columns:\n",
    "        if col in df.columns:\n",
    "            question_col = col\n",
    "            break\n",
    "    \n",
    "    if question_col is None:\n",
    "        text_cols = df.select_dtypes(include=['object']).columns\n",
    "        question_col = text_cols[0] if len(text_cols) > 0 else df.columns[0]\n",
    "    \n",
    "    questions = df[question_col].head(num_questions).tolist()\n",
    "    \n",
    "    # Initialize RAG system\n",
    "    print(\"Initializing OpenAI RAG system...\")\n",
    "    scirag = SciRagOpenAI(vector_db_backend=\"openai\")\n",
    "    \n",
    "    openai_results = []\n",
    "    \n",
    "    for i, question in enumerate(questions, 1):\n",
    "        print(f\"Processing question {i}/{num_questions}\")\n",
    "        \n",
    "        # OpenAI processing\n",
    "        start_time = time.time()\n",
    "        try:\n",
    "            openai_response = scirag.get_response(question)\n",
    "            openai_time = time.time() - start_time\n",
    "            openai_answer, openai_sources = parse_response(openai_response)\n",
    "            openai_success = True\n",
    "            openai_error = None\n",
    "        except Exception as e:\n",
    "            openai_response = None\n",
    "            openai_time = time.time() - start_time\n",
    "            openai_answer = None\n",
    "            openai_sources = None\n",
    "            openai_success = False\n",
    "            openai_error = str(e)\n",
    "        \n",
    "        openai_results.append({\n",
    "            'question_id': i,\n",
    "            'question': question,\n",
    "            'response': openai_response,\n",
    "            'answer': openai_answer,\n",
    "            'sources': openai_sources,\n",
    "            'processing_time': openai_time,\n",
    "            'success': openai_success,\n",
    "            'error': openai_error,\n",
    "            'embedding_system': 'OpenAI'\n",
    "        })\n",
    "    \n",
    "    # Create DataFrame\n",
    "    openai_df = pd.DataFrame(openai_results)\n",
    "    return openai_df"
   ]
  },
  {
   "cell_type": "code",
   "execution_count": 18,
   "id": "a3483444",
   "metadata": {},
   "outputs": [
    {
     "name": "stdout",
     "output_type": "stream",
     "text": [
      "Initializing OpenAI RAG system...\n",
      "Listing existing RAG Corpora:\n",
      "--- Found existing corpus: corpus ---\n",
      "Creating assistant for existing vector store...\n",
      "Assistant created for existing corpus with ID: asst_qVUaKGC1GDjm6UX0lPsQUinu\n",
      "Processing question 1/5\n",
      "Processing question 2/5\n",
      "Processing question 3/5\n",
      "Processing question 4/5\n",
      "Processing question 5/5\n"
     ]
    }
   ],
   "source": [
    "openai_df = get_OpenAI_rag_response(num_questions=5)"
   ]
  },
  {
   "cell_type": "code",
   "execution_count": 19,
   "id": "3edafd98",
   "metadata": {},
   "outputs": [
    {
     "data": {
      "text/html": [
       "<div>\n",
       "<style scoped>\n",
       "    .dataframe tbody tr th:only-of-type {\n",
       "        vertical-align: middle;\n",
       "    }\n",
       "\n",
       "    .dataframe tbody tr th {\n",
       "        vertical-align: top;\n",
       "    }\n",
       "\n",
       "    .dataframe thead th {\n",
       "        text-align: right;\n",
       "    }\n",
       "</style>\n",
       "<table border=\"1\" class=\"dataframe\">\n",
       "  <thead>\n",
       "    <tr style=\"text-align: right;\">\n",
       "      <th></th>\n",
       "      <th>question_id</th>\n",
       "      <th>question</th>\n",
       "      <th>response</th>\n",
       "      <th>answer</th>\n",
       "      <th>sources</th>\n",
       "      <th>processing_time</th>\n",
       "      <th>success</th>\n",
       "      <th>error</th>\n",
       "      <th>embedding_system</th>\n",
       "    </tr>\n",
       "  </thead>\n",
       "  <tbody>\n",
       "    <tr>\n",
       "      <th>0</th>\n",
       "      <td>1</td>\n",
       "      <td>How is the standard recombination history test...</td>\n",
       "      <td>**Answer**:\\n\\nThe standard recombination hist...</td>\n",
       "      <td>The standard recombination history in the Plan...</td>\n",
       "      <td>1807.06209v4.md</td>\n",
       "      <td>12.331657</td>\n",
       "      <td>True</td>\n",
       "      <td>None</td>\n",
       "      <td>OpenAI</td>\n",
       "    </tr>\n",
       "    <tr>\n",
       "      <th>1</th>\n",
       "      <td>2</td>\n",
       "      <td>Which corrections in polarization spectra were...</td>\n",
       "      <td>**Answer**:\\n\\nThe 2018 Planck analysis implem...</td>\n",
       "      <td>The 2018 Planck analysis implemented several k...</td>\n",
       "      <td>1807.06209v4.md section: Correction of systema...</td>\n",
       "      <td>13.407457</td>\n",
       "      <td>True</td>\n",
       "      <td>None</td>\n",
       "      <td>OpenAI</td>\n",
       "    </tr>\n",
       "    <tr>\n",
       "      <th>2</th>\n",
       "      <td>3</td>\n",
       "      <td>What multipole cuts were applied in the Camspe...</td>\n",
       "      <td>**Answer**:\\n\\nFor the Planck 2018 analysis, t...</td>\n",
       "      <td>For the Planck 2018 analysis, the Camspec temp...</td>\n",
       "      <td>1807.06209v4.md, Section discussing multipole ...</td>\n",
       "      <td>9.533640</td>\n",
       "      <td>True</td>\n",
       "      <td>None</td>\n",
       "      <td>OpenAI</td>\n",
       "    </tr>\n",
       "    <tr>\n",
       "      <th>3</th>\n",
       "      <td>4</td>\n",
       "      <td>What is the effective sky-fraction of the apod...</td>\n",
       "      <td>**Answer**:\\n\\nThe effective sky-fraction of t...</td>\n",
       "      <td>The effective sky-fraction of the apodized Cam...</td>\n",
       "      <td>1807.06209v4.md, see: 'The default CamSpec pol...</td>\n",
       "      <td>7.378245</td>\n",
       "      <td>True</td>\n",
       "      <td>None</td>\n",
       "      <td>OpenAI</td>\n",
       "    </tr>\n",
       "    <tr>\n",
       "      <th>4</th>\n",
       "      <td>5</td>\n",
       "      <td>How large is the impact of beam window functio...</td>\n",
       "      <td>**Answer**:\\n\\nThe impact of beam window funct...</td>\n",
       "      <td>The impact of beam window functions on the 201...</td>\n",
       "      <td>1807.06209v4.md, Section: Major changes with r...</td>\n",
       "      <td>13.333454</td>\n",
       "      <td>True</td>\n",
       "      <td>None</td>\n",
       "      <td>OpenAI</td>\n",
       "    </tr>\n",
       "  </tbody>\n",
       "</table>\n",
       "</div>"
      ],
      "text/plain": [
       "   question_id                                           question  \\\n",
       "0            1  How is the standard recombination history test...   \n",
       "1            2  Which corrections in polarization spectra were...   \n",
       "2            3  What multipole cuts were applied in the Camspe...   \n",
       "3            4  What is the effective sky-fraction of the apod...   \n",
       "4            5  How large is the impact of beam window functio...   \n",
       "\n",
       "                                            response  \\\n",
       "0  **Answer**:\\n\\nThe standard recombination hist...   \n",
       "1  **Answer**:\\n\\nThe 2018 Planck analysis implem...   \n",
       "2  **Answer**:\\n\\nFor the Planck 2018 analysis, t...   \n",
       "3  **Answer**:\\n\\nThe effective sky-fraction of t...   \n",
       "4  **Answer**:\\n\\nThe impact of beam window funct...   \n",
       "\n",
       "                                              answer  \\\n",
       "0  The standard recombination history in the Plan...   \n",
       "1  The 2018 Planck analysis implemented several k...   \n",
       "2  For the Planck 2018 analysis, the Camspec temp...   \n",
       "3  The effective sky-fraction of the apodized Cam...   \n",
       "4  The impact of beam window functions on the 201...   \n",
       "\n",
       "                                             sources  processing_time  \\\n",
       "0                                    1807.06209v4.md        12.331657   \n",
       "1  1807.06209v4.md section: Correction of systema...        13.407457   \n",
       "2  1807.06209v4.md, Section discussing multipole ...         9.533640   \n",
       "3  1807.06209v4.md, see: 'The default CamSpec pol...         7.378245   \n",
       "4  1807.06209v4.md, Section: Major changes with r...        13.333454   \n",
       "\n",
       "   success error embedding_system  \n",
       "0     True  None           OpenAI  \n",
       "1     True  None           OpenAI  \n",
       "2     True  None           OpenAI  \n",
       "3     True  None           OpenAI  \n",
       "4     True  None           OpenAI  "
      ]
     },
     "execution_count": 19,
     "metadata": {},
     "output_type": "execute_result"
    }
   ],
   "source": [
    "openai_df"
   ]
  },
  {
   "cell_type": "markdown",
   "id": "0eb0c53f",
   "metadata": {},
   "source": [
    "paperqa2"
   ]
  },
  {
   "cell_type": "code",
   "execution_count": 20,
   "id": "7be7727d",
   "metadata": {},
   "outputs": [],
   "source": [
    "from scirag import SciRagPaperQA2"
   ]
  },
  {
   "cell_type": "code",
   "execution_count": 23,
   "id": "d13bda47",
   "metadata": {},
   "outputs": [],
   "source": [
    "\n",
    "def get_PaperQA2_rag_response(num_questions=5):\n",
    "# Load dataset\n",
    "    dataset = SciRagDataSet()\n",
    "    df = dataset.load_dataset()\n",
    "    \n",
    "    # Get questions - using 'question' column based on your example\n",
    "    question_columns = ['question', 'query', 'text', 'prompt']\n",
    "    question_col = None\n",
    "    for col in question_columns:\n",
    "        if col in df.columns:\n",
    "            question_col = col\n",
    "            break\n",
    "    \n",
    "    if question_col is None:\n",
    "        text_cols = df.select_dtypes(include=['object']).columns\n",
    "        question_col = text_cols[0] if len(text_cols) > 0 else df.columns[0]\n",
    "    \n",
    "    questions = df[question_col].head(num_questions).tolist()\n",
    "    \n",
    "    # Initialize PaperQA2 RAG system\n",
    "    print(\"Initializing PaperQA2 RAG system...\")\n",
    "    scirag = SciRagPaperQA2()\n",
    "    \n",
    "    paperqa2_results = []\n",
    "    \n",
    "    for i, question in enumerate(questions, 1):\n",
    "        print(f\"Processing question {i}/{num_questions}\")\n",
    "        print(f\"Question: {question}\")\n",
    "        \n",
    "        # PaperQA2 processing with timing\n",
    "        start_time = time.time()\n",
    "        try:\n",
    "            paperqa2_response = scirag.get_response(question)\n",
    "            paperqa2_time = time.time() - start_time\n",
    "            paperqa2_answer, paperqa2_sources = parse_response(paperqa2_response.answer)\n",
    "            paperqa2_success = True\n",
    "            paperqa2_error = None\n",
    "            \n",
    "            # Display results for interactive use\n",
    "            display(Markdown(f\"**Response:**\\n{paperqa2_response.answer}\"))\n",
    "            \n",
    "        except Exception as e:\n",
    "            paperqa2_response = None\n",
    "            paperqa2_time = time.time() - start_time\n",
    "            paperqa2_answer = None\n",
    "            paperqa2_sources = None\n",
    "            paperqa2_success = False\n",
    "            paperqa2_error = str(e)\n",
    "        print(f\"Processing Time: {paperqa2_time:.2f} seconds\")\n",
    "        \n",
    "        paperqa2_results.append({\n",
    "            'question_id': i,\n",
    "            'question': question,\n",
    "            'response': paperqa2_response,\n",
    "            'answer': paperqa2_answer,\n",
    "            'sources': paperqa2_sources,\n",
    "            'processing_time': paperqa2_time,\n",
    "            'success': paperqa2_success,\n",
    "            'error': paperqa2_error,\n",
    "            'embedding_system': 'PaperQA2'\n",
    "        })\n",
    "    \n",
    "    \n",
    "    # Create DataFrame\n",
    "    paperqa2_df = pd.DataFrame(paperqa2_results)\n",
    "    \n",
    "    return paperqa2_df"
   ]
  },
  {
   "cell_type": "code",
   "execution_count": 24,
   "id": "8427b662",
   "metadata": {},
   "outputs": [
    {
     "name": "stdout",
     "output_type": "stream",
     "text": [
      "Initializing PaperQA2 RAG system...\n",
      "[SciRagPaperQA2] Building index on initialization...\n",
      "[SciRagPaperQA2] Checking for paper directory: /Users/apple/Documents/GitHub/scirag_paperqa/scirag/txt_files\n",
      "[SciRagPaperQA2] Building PaperQA2 document index (only happens once)...\n",
      "Using index: pqa_index_969208873c16842f6232653a9eca7e7a\n",
      "Index files: {'2201.02202v1.txt': 'a569bb587a9091300ba2f479aba3efc8', '1604.01424v3.txt': '70196f1a55258dc0d6ece83887dec601', '1807.06209v4.txt': '61f1a51953008a179d876dded8a7f3a1', '2010.00619v2.txt': 'cc0b6c6c76fe9a1b9132c0dd9de161bf', '2503.14454v1.txt': 'cc44e168db0f207acfe5c6a6f185e266'}\n",
      "[SciRagPaperQA2] Index built successfully.\n",
      "Processing question 1/5\n",
      "Question: How is the standard recombination history tested in the Planck 2018 analysis?\n"
     ]
    },
    {
     "data": {
      "text/html": [
       "<pre style=\"white-space:pre;overflow-x:auto;line-height:normal;font-family:Menlo,'DejaVu Sans Mono',consolas,'Courier New',monospace\"><span style=\"color: #7fbfbf; text-decoration-color: #7fbfbf\">[10:16:27] </span>Starting paper search for <span style=\"color: #008000; text-decoration-color: #008000\">'standard recombination history Planck 2018 analysis'</span>.                        \n",
       "</pre>\n"
      ],
      "text/plain": [
       "\u001b[2;36m[10:16:27]\u001b[0m\u001b[2;36m \u001b[0mStarting paper search for \u001b[32m'standard recombination history Planck 2018 analysis'\u001b[0m.                        \n"
      ]
     },
     "metadata": {},
     "output_type": "display_data"
    },
    {
     "data": {
      "text/html": [
       "<pre style=\"white-space:pre;overflow-x:auto;line-height:normal;font-family:Menlo,'DejaVu Sans Mono',consolas,'Courier New',monospace\"><span style=\"color: #7fbfbf; text-decoration-color: #7fbfbf\">           </span>paper_search for query <span style=\"color: #008000; text-decoration-color: #008000\">'standard recombination history Planck 2018 analysis'</span> and offset <span style=\"color: #008080; text-decoration-color: #008080; font-weight: bold\">0</span> returned <span style=\"color: #008080; text-decoration-color: #008080; font-weight: bold\">5</span>    \n",
       "<span style=\"color: #7fbfbf; text-decoration-color: #7fbfbf\">           </span>papers.                                                                                                 \n",
       "</pre>\n"
      ],
      "text/plain": [
       "\u001b[2;36m          \u001b[0m\u001b[2;36m \u001b[0mpaper_search for query \u001b[32m'standard recombination history Planck 2018 analysis'\u001b[0m and offset \u001b[1;36m0\u001b[0m returned \u001b[1;36m5\u001b[0m    \n",
       "\u001b[2;36m           \u001b[0mpapers.                                                                                                 \n"
      ]
     },
     "metadata": {},
     "output_type": "display_data"
    },
    {
     "data": {
      "text/html": [
       "<pre style=\"white-space:pre;overflow-x:auto;line-height:normal;font-family:Menlo,'DejaVu Sans Mono',consolas,'Courier New',monospace\"><span style=\"color: #7fbfbf; text-decoration-color: #7fbfbf\">           </span>Status: Paper <span style=\"color: #808000; text-decoration-color: #808000\">Count</span>=<span style=\"color: #008080; text-decoration-color: #008080; font-weight: bold\">5</span> | Relevant <span style=\"color: #808000; text-decoration-color: #808000\">Papers</span>=<span style=\"color: #008080; text-decoration-color: #008080; font-weight: bold\">0</span> | Current <span style=\"color: #808000; text-decoration-color: #808000\">Evidence</span>=<span style=\"color: #008080; text-decoration-color: #008080; font-weight: bold\">0</span> | Current <span style=\"color: #808000; text-decoration-color: #808000\">Cost</span>=$<span style=\"color: #008080; text-decoration-color: #008080; font-weight: bold\">0.0001</span>                   \n",
       "</pre>\n"
      ],
      "text/plain": [
       "\u001b[2;36m          \u001b[0m\u001b[2;36m \u001b[0mStatus: Paper \u001b[33mCount\u001b[0m=\u001b[1;36m5\u001b[0m | Relevant \u001b[33mPapers\u001b[0m=\u001b[1;36m0\u001b[0m | Current \u001b[33mEvidence\u001b[0m=\u001b[1;36m0\u001b[0m | Current \u001b[33mCost\u001b[0m=$\u001b[1;36m0.0001\u001b[0m                   \n"
      ]
     },
     "metadata": {},
     "output_type": "display_data"
    },
    {
     "data": {
      "text/html": [
       "<pre style=\"white-space:pre;overflow-x:auto;line-height:normal;font-family:Menlo,'DejaVu Sans Mono',consolas,'Courier New',monospace\"><span style=\"color: #7fbfbf; text-decoration-color: #7fbfbf\">[10:16:29] </span>gather_evidence starting for question <span style=\"color: #008000; text-decoration-color: #008000\">'How is the standard recombination history tested in the Planck </span>  \n",
       "<span style=\"color: #7fbfbf; text-decoration-color: #7fbfbf\">           </span><span style=\"color: #008000; text-decoration-color: #008000\">2018 analysis?'</span>.                                                                                        \n",
       "</pre>\n"
      ],
      "text/plain": [
       "\u001b[2;36m[10:16:29]\u001b[0m\u001b[2;36m \u001b[0mgather_evidence starting for question \u001b[32m'How is the standard recombination history tested in the Planck \u001b[0m  \n",
       "\u001b[2;36m           \u001b[0m\u001b[32m2018 analysis?'\u001b[0m.                                                                                        \n"
      ]
     },
     "metadata": {},
     "output_type": "display_data"
    },
    {
     "data": {
      "text/html": [
       "<pre style=\"white-space:pre;overflow-x:auto;line-height:normal;font-family:Menlo,'DejaVu Sans Mono',consolas,'Courier New',monospace\"><span style=\"color: #7fbfbf; text-decoration-color: #7fbfbf\">[10:16:34] </span>Status: Paper <span style=\"color: #808000; text-decoration-color: #808000\">Count</span>=<span style=\"color: #008080; text-decoration-color: #008080; font-weight: bold\">5</span> | Relevant <span style=\"color: #808000; text-decoration-color: #808000\">Papers</span>=<span style=\"color: #008080; text-decoration-color: #008080; font-weight: bold\">2</span> | Current <span style=\"color: #808000; text-decoration-color: #808000\">Evidence</span>=<span style=\"color: #008080; text-decoration-color: #008080; font-weight: bold\">3</span> | Current <span style=\"color: #808000; text-decoration-color: #808000\">Cost</span>=$<span style=\"color: #008080; text-decoration-color: #008080; font-weight: bold\">0.0018</span>                   \n",
       "</pre>\n"
      ],
      "text/plain": [
       "\u001b[2;36m[10:16:34]\u001b[0m\u001b[2;36m \u001b[0mStatus: Paper \u001b[33mCount\u001b[0m=\u001b[1;36m5\u001b[0m | Relevant \u001b[33mPapers\u001b[0m=\u001b[1;36m2\u001b[0m | Current \u001b[33mEvidence\u001b[0m=\u001b[1;36m3\u001b[0m | Current \u001b[33mCost\u001b[0m=$\u001b[1;36m0.0018\u001b[0m                   \n"
      ]
     },
     "metadata": {},
     "output_type": "display_data"
    },
    {
     "data": {
      "text/html": [
       "<pre style=\"white-space:pre;overflow-x:auto;line-height:normal;font-family:Menlo,'DejaVu Sans Mono',consolas,'Courier New',monospace\"><span style=\"color: #7fbfbf; text-decoration-color: #7fbfbf\">           </span>Generating answer for <span style=\"color: #008000; text-decoration-color: #008000\">'How is the standard recombination history tested in the Planck 2018 analysis?'</span>.  \n",
       "</pre>\n"
      ],
      "text/plain": [
       "\u001b[2;36m          \u001b[0m\u001b[2;36m \u001b[0mGenerating answer for \u001b[32m'How is the standard recombination history tested in the Planck 2018 analysis?'\u001b[0m.  \n"
      ]
     },
     "metadata": {},
     "output_type": "display_data"
    },
    {
     "data": {
      "text/html": [
       "<pre style=\"white-space:pre;overflow-x:auto;line-height:normal;font-family:Menlo,'DejaVu Sans Mono',consolas,'Courier New',monospace\"><span style=\"color: #7fbfbf; text-decoration-color: #7fbfbf\">[10:16:37] </span>Status: Paper <span style=\"color: #808000; text-decoration-color: #808000\">Count</span>=<span style=\"color: #008080; text-decoration-color: #008080; font-weight: bold\">5</span> | Relevant <span style=\"color: #808000; text-decoration-color: #808000\">Papers</span>=<span style=\"color: #008080; text-decoration-color: #008080; font-weight: bold\">2</span> | Current <span style=\"color: #808000; text-decoration-color: #808000\">Evidence</span>=<span style=\"color: #008080; text-decoration-color: #008080; font-weight: bold\">3</span> | Current <span style=\"color: #808000; text-decoration-color: #808000\">Cost</span>=$<span style=\"color: #008080; text-decoration-color: #008080; font-weight: bold\">0.0026</span>                   \n",
       "</pre>\n"
      ],
      "text/plain": [
       "\u001b[2;36m[10:16:37]\u001b[0m\u001b[2;36m \u001b[0mStatus: Paper \u001b[33mCount\u001b[0m=\u001b[1;36m5\u001b[0m | Relevant \u001b[33mPapers\u001b[0m=\u001b[1;36m2\u001b[0m | Current \u001b[33mEvidence\u001b[0m=\u001b[1;36m3\u001b[0m | Current \u001b[33mCost\u001b[0m=$\u001b[1;36m0.0026\u001b[0m                   \n"
      ]
     },
     "metadata": {},
     "output_type": "display_data"
    },
    {
     "data": {
      "text/html": [
       "<pre style=\"white-space:pre;overflow-x:auto;line-height:normal;font-family:Menlo,'DejaVu Sans Mono',consolas,'Courier New',monospace\"><span style=\"color: #7fbfbf; text-decoration-color: #7fbfbf\">[10:16:38] </span>Completing <span style=\"color: #008000; text-decoration-color: #008000\">'How is the standard recombination history tested in the Planck 2018 analysis?'</span> as <span style=\"color: #008000; text-decoration-color: #008000\">'certain'</span>.\n",
       "</pre>\n"
      ],
      "text/plain": [
       "\u001b[2;36m[10:16:38]\u001b[0m\u001b[2;36m \u001b[0mCompleting \u001b[32m'How is the standard recombination history tested in the Planck 2018 analysis?'\u001b[0m as \u001b[32m'certain'\u001b[0m.\n"
      ]
     },
     "metadata": {},
     "output_type": "display_data"
    },
    {
     "data": {
      "text/html": [
       "<pre style=\"white-space:pre;overflow-x:auto;line-height:normal;font-family:Menlo,'DejaVu Sans Mono',consolas,'Courier New',monospace\"><span style=\"color: #7fbfbf; text-decoration-color: #7fbfbf\">           </span><span style=\"color: #000080; text-decoration-color: #000080; font-weight: bold\">Answer: The standard recombination history is tested in the Planck </span><span style=\"color: #008080; text-decoration-color: #008080; font-weight: bold\">2018</span><span style=\"color: #000080; text-decoration-color: #000080; font-weight: bold\"> analysis by utilizing precision </span>\n",
       "<span style=\"color: #7fbfbf; text-decoration-color: #7fbfbf\">           </span><span style=\"color: #000080; text-decoration-color: #000080; font-weight: bold\">data from the Planck satellite to examine the decoupling of cosmic microwave background (CMB) photons </span>  \n",
       "<span style=\"color: #7fbfbf; text-decoration-color: #7fbfbf\">           </span><span style=\"color: #000080; text-decoration-color: #000080; font-weight: bold\">from baryons around redshift z ≈ </span><span style=\"color: #008080; text-decoration-color: #008080; font-weight: bold\">10</span><span style=\"color: #000080; text-decoration-color: #000080; font-weight: bold\">^</span><span style=\"color: #008080; text-decoration-color: #008080; font-weight: bold\">3</span><span style=\"color: #000080; text-decoration-color: #000080; font-weight: bold\">, employing advanced recombination codes like CosmoRec and HyRec, </span> \n",
       "<span style=\"color: #7fbfbf; text-decoration-color: #7fbfbf\">           </span><span style=\"color: #000080; text-decoration-color: #000080; font-weight: bold\">and performing a semi-blind eigen-analysis on deviations of the free-electron fraction </span>                 \n",
       "<span style=\"color: #7fbfbf; text-decoration-color: #7fbfbf\">           </span><span style=\"color: #000080; text-decoration-color: #000080; font-weight: bold\">(aghanim2020&lt;</span><span style=\"color: #ff00ff; text-decoration-color: #ff00ff; font-weight: bold\">i</span><span style=\"color: #000000; text-decoration-color: #000000; font-weight: bold\">&gt;planck&lt;i</span><span style=\"color: #000080; text-decoration-color: #000080; font-weight: bold\">&gt;2018results chunk </span><span style=\"color: #008080; text-decoration-color: #008080; font-weight: bold\">63</span><span style=\"color: #000080; text-decoration-color: #000080; font-weight: bold\">). Additionally, a non-parametric reconstruction using the </span> \n",
       "<span style=\"color: #7fbfbf; text-decoration-color: #7fbfbf\">           </span><span style=\"color: #000080; text-decoration-color: #000080; font-weight: bold\">ModRec model is applied to parametrize deviations in the ionization fraction, with results influenced by</span>\n",
       "<span style=\"color: #7fbfbf; text-decoration-color: #7fbfbf\">           </span><span style=\"color: #000080; text-decoration-color: #000080; font-weight: bold\">baryon acoustic oscillation (BAO) data (calabrese2025theatacamacosmology chunk </span><span style=\"color: #008080; text-decoration-color: #008080; font-weight: bold\">22</span><span style=\"color: #000080; text-decoration-color: #000080; font-weight: bold\">).</span>                     \n",
       "</pre>\n"
      ],
      "text/plain": [
       "\u001b[2;36m          \u001b[0m\u001b[2;36m \u001b[0m\u001b[1;34mAnswer: The standard recombination history is tested in the Planck \u001b[0m\u001b[1;36m2018\u001b[0m\u001b[1;34m analysis by utilizing precision \u001b[0m\n",
       "\u001b[2;36m           \u001b[0m\u001b[1;34mdata from the Planck satellite to examine the decoupling of cosmic microwave background \u001b[0m\u001b[1;34m(\u001b[0m\u001b[1;34mCMB\u001b[0m\u001b[1;34m)\u001b[0m\u001b[1;34m photons \u001b[0m  \n",
       "\u001b[2;36m           \u001b[0m\u001b[1;34mfrom baryons around redshift z ≈ \u001b[0m\u001b[1;36m10\u001b[0m\u001b[1;34m^\u001b[0m\u001b[1;36m3\u001b[0m\u001b[1;34m, employing advanced recombination codes like CosmoRec and HyRec, \u001b[0m \n",
       "\u001b[2;36m           \u001b[0m\u001b[1;34mand performing a semi-blind eigen-analysis on deviations of the free-electron fraction \u001b[0m                 \n",
       "\u001b[2;36m           \u001b[0m\u001b[1;34m(\u001b[0m\u001b[1;34maghanim2020\u001b[0m\u001b[1;34m<\u001b[0m\u001b[1;95mi\u001b[0m\u001b[1;39m>planck<i\u001b[0m\u001b[1;34m>\u001b[0m\u001b[1;34m2018results chunk \u001b[0m\u001b[1;36m63\u001b[0m\u001b[1;34m)\u001b[0m\u001b[1;34m. Additionally, a non-parametric reconstruction using the \u001b[0m \n",
       "\u001b[2;36m           \u001b[0m\u001b[1;34mModRec model is applied to parametrize deviations in the ionization fraction, with results influenced by\u001b[0m\n",
       "\u001b[2;36m           \u001b[0m\u001b[1;34mbaryon acoustic oscillation \u001b[0m\u001b[1;34m(\u001b[0m\u001b[1;34mBAO\u001b[0m\u001b[1;34m)\u001b[0m\u001b[1;34m data \u001b[0m\u001b[1;34m(\u001b[0m\u001b[1;34mcalabrese2025theatacamacosmology chunk \u001b[0m\u001b[1;36m22\u001b[0m\u001b[1;34m)\u001b[0m\u001b[1;34m.\u001b[0m                     \n"
      ]
     },
     "metadata": {},
     "output_type": "display_data"
    },
    {
     "data": {
      "text/markdown": [
       "**Response:**\n",
       "**Answer**:\n",
       "\n",
       "The standard recombination history is tested in the Planck 2018 analysis by utilizing precision data from the Planck satellite to examine the decoupling of cosmic microwave background (CMB) photons from baryons around redshift z ≈ 10^3, employing advanced recombination codes like CosmoRec and HyRec, and performing a semi-blind eigen-analysis on deviations of the free-electron fraction . Additionally, a non-parametric reconstruction using the ModRec model is applied to parametrize deviations in the ionization fraction, with results influenced by baryon acoustic oscillation (BAO) data .\n",
       "\n",
       "**Sources**:\n",
       "\n",
       "aghanim2020<i>planck<i>2018results chunk 63, calabrese2025theatacamacosmology chunk 22\n"
      ],
      "text/plain": [
       "<IPython.core.display.Markdown object>"
      ]
     },
     "metadata": {},
     "output_type": "display_data"
    },
    {
     "name": "stdout",
     "output_type": "stream",
     "text": [
      "Processing Time: 12.38 seconds\n",
      "Processing question 2/5\n",
      "Question: Which corrections in polarization spectra were implemented in the 2018 Planck analysis?\n"
     ]
    },
    {
     "data": {
      "text/html": [
       "<pre style=\"white-space:pre;overflow-x:auto;line-height:normal;font-family:Menlo,'DejaVu Sans Mono',consolas,'Courier New',monospace\"><span style=\"color: #7fbfbf; text-decoration-color: #7fbfbf\">[10:16:40] </span>Starting paper search for <span style=\"color: #008000; text-decoration-color: #008000\">'2018 Planck analysis polarization spectra corrections'</span>.                      \n",
       "</pre>\n"
      ],
      "text/plain": [
       "\u001b[2;36m[10:16:40]\u001b[0m\u001b[2;36m \u001b[0mStarting paper search for \u001b[32m'2018 Planck analysis polarization spectra corrections'\u001b[0m.                      \n"
      ]
     },
     "metadata": {},
     "output_type": "display_data"
    },
    {
     "data": {
      "text/html": [
       "<pre style=\"white-space:pre;overflow-x:auto;line-height:normal;font-family:Menlo,'DejaVu Sans Mono',consolas,'Courier New',monospace\"><span style=\"color: #7fbfbf; text-decoration-color: #7fbfbf\">           </span>paper_search for query <span style=\"color: #008000; text-decoration-color: #008000\">'2018 Planck analysis polarization spectra corrections'</span> and offset <span style=\"color: #008080; text-decoration-color: #008080; font-weight: bold\">0</span> returned <span style=\"color: #008080; text-decoration-color: #008080; font-weight: bold\">5</span>  \n",
       "<span style=\"color: #7fbfbf; text-decoration-color: #7fbfbf\">           </span>papers.                                                                                                 \n",
       "</pre>\n"
      ],
      "text/plain": [
       "\u001b[2;36m          \u001b[0m\u001b[2;36m \u001b[0mpaper_search for query \u001b[32m'2018 Planck analysis polarization spectra corrections'\u001b[0m and offset \u001b[1;36m0\u001b[0m returned \u001b[1;36m5\u001b[0m  \n",
       "\u001b[2;36m           \u001b[0mpapers.                                                                                                 \n"
      ]
     },
     "metadata": {},
     "output_type": "display_data"
    },
    {
     "data": {
      "text/html": [
       "<pre style=\"white-space:pre;overflow-x:auto;line-height:normal;font-family:Menlo,'DejaVu Sans Mono',consolas,'Courier New',monospace\"><span style=\"color: #7fbfbf; text-decoration-color: #7fbfbf\">           </span>Status: Paper <span style=\"color: #808000; text-decoration-color: #808000\">Count</span>=<span style=\"color: #008080; text-decoration-color: #008080; font-weight: bold\">5</span> | Relevant <span style=\"color: #808000; text-decoration-color: #808000\">Papers</span>=<span style=\"color: #008080; text-decoration-color: #008080; font-weight: bold\">0</span> | Current <span style=\"color: #808000; text-decoration-color: #808000\">Evidence</span>=<span style=\"color: #008080; text-decoration-color: #008080; font-weight: bold\">0</span> | Current <span style=\"color: #808000; text-decoration-color: #808000\">Cost</span>=$<span style=\"color: #008080; text-decoration-color: #008080; font-weight: bold\">0.0001</span>                   \n",
       "</pre>\n"
      ],
      "text/plain": [
       "\u001b[2;36m          \u001b[0m\u001b[2;36m \u001b[0mStatus: Paper \u001b[33mCount\u001b[0m=\u001b[1;36m5\u001b[0m | Relevant \u001b[33mPapers\u001b[0m=\u001b[1;36m0\u001b[0m | Current \u001b[33mEvidence\u001b[0m=\u001b[1;36m0\u001b[0m | Current \u001b[33mCost\u001b[0m=$\u001b[1;36m0.0001\u001b[0m                   \n"
      ]
     },
     "metadata": {},
     "output_type": "display_data"
    },
    {
     "data": {
      "text/html": [
       "<pre style=\"white-space:pre;overflow-x:auto;line-height:normal;font-family:Menlo,'DejaVu Sans Mono',consolas,'Courier New',monospace\"><span style=\"color: #7fbfbf; text-decoration-color: #7fbfbf\">[10:16:41] </span>gather_evidence starting for question <span style=\"color: #008000; text-decoration-color: #008000\">'Which corrections in polarization spectra were implemented in the</span>\n",
       "<span style=\"color: #7fbfbf; text-decoration-color: #7fbfbf\">           </span><span style=\"color: #008000; text-decoration-color: #008000\">2018 Planck analysis?'</span>.                                                                                 \n",
       "</pre>\n"
      ],
      "text/plain": [
       "\u001b[2;36m[10:16:41]\u001b[0m\u001b[2;36m \u001b[0mgather_evidence starting for question \u001b[32m'Which corrections in polarization spectra were implemented in the\u001b[0m\n",
       "\u001b[2;36m           \u001b[0m\u001b[32m2018 Planck analysis?'\u001b[0m.                                                                                 \n"
      ]
     },
     "metadata": {},
     "output_type": "display_data"
    },
    {
     "data": {
      "text/html": [
       "<pre style=\"white-space:pre;overflow-x:auto;line-height:normal;font-family:Menlo,'DejaVu Sans Mono',consolas,'Courier New',monospace\"><span style=\"color: #7fbfbf; text-decoration-color: #7fbfbf\">[10:16:45] </span>Status: Paper <span style=\"color: #808000; text-decoration-color: #808000\">Count</span>=<span style=\"color: #008080; text-decoration-color: #008080; font-weight: bold\">5</span> | Relevant <span style=\"color: #808000; text-decoration-color: #808000\">Papers</span>=<span style=\"color: #008080; text-decoration-color: #008080; font-weight: bold\">1</span> | Current <span style=\"color: #808000; text-decoration-color: #808000\">Evidence</span>=<span style=\"color: #008080; text-decoration-color: #008080; font-weight: bold\">3</span> | Current <span style=\"color: #808000; text-decoration-color: #808000\">Cost</span>=$<span style=\"color: #008080; text-decoration-color: #008080; font-weight: bold\">0.0018</span>                   \n",
       "</pre>\n"
      ],
      "text/plain": [
       "\u001b[2;36m[10:16:45]\u001b[0m\u001b[2;36m \u001b[0mStatus: Paper \u001b[33mCount\u001b[0m=\u001b[1;36m5\u001b[0m | Relevant \u001b[33mPapers\u001b[0m=\u001b[1;36m1\u001b[0m | Current \u001b[33mEvidence\u001b[0m=\u001b[1;36m3\u001b[0m | Current \u001b[33mCost\u001b[0m=$\u001b[1;36m0.0018\u001b[0m                   \n"
      ]
     },
     "metadata": {},
     "output_type": "display_data"
    },
    {
     "data": {
      "text/html": [
       "<pre style=\"white-space:pre;overflow-x:auto;line-height:normal;font-family:Menlo,'DejaVu Sans Mono',consolas,'Courier New',monospace\"><span style=\"color: #7fbfbf; text-decoration-color: #7fbfbf\">[10:16:46] </span>Generating answer for <span style=\"color: #008000; text-decoration-color: #008000\">'Which corrections in polarization spectra were implemented in the 2018 Planck </span>   \n",
       "<span style=\"color: #7fbfbf; text-decoration-color: #7fbfbf\">           </span><span style=\"color: #008000; text-decoration-color: #008000\">analysis?'</span>.                                                                                             \n",
       "</pre>\n"
      ],
      "text/plain": [
       "\u001b[2;36m[10:16:46]\u001b[0m\u001b[2;36m \u001b[0mGenerating answer for \u001b[32m'Which corrections in polarization spectra were implemented in the 2018 Planck \u001b[0m   \n",
       "\u001b[2;36m           \u001b[0m\u001b[32manalysis?'\u001b[0m.                                                                                             \n"
      ]
     },
     "metadata": {},
     "output_type": "display_data"
    },
    {
     "data": {
      "text/html": [
       "<pre style=\"white-space:pre;overflow-x:auto;line-height:normal;font-family:Menlo,'DejaVu Sans Mono',consolas,'Courier New',monospace\"><span style=\"color: #7fbfbf; text-decoration-color: #7fbfbf\">[10:16:48] </span>Status: Paper <span style=\"color: #808000; text-decoration-color: #808000\">Count</span>=<span style=\"color: #008080; text-decoration-color: #008080; font-weight: bold\">5</span> | Relevant <span style=\"color: #808000; text-decoration-color: #808000\">Papers</span>=<span style=\"color: #008080; text-decoration-color: #008080; font-weight: bold\">1</span> | Current <span style=\"color: #808000; text-decoration-color: #808000\">Evidence</span>=<span style=\"color: #008080; text-decoration-color: #008080; font-weight: bold\">3</span> | Current <span style=\"color: #808000; text-decoration-color: #808000\">Cost</span>=$<span style=\"color: #008080; text-decoration-color: #008080; font-weight: bold\">0.0026</span>                   \n",
       "</pre>\n"
      ],
      "text/plain": [
       "\u001b[2;36m[10:16:48]\u001b[0m\u001b[2;36m \u001b[0mStatus: Paper \u001b[33mCount\u001b[0m=\u001b[1;36m5\u001b[0m | Relevant \u001b[33mPapers\u001b[0m=\u001b[1;36m1\u001b[0m | Current \u001b[33mEvidence\u001b[0m=\u001b[1;36m3\u001b[0m | Current \u001b[33mCost\u001b[0m=$\u001b[1;36m0.0026\u001b[0m                   \n"
      ]
     },
     "metadata": {},
     "output_type": "display_data"
    },
    {
     "data": {
      "text/html": [
       "<pre style=\"white-space:pre;overflow-x:auto;line-height:normal;font-family:Menlo,'DejaVu Sans Mono',consolas,'Courier New',monospace\"><span style=\"color: #7fbfbf; text-decoration-color: #7fbfbf\">[10:16:49] </span>Completing <span style=\"color: #008000; text-decoration-color: #008000\">'Which corrections in polarization spectra were implemented in the 2018 Planck analysis?'</span> as \n",
       "<span style=\"color: #7fbfbf; text-decoration-color: #7fbfbf\">           </span><span style=\"color: #008000; text-decoration-color: #008000\">'certain'</span>.                                                                                              \n",
       "</pre>\n"
      ],
      "text/plain": [
       "\u001b[2;36m[10:16:49]\u001b[0m\u001b[2;36m \u001b[0mCompleting \u001b[32m'Which corrections in polarization spectra were implemented in the 2018 Planck analysis?'\u001b[0m as \n",
       "\u001b[2;36m           \u001b[0m\u001b[32m'certain'\u001b[0m.                                                                                              \n"
      ]
     },
     "metadata": {},
     "output_type": "display_data"
    },
    {
     "data": {
      "text/html": [
       "<pre style=\"white-space:pre;overflow-x:auto;line-height:normal;font-family:Menlo,'DejaVu Sans Mono',consolas,'Courier New',monospace\"><span style=\"color: #7fbfbf; text-decoration-color: #7fbfbf\">           </span><span style=\"color: #000080; text-decoration-color: #000080; font-weight: bold\">Answer: In the </span><span style=\"color: #008080; text-decoration-color: #008080; font-weight: bold\">2018</span><span style=\"color: #000080; text-decoration-color: #000080; font-weight: bold\"> Planck analysis, significant corrections to the polarization spectra were </span>          \n",
       "<span style=\"color: #7fbfbf; text-decoration-color: #7fbfbf\">           </span><span style=\"color: #000080; text-decoration-color: #000080; font-weight: bold\">implemented, primarily addressing polarization efficiencies and beam leakage. Two approaches were </span>      \n",
       "<span style=\"color: #7fbfbf; text-decoration-color: #7fbfbf\">           </span><span style=\"color: #000080; text-decoration-color: #000080; font-weight: bold\">utilized: a </span><span style=\"color: #008000; text-decoration-color: #008000\">'map-based'</span><span style=\"color: #000080; text-decoration-color: #000080; font-weight: bold\"> approach, which used estimates from the EE spectrum for both TE and EE spectra, </span>\n",
       "<span style=\"color: #7fbfbf; text-decoration-color: #7fbfbf\">           </span><span style=\"color: #000080; text-decoration-color: #000080; font-weight: bold\">and a </span><span style=\"color: #008000; text-decoration-color: #008000\">'spectrum-based'</span><span style=\"color: #000080; text-decoration-color: #000080; font-weight: bold\"> approach, which applied different efficiencies to TE and EE spectra based on </span>    \n",
       "<span style=\"color: #7fbfbf; text-decoration-color: #7fbfbf\">           </span><span style=\"color: #000080; text-decoration-color: #000080; font-weight: bold\">their respective fits (aghanim2020&lt;</span><span style=\"color: #ff00ff; text-decoration-color: #ff00ff; font-weight: bold\">i</span><span style=\"color: #000000; text-decoration-color: #000000; font-weight: bold\">&gt;planck&lt;i</span><span style=\"color: #000080; text-decoration-color: #000080; font-weight: bold\">&gt;2018results chunk </span><span style=\"color: #008080; text-decoration-color: #008080; font-weight: bold\">9</span><span style=\"color: #000080; text-decoration-color: #000080; font-weight: bold\">).</span>                                     \n",
       "</pre>\n"
      ],
      "text/plain": [
       "\u001b[2;36m          \u001b[0m\u001b[2;36m \u001b[0m\u001b[1;34mAnswer: In the \u001b[0m\u001b[1;36m2018\u001b[0m\u001b[1;34m Planck analysis, significant corrections to the polarization spectra were \u001b[0m          \n",
       "\u001b[2;36m           \u001b[0m\u001b[1;34mimplemented, primarily addressing polarization efficiencies and beam leakage. Two approaches were \u001b[0m      \n",
       "\u001b[2;36m           \u001b[0m\u001b[1;34mutilized: a \u001b[0m\u001b[32m'map-based'\u001b[0m\u001b[1;34m approach, which used estimates from the EE spectrum for both TE and EE spectra, \u001b[0m\n",
       "\u001b[2;36m           \u001b[0m\u001b[1;34mand a \u001b[0m\u001b[32m'spectrum-based'\u001b[0m\u001b[1;34m approach, which applied different efficiencies to TE and EE spectra based on \u001b[0m    \n",
       "\u001b[2;36m           \u001b[0m\u001b[1;34mtheir respective fits \u001b[0m\u001b[1;34m(\u001b[0m\u001b[1;34maghanim2020\u001b[0m\u001b[1;34m<\u001b[0m\u001b[1;95mi\u001b[0m\u001b[1;39m>planck<i\u001b[0m\u001b[1;34m>\u001b[0m\u001b[1;34m2018results chunk \u001b[0m\u001b[1;36m9\u001b[0m\u001b[1;34m)\u001b[0m\u001b[1;34m.\u001b[0m                                     \n"
      ]
     },
     "metadata": {},
     "output_type": "display_data"
    },
    {
     "data": {
      "text/markdown": [
       "**Response:**\n",
       "**Answer**:\n",
       "\n",
       "In the 2018 Planck analysis, significant corrections to the polarization spectra were implemented, primarily addressing polarization efficiencies and beam leakage. Two approaches were utilized: a 'map-based' approach, which used estimates from the EE spectrum for both TE and EE spectra, and a 'spectrum-based' approach, which applied different efficiencies to TE and EE spectra based on their respective fits .\n",
       "\n",
       "**Sources**:\n",
       "\n",
       "aghanim2020<i>planck<i>2018results chunk 9\n"
      ],
      "text/plain": [
       "<IPython.core.display.Markdown object>"
      ]
     },
     "metadata": {},
     "output_type": "display_data"
    },
    {
     "name": "stdout",
     "output_type": "stream",
     "text": [
      "Processing Time: 10.74 seconds\n",
      "Processing question 3/5\n",
      "Question: What multipole cuts were applied in the Camspec temperature likelihood for the 143x217 spectrum for the Planck 2018 analysis?\n"
     ]
    },
    {
     "data": {
      "text/html": [
       "<pre style=\"white-space:pre;overflow-x:auto;line-height:normal;font-family:Menlo,'DejaVu Sans Mono',consolas,'Courier New',monospace\"><span style=\"color: #7fbfbf; text-decoration-color: #7fbfbf\">[10:16:51] </span>Starting paper search for <span style=\"color: #008000; text-decoration-color: #008000\">'Camspec temperature likelihood multipole cuts 143x217 Planck 2018 analysis'</span>. \n",
       "</pre>\n"
      ],
      "text/plain": [
       "\u001b[2;36m[10:16:51]\u001b[0m\u001b[2;36m \u001b[0mStarting paper search for \u001b[32m'Camspec temperature likelihood multipole cuts 143x217 Planck 2018 analysis'\u001b[0m. \n"
      ]
     },
     "metadata": {},
     "output_type": "display_data"
    },
    {
     "data": {
      "text/html": [
       "<pre style=\"white-space:pre;overflow-x:auto;line-height:normal;font-family:Menlo,'DejaVu Sans Mono',consolas,'Courier New',monospace\"><span style=\"color: #7fbfbf; text-decoration-color: #7fbfbf\">           </span>paper_search for query <span style=\"color: #008000; text-decoration-color: #008000\">'Camspec temperature likelihood multipole cuts 143x217 Planck 2018 analysis'</span> and \n",
       "<span style=\"color: #7fbfbf; text-decoration-color: #7fbfbf\">           </span>offset <span style=\"color: #008080; text-decoration-color: #008080; font-weight: bold\">0</span> returned <span style=\"color: #008080; text-decoration-color: #008080; font-weight: bold\">5</span> papers.                                                                             \n",
       "</pre>\n"
      ],
      "text/plain": [
       "\u001b[2;36m          \u001b[0m\u001b[2;36m \u001b[0mpaper_search for query \u001b[32m'Camspec temperature likelihood multipole cuts 143x217 Planck 2018 analysis'\u001b[0m and \n",
       "\u001b[2;36m           \u001b[0moffset \u001b[1;36m0\u001b[0m returned \u001b[1;36m5\u001b[0m papers.                                                                             \n"
      ]
     },
     "metadata": {},
     "output_type": "display_data"
    },
    {
     "data": {
      "text/html": [
       "<pre style=\"white-space:pre;overflow-x:auto;line-height:normal;font-family:Menlo,'DejaVu Sans Mono',consolas,'Courier New',monospace\"><span style=\"color: #7fbfbf; text-decoration-color: #7fbfbf\">           </span>Status: Paper <span style=\"color: #808000; text-decoration-color: #808000\">Count</span>=<span style=\"color: #008080; text-decoration-color: #008080; font-weight: bold\">5</span> | Relevant <span style=\"color: #808000; text-decoration-color: #808000\">Papers</span>=<span style=\"color: #008080; text-decoration-color: #008080; font-weight: bold\">0</span> | Current <span style=\"color: #808000; text-decoration-color: #808000\">Evidence</span>=<span style=\"color: #008080; text-decoration-color: #008080; font-weight: bold\">0</span> | Current <span style=\"color: #808000; text-decoration-color: #808000\">Cost</span>=$<span style=\"color: #008080; text-decoration-color: #008080; font-weight: bold\">0.0001</span>                   \n",
       "</pre>\n"
      ],
      "text/plain": [
       "\u001b[2;36m          \u001b[0m\u001b[2;36m \u001b[0mStatus: Paper \u001b[33mCount\u001b[0m=\u001b[1;36m5\u001b[0m | Relevant \u001b[33mPapers\u001b[0m=\u001b[1;36m0\u001b[0m | Current \u001b[33mEvidence\u001b[0m=\u001b[1;36m0\u001b[0m | Current \u001b[33mCost\u001b[0m=$\u001b[1;36m0.0001\u001b[0m                   \n"
      ]
     },
     "metadata": {},
     "output_type": "display_data"
    },
    {
     "data": {
      "text/html": [
       "<pre style=\"white-space:pre;overflow-x:auto;line-height:normal;font-family:Menlo,'DejaVu Sans Mono',consolas,'Courier New',monospace\"><span style=\"color: #7fbfbf; text-decoration-color: #7fbfbf\">[10:16:53] </span>gather_evidence starting for question <span style=\"color: #008000; text-decoration-color: #008000\">'What multipole cuts were applied in the Camspec temperature </span>     \n",
       "<span style=\"color: #7fbfbf; text-decoration-color: #7fbfbf\">           </span><span style=\"color: #008000; text-decoration-color: #008000\">likelihood for the 143x217 spectrum for the Planck 2018 analysis?'</span>.                                     \n",
       "</pre>\n"
      ],
      "text/plain": [
       "\u001b[2;36m[10:16:53]\u001b[0m\u001b[2;36m \u001b[0mgather_evidence starting for question \u001b[32m'What multipole cuts were applied in the Camspec temperature \u001b[0m     \n",
       "\u001b[2;36m           \u001b[0m\u001b[32mlikelihood for the 143x217 spectrum for the Planck 2018 analysis?'\u001b[0m.                                     \n"
      ]
     },
     "metadata": {},
     "output_type": "display_data"
    },
    {
     "data": {
      "text/html": [
       "<pre style=\"white-space:pre;overflow-x:auto;line-height:normal;font-family:Menlo,'DejaVu Sans Mono',consolas,'Courier New',monospace\"><span style=\"color: #7fbfbf; text-decoration-color: #7fbfbf\">[10:16:56] </span>Status: Paper <span style=\"color: #808000; text-decoration-color: #808000\">Count</span>=<span style=\"color: #008080; text-decoration-color: #008080; font-weight: bold\">5</span> | Relevant <span style=\"color: #808000; text-decoration-color: #808000\">Papers</span>=<span style=\"color: #008080; text-decoration-color: #008080; font-weight: bold\">1</span> | Current <span style=\"color: #808000; text-decoration-color: #808000\">Evidence</span>=<span style=\"color: #008080; text-decoration-color: #008080; font-weight: bold\">3</span> | Current <span style=\"color: #808000; text-decoration-color: #808000\">Cost</span>=$<span style=\"color: #008080; text-decoration-color: #008080; font-weight: bold\">0.0018</span>                   \n",
       "</pre>\n"
      ],
      "text/plain": [
       "\u001b[2;36m[10:16:56]\u001b[0m\u001b[2;36m \u001b[0mStatus: Paper \u001b[33mCount\u001b[0m=\u001b[1;36m5\u001b[0m | Relevant \u001b[33mPapers\u001b[0m=\u001b[1;36m1\u001b[0m | Current \u001b[33mEvidence\u001b[0m=\u001b[1;36m3\u001b[0m | Current \u001b[33mCost\u001b[0m=$\u001b[1;36m0.0018\u001b[0m                   \n"
      ]
     },
     "metadata": {},
     "output_type": "display_data"
    },
    {
     "data": {
      "text/html": [
       "<pre style=\"white-space:pre;overflow-x:auto;line-height:normal;font-family:Menlo,'DejaVu Sans Mono',consolas,'Courier New',monospace\"><span style=\"color: #7fbfbf; text-decoration-color: #7fbfbf\">[10:16:57] </span>Generating answer for <span style=\"color: #008000; text-decoration-color: #008000\">'What multipole cuts were applied in the Camspec temperature likelihood for the </span>  \n",
       "<span style=\"color: #7fbfbf; text-decoration-color: #7fbfbf\">           </span><span style=\"color: #008000; text-decoration-color: #008000\">143x217 spectrum for the Planck 2018 analysis?'</span>.                                                        \n",
       "</pre>\n"
      ],
      "text/plain": [
       "\u001b[2;36m[10:16:57]\u001b[0m\u001b[2;36m \u001b[0mGenerating answer for \u001b[32m'What multipole cuts were applied in the Camspec temperature likelihood for the \u001b[0m  \n",
       "\u001b[2;36m           \u001b[0m\u001b[32m143x217 spectrum for the Planck 2018 analysis?'\u001b[0m.                                                        \n"
      ]
     },
     "metadata": {},
     "output_type": "display_data"
    },
    {
     "data": {
      "text/html": [
       "<pre style=\"white-space:pre;overflow-x:auto;line-height:normal;font-family:Menlo,'DejaVu Sans Mono',consolas,'Courier New',monospace\"><span style=\"color: #7fbfbf; text-decoration-color: #7fbfbf\">[10:16:59] </span>Status: Paper <span style=\"color: #808000; text-decoration-color: #808000\">Count</span>=<span style=\"color: #008080; text-decoration-color: #008080; font-weight: bold\">5</span> | Relevant <span style=\"color: #808000; text-decoration-color: #808000\">Papers</span>=<span style=\"color: #008080; text-decoration-color: #008080; font-weight: bold\">1</span> | Current <span style=\"color: #808000; text-decoration-color: #808000\">Evidence</span>=<span style=\"color: #008080; text-decoration-color: #008080; font-weight: bold\">3</span> | Current <span style=\"color: #808000; text-decoration-color: #808000\">Cost</span>=$<span style=\"color: #008080; text-decoration-color: #008080; font-weight: bold\">0.0026</span>                   \n",
       "</pre>\n"
      ],
      "text/plain": [
       "\u001b[2;36m[10:16:59]\u001b[0m\u001b[2;36m \u001b[0mStatus: Paper \u001b[33mCount\u001b[0m=\u001b[1;36m5\u001b[0m | Relevant \u001b[33mPapers\u001b[0m=\u001b[1;36m1\u001b[0m | Current \u001b[33mEvidence\u001b[0m=\u001b[1;36m3\u001b[0m | Current \u001b[33mCost\u001b[0m=$\u001b[1;36m0.0026\u001b[0m                   \n"
      ]
     },
     "metadata": {},
     "output_type": "display_data"
    },
    {
     "data": {
      "text/html": [
       "<pre style=\"white-space:pre;overflow-x:auto;line-height:normal;font-family:Menlo,'DejaVu Sans Mono',consolas,'Courier New',monospace\"><span style=\"color: #7fbfbf; text-decoration-color: #7fbfbf\">[10:17:00] </span>Completing <span style=\"color: #008000; text-decoration-color: #008000\">'What multipole cuts were applied in the Camspec temperature likelihood for the 143x217 </span>     \n",
       "<span style=\"color: #7fbfbf; text-decoration-color: #7fbfbf\">           </span><span style=\"color: #008000; text-decoration-color: #008000\">spectrum for the Planck 2018 analysis?'</span> as <span style=\"color: #008000; text-decoration-color: #008000\">'certain'</span>.                                                   \n",
       "</pre>\n"
      ],
      "text/plain": [
       "\u001b[2;36m[10:17:00]\u001b[0m\u001b[2;36m \u001b[0mCompleting \u001b[32m'What multipole cuts were applied in the Camspec temperature likelihood for the 143x217 \u001b[0m     \n",
       "\u001b[2;36m           \u001b[0m\u001b[32mspectrum for the Planck 2018 analysis?'\u001b[0m as \u001b[32m'certain'\u001b[0m.                                                   \n"
      ]
     },
     "metadata": {},
     "output_type": "display_data"
    },
    {
     "data": {
      "text/html": [
       "<pre style=\"white-space:pre;overflow-x:auto;line-height:normal;font-family:Menlo,'DejaVu Sans Mono',consolas,'Courier New',monospace\"><span style=\"color: #7fbfbf; text-decoration-color: #7fbfbf\">           </span><span style=\"color: #000080; text-decoration-color: #000080; font-weight: bold\">Answer: In the Camspec temperature likelihood for the Planck </span><span style=\"color: #008080; text-decoration-color: #008080; font-weight: bold\">2018</span><span style=\"color: #000080; text-decoration-color: #000080; font-weight: bold\"> analysis, the multipole cuts applied </span> \n",
       "<span style=\"color: #7fbfbf; text-decoration-color: #7fbfbf\">           </span><span style=\"color: #000080; text-decoration-color: #000080; font-weight: bold\">to the </span><span style=\"color: #008080; text-decoration-color: #008080; font-weight: bold\">143</span><span style=\"color: #000080; text-decoration-color: #000080; font-weight: bold\"> × </span><span style=\"color: #008080; text-decoration-color: #008080; font-weight: bold\">217</span><span style=\"color: #000080; text-decoration-color: #000080; font-weight: bold\"> spectrum were set at \\( \\ell_{\\min} = </span><span style=\"color: #008080; text-decoration-color: #008080; font-weight: bold\">500</span><span style=\"color: #000080; text-decoration-color: #000080; font-weight: bold\"> \\) and \\( \\ell_{\\max} = </span><span style=\"color: #008080; text-decoration-color: #008080; font-weight: bold\">2500</span><span style=\"color: #000080; text-decoration-color: #000080; font-weight: bold\"> \\) to mitigate </span> \n",
       "<span style=\"color: #7fbfbf; text-decoration-color: #7fbfbf\">           </span><span style=\"color: #000080; text-decoration-color: #000080; font-weight: bold\">potential systematic biases arising from Galactic dust (aghanim2020&lt;planck&lt;2018results chunk </span><span style=\"color: #008080; text-decoration-color: #008080; font-weight: bold\">10</span><span style=\"color: #000080; text-decoration-color: #000080; font-weight: bold\">, </span>       \n",
       "<span style=\"color: #7fbfbf; text-decoration-color: #7fbfbf\">           </span><span style=\"color: #000080; text-decoration-color: #000080; font-weight: bold\">aghanim2020&lt;planck&lt;2018results chunk </span><span style=\"color: #008080; text-decoration-color: #008080; font-weight: bold\">11</span><span style=\"color: #000080; text-decoration-color: #000080; font-weight: bold\">).</span>                                                               \n",
       "</pre>\n"
      ],
      "text/plain": [
       "\u001b[2;36m          \u001b[0m\u001b[2;36m \u001b[0m\u001b[1;34mAnswer: In the Camspec temperature likelihood for the Planck \u001b[0m\u001b[1;36m2018\u001b[0m\u001b[1;34m analysis, the multipole cuts applied \u001b[0m \n",
       "\u001b[2;36m           \u001b[0m\u001b[1;34mto the \u001b[0m\u001b[1;36m143\u001b[0m\u001b[1;34m × \u001b[0m\u001b[1;36m217\u001b[0m\u001b[1;34m spectrum were set at \\\u001b[0m\u001b[1;34m(\u001b[0m\u001b[1;34m \\ell_\u001b[0m\u001b[1;34m{\u001b[0m\u001b[1;34m\\min\u001b[0m\u001b[1;34m}\u001b[0m\u001b[1;34m = \u001b[0m\u001b[1;36m500\u001b[0m\u001b[1;34m \\\u001b[0m\u001b[1;34m)\u001b[0m\u001b[1;34m and \\\u001b[0m\u001b[1;34m(\u001b[0m\u001b[1;34m \\ell_\u001b[0m\u001b[1;34m{\u001b[0m\u001b[1;34m\\max\u001b[0m\u001b[1;34m}\u001b[0m\u001b[1;34m = \u001b[0m\u001b[1;36m2500\u001b[0m\u001b[1;34m \\\u001b[0m\u001b[1;34m)\u001b[0m\u001b[1;34m to mitigate \u001b[0m \n",
       "\u001b[2;36m           \u001b[0m\u001b[1;34mpotential systematic biases arising from Galactic dust \u001b[0m\u001b[1;34m(\u001b[0m\u001b[1;34maghanim2020<planck<2018results chunk \u001b[0m\u001b[1;36m10\u001b[0m\u001b[1;34m, \u001b[0m       \n",
       "\u001b[2;36m           \u001b[0m\u001b[1;34maghanim2020<planck<2018results chunk \u001b[0m\u001b[1;36m11\u001b[0m\u001b[1;34m)\u001b[0m\u001b[1;34m.\u001b[0m                                                               \n"
      ]
     },
     "metadata": {},
     "output_type": "display_data"
    },
    {
     "data": {
      "text/markdown": [
       "**Response:**\n",
       "**Answer**:\n",
       "\n",
       "In the Camspec temperature likelihood for the Planck 2018 analysis, the multipole cuts applied to the 143 × 217 spectrum were set at \\( \\ell_{\\min} = 500 \\) and \\( \\ell_{\\max} = 2500 \\) to mitigate potential systematic biases arising from Galactic dust .\n",
       "\n",
       "**Sources**:\n",
       "\n",
       "aghanim2020<planck<2018results chunk 10, aghanim2020<planck<2018results chunk 11\n"
      ],
      "text/plain": [
       "<IPython.core.display.Markdown object>"
      ]
     },
     "metadata": {},
     "output_type": "display_data"
    },
    {
     "name": "stdout",
     "output_type": "stream",
     "text": [
      "Processing Time: 11.04 seconds\n",
      "Processing question 4/5\n",
      "Question: What is the effective sky-fraction of the apodized Camspec polarization mask for the Planck 2018 analysis?\n"
     ]
    },
    {
     "data": {
      "text/html": [
       "<pre style=\"white-space:pre;overflow-x:auto;line-height:normal;font-family:Menlo,'DejaVu Sans Mono',consolas,'Courier New',monospace\"><span style=\"color: #7fbfbf; text-decoration-color: #7fbfbf\">[10:17:02] </span>Starting paper search for <span style=\"color: #008000; text-decoration-color: #008000\">'effective sky-fraction apodized Camspec polarization mask Planck 2018'</span>.      \n",
       "</pre>\n"
      ],
      "text/plain": [
       "\u001b[2;36m[10:17:02]\u001b[0m\u001b[2;36m \u001b[0mStarting paper search for \u001b[32m'effective sky-fraction apodized Camspec polarization mask Planck 2018'\u001b[0m.      \n"
      ]
     },
     "metadata": {},
     "output_type": "display_data"
    },
    {
     "data": {
      "text/html": [
       "<pre style=\"white-space:pre;overflow-x:auto;line-height:normal;font-family:Menlo,'DejaVu Sans Mono',consolas,'Courier New',monospace\"><span style=\"color: #7fbfbf; text-decoration-color: #7fbfbf\">           </span>paper_search for query <span style=\"color: #008000; text-decoration-color: #008000\">'effective sky-fraction apodized Camspec polarization mask Planck 2018'</span> and      \n",
       "<span style=\"color: #7fbfbf; text-decoration-color: #7fbfbf\">           </span>offset <span style=\"color: #008080; text-decoration-color: #008080; font-weight: bold\">0</span> returned <span style=\"color: #008080; text-decoration-color: #008080; font-weight: bold\">5</span> papers.                                                                             \n",
       "</pre>\n"
      ],
      "text/plain": [
       "\u001b[2;36m          \u001b[0m\u001b[2;36m \u001b[0mpaper_search for query \u001b[32m'effective sky-fraction apodized Camspec polarization mask Planck 2018'\u001b[0m and      \n",
       "\u001b[2;36m           \u001b[0moffset \u001b[1;36m0\u001b[0m returned \u001b[1;36m5\u001b[0m papers.                                                                             \n"
      ]
     },
     "metadata": {},
     "output_type": "display_data"
    },
    {
     "data": {
      "text/html": [
       "<pre style=\"white-space:pre;overflow-x:auto;line-height:normal;font-family:Menlo,'DejaVu Sans Mono',consolas,'Courier New',monospace\"><span style=\"color: #7fbfbf; text-decoration-color: #7fbfbf\">           </span>Status: Paper <span style=\"color: #808000; text-decoration-color: #808000\">Count</span>=<span style=\"color: #008080; text-decoration-color: #008080; font-weight: bold\">5</span> | Relevant <span style=\"color: #808000; text-decoration-color: #808000\">Papers</span>=<span style=\"color: #008080; text-decoration-color: #008080; font-weight: bold\">0</span> | Current <span style=\"color: #808000; text-decoration-color: #808000\">Evidence</span>=<span style=\"color: #008080; text-decoration-color: #008080; font-weight: bold\">0</span> | Current <span style=\"color: #808000; text-decoration-color: #808000\">Cost</span>=$<span style=\"color: #008080; text-decoration-color: #008080; font-weight: bold\">0.0001</span>                   \n",
       "</pre>\n"
      ],
      "text/plain": [
       "\u001b[2;36m          \u001b[0m\u001b[2;36m \u001b[0mStatus: Paper \u001b[33mCount\u001b[0m=\u001b[1;36m5\u001b[0m | Relevant \u001b[33mPapers\u001b[0m=\u001b[1;36m0\u001b[0m | Current \u001b[33mEvidence\u001b[0m=\u001b[1;36m0\u001b[0m | Current \u001b[33mCost\u001b[0m=$\u001b[1;36m0.0001\u001b[0m                   \n"
      ]
     },
     "metadata": {},
     "output_type": "display_data"
    },
    {
     "data": {
      "text/html": [
       "<pre style=\"white-space:pre;overflow-x:auto;line-height:normal;font-family:Menlo,'DejaVu Sans Mono',consolas,'Courier New',monospace\"><span style=\"color: #7fbfbf; text-decoration-color: #7fbfbf\">[10:17:03] </span>gather_evidence starting for question <span style=\"color: #008000; text-decoration-color: #008000\">'What is the effective sky-fraction of the apodized Camspec </span>      \n",
       "<span style=\"color: #7fbfbf; text-decoration-color: #7fbfbf\">           </span><span style=\"color: #008000; text-decoration-color: #008000\">polarization mask for the Planck 2018 analysis?'</span>.                                                       \n",
       "</pre>\n"
      ],
      "text/plain": [
       "\u001b[2;36m[10:17:03]\u001b[0m\u001b[2;36m \u001b[0mgather_evidence starting for question \u001b[32m'What is the effective sky-fraction of the apodized Camspec \u001b[0m      \n",
       "\u001b[2;36m           \u001b[0m\u001b[32mpolarization mask for the Planck 2018 analysis?'\u001b[0m.                                                       \n"
      ]
     },
     "metadata": {},
     "output_type": "display_data"
    },
    {
     "data": {
      "text/html": [
       "<pre style=\"white-space:pre;overflow-x:auto;line-height:normal;font-family:Menlo,'DejaVu Sans Mono',consolas,'Courier New',monospace\"><span style=\"color: #7fbfbf; text-decoration-color: #7fbfbf\">[10:17:32] </span>Status: Paper <span style=\"color: #808000; text-decoration-color: #808000\">Count</span>=<span style=\"color: #008080; text-decoration-color: #008080; font-weight: bold\">5</span> | Relevant <span style=\"color: #808000; text-decoration-color: #808000\">Papers</span>=<span style=\"color: #008080; text-decoration-color: #008080; font-weight: bold\">1</span> | Current <span style=\"color: #808000; text-decoration-color: #808000\">Evidence</span>=<span style=\"color: #008080; text-decoration-color: #008080; font-weight: bold\">1</span> | Current <span style=\"color: #808000; text-decoration-color: #808000\">Cost</span>=$<span style=\"color: #008080; text-decoration-color: #008080; font-weight: bold\">0.0017</span>                   \n",
       "</pre>\n"
      ],
      "text/plain": [
       "\u001b[2;36m[10:17:32]\u001b[0m\u001b[2;36m \u001b[0mStatus: Paper \u001b[33mCount\u001b[0m=\u001b[1;36m5\u001b[0m | Relevant \u001b[33mPapers\u001b[0m=\u001b[1;36m1\u001b[0m | Current \u001b[33mEvidence\u001b[0m=\u001b[1;36m1\u001b[0m | Current \u001b[33mCost\u001b[0m=$\u001b[1;36m0.0017\u001b[0m                   \n"
      ]
     },
     "metadata": {},
     "output_type": "display_data"
    },
    {
     "data": {
      "text/html": [
       "<pre style=\"white-space:pre;overflow-x:auto;line-height:normal;font-family:Menlo,'DejaVu Sans Mono',consolas,'Courier New',monospace\"><span style=\"color: #7fbfbf; text-decoration-color: #7fbfbf\">[10:17:33] </span>Generating answer for <span style=\"color: #008000; text-decoration-color: #008000\">'What is the effective sky-fraction of the apodized Camspec polarization mask for </span>\n",
       "<span style=\"color: #7fbfbf; text-decoration-color: #7fbfbf\">           </span><span style=\"color: #008000; text-decoration-color: #008000\">the Planck 2018 analysis?'</span>.                                                                             \n",
       "</pre>\n"
      ],
      "text/plain": [
       "\u001b[2;36m[10:17:33]\u001b[0m\u001b[2;36m \u001b[0mGenerating answer for \u001b[32m'What is the effective sky-fraction of the apodized Camspec polarization mask for \u001b[0m\n",
       "\u001b[2;36m           \u001b[0m\u001b[32mthe Planck 2018 analysis?'\u001b[0m.                                                                             \n"
      ]
     },
     "metadata": {},
     "output_type": "display_data"
    },
    {
     "data": {
      "text/html": [
       "<pre style=\"white-space:pre;overflow-x:auto;line-height:normal;font-family:Menlo,'DejaVu Sans Mono',consolas,'Courier New',monospace\"><span style=\"color: #7fbfbf; text-decoration-color: #7fbfbf\">[10:17:35] </span>Status: Paper <span style=\"color: #808000; text-decoration-color: #808000\">Count</span>=<span style=\"color: #008080; text-decoration-color: #008080; font-weight: bold\">5</span> | Relevant <span style=\"color: #808000; text-decoration-color: #808000\">Papers</span>=<span style=\"color: #008080; text-decoration-color: #008080; font-weight: bold\">1</span> | Current <span style=\"color: #808000; text-decoration-color: #808000\">Evidence</span>=<span style=\"color: #008080; text-decoration-color: #008080; font-weight: bold\">1</span> | Current <span style=\"color: #808000; text-decoration-color: #808000\">Cost</span>=$<span style=\"color: #008080; text-decoration-color: #008080; font-weight: bold\">0.0025</span>                   \n",
       "</pre>\n"
      ],
      "text/plain": [
       "\u001b[2;36m[10:17:35]\u001b[0m\u001b[2;36m \u001b[0mStatus: Paper \u001b[33mCount\u001b[0m=\u001b[1;36m5\u001b[0m | Relevant \u001b[33mPapers\u001b[0m=\u001b[1;36m1\u001b[0m | Current \u001b[33mEvidence\u001b[0m=\u001b[1;36m1\u001b[0m | Current \u001b[33mCost\u001b[0m=$\u001b[1;36m0.0025\u001b[0m                   \n"
      ]
     },
     "metadata": {},
     "output_type": "display_data"
    },
    {
     "data": {
      "text/html": [
       "<pre style=\"white-space:pre;overflow-x:auto;line-height:normal;font-family:Menlo,'DejaVu Sans Mono',consolas,'Courier New',monospace\"><span style=\"color: #7fbfbf; text-decoration-color: #7fbfbf\">           </span>Completing <span style=\"color: #008000; text-decoration-color: #008000\">'What is the effective sky-fraction of the apodized Camspec polarization mask for the Planck </span>\n",
       "<span style=\"color: #7fbfbf; text-decoration-color: #7fbfbf\">           </span><span style=\"color: #008000; text-decoration-color: #008000\">2018 analysis?'</span> as <span style=\"color: #008000; text-decoration-color: #008000\">'certain'</span>.                                                                           \n",
       "</pre>\n"
      ],
      "text/plain": [
       "\u001b[2;36m          \u001b[0m\u001b[2;36m \u001b[0mCompleting \u001b[32m'What is the effective sky-fraction of the apodized Camspec polarization mask for the Planck \u001b[0m\n",
       "\u001b[2;36m           \u001b[0m\u001b[32m2018 analysis?'\u001b[0m as \u001b[32m'certain'\u001b[0m.                                                                           \n"
      ]
     },
     "metadata": {},
     "output_type": "display_data"
    },
    {
     "data": {
      "text/html": [
       "<pre style=\"white-space:pre;overflow-x:auto;line-height:normal;font-family:Menlo,'DejaVu Sans Mono',consolas,'Courier New',monospace\"><span style=\"color: #7fbfbf; text-decoration-color: #7fbfbf\">[10:17:36] </span><span style=\"color: #000080; text-decoration-color: #000080; font-weight: bold\">Answer: The effective sky-fraction of the apodized CamSpec polarization mask used for the Planck </span><span style=\"color: #008080; text-decoration-color: #008080; font-weight: bold\">2018</span><span style=\"color: #000080; text-decoration-color: #000080; font-weight: bold\"> </span>  \n",
       "<span style=\"color: #7fbfbf; text-decoration-color: #7fbfbf\">           </span><span style=\"color: #000080; text-decoration-color: #000080; font-weight: bold\">analysis is \\( f_{\\mathrm{sky}}^{\\mathrm{W}} = </span><span style=\"color: #008080; text-decoration-color: #008080; font-weight: bold\">47.7</span><span style=\"color: #000080; text-decoration-color: #000080; font-weight: bold\">\\% \\), while it preserves a fraction of \\( </span>          \n",
       "<span style=\"color: #7fbfbf; text-decoration-color: #7fbfbf\">           </span><span style=\"color: #000080; text-decoration-color: #000080; font-weight: bold\">f_{\\mathrm{sky}} = </span><span style=\"color: #008080; text-decoration-color: #008080; font-weight: bold\">57.7</span><span style=\"color: #000080; text-decoration-color: #000080; font-weight: bold\">\\% \\) to account for polarized Galactic dust emission </span>                           \n",
       "<span style=\"color: #7fbfbf; text-decoration-color: #7fbfbf\">           </span><span style=\"color: #000080; text-decoration-color: #000080; font-weight: bold\">(aghanim2020&lt;planck&lt;2018results chunk </span><span style=\"color: #008080; text-decoration-color: #008080; font-weight: bold\">11</span><span style=\"color: #000080; text-decoration-color: #000080; font-weight: bold\">).</span>                                                              \n",
       "</pre>\n"
      ],
      "text/plain": [
       "\u001b[2;36m[10:17:36]\u001b[0m\u001b[2;36m \u001b[0m\u001b[1;34mAnswer: The effective sky-fraction of the apodized CamSpec polarization mask used for the Planck \u001b[0m\u001b[1;36m2018\u001b[0m\u001b[1;34m \u001b[0m  \n",
       "\u001b[2;36m           \u001b[0m\u001b[1;34manalysis is \\\u001b[0m\u001b[1;34m(\u001b[0m\u001b[1;34m f_\u001b[0m\u001b[1;34m{\u001b[0m\u001b[1;34m\\mathrm\u001b[0m\u001b[1;34m{\u001b[0m\u001b[1;34msky\u001b[0m\u001b[1;34m}\u001b[0m\u001b[1;34m}\u001b[0m\u001b[1;34m^\u001b[0m\u001b[1;34m{\u001b[0m\u001b[1;34m\\mathrm\u001b[0m\u001b[1;34m{\u001b[0m\u001b[1;34mW\u001b[0m\u001b[1;34m}\u001b[0m\u001b[1;34m}\u001b[0m\u001b[1;34m = \u001b[0m\u001b[1;36m47.7\u001b[0m\u001b[1;34m\\% \\\u001b[0m\u001b[1;34m)\u001b[0m\u001b[1;34m, while it preserves a fraction of \\\u001b[0m\u001b[1;34m(\u001b[0m\u001b[1;34m \u001b[0m          \n",
       "\u001b[2;36m           \u001b[0m\u001b[1;34mf_\u001b[0m\u001b[1;34m{\u001b[0m\u001b[1;34m\\mathrm\u001b[0m\u001b[1;34m{\u001b[0m\u001b[1;34msky\u001b[0m\u001b[1;34m}\u001b[0m\u001b[1;34m}\u001b[0m\u001b[1;34m = \u001b[0m\u001b[1;36m57.7\u001b[0m\u001b[1;34m\\% \\\u001b[0m\u001b[1;34m)\u001b[0m\u001b[1;34m to account for polarized Galactic dust emission \u001b[0m                           \n",
       "\u001b[2;36m           \u001b[0m\u001b[1;34m(\u001b[0m\u001b[1;34maghanim2020<planck<2018results chunk \u001b[0m\u001b[1;36m11\u001b[0m\u001b[1;34m)\u001b[0m\u001b[1;34m.\u001b[0m                                                              \n"
      ]
     },
     "metadata": {},
     "output_type": "display_data"
    },
    {
     "data": {
      "text/markdown": [
       "**Response:**\n",
       "**Answer**:\n",
       "\n",
       "The effective sky-fraction of the apodized CamSpec polarization mask used for the Planck 2018 analysis is \\( f_{\\mathrm{sky}}^{\\mathrm{W}} = 47.7\\% \\), while it preserves a fraction of \\( f_{\\mathrm{sky}} = 57.7\\% \\) to account for polarized Galactic dust emission .\n",
       "\n",
       "**Sources**:\n",
       "\n",
       "aghanim2020<planck<2018results chunk 11\n"
      ],
      "text/plain": [
       "<IPython.core.display.Markdown object>"
      ]
     },
     "metadata": {},
     "output_type": "display_data"
    },
    {
     "name": "stdout",
     "output_type": "stream",
     "text": [
      "Processing Time: 35.74 seconds\n",
      "Processing question 5/5\n",
      "Question: How large is the impact of beam window functions on the 2018 spectra in the baseline Plik likelihood?\n"
     ]
    },
    {
     "data": {
      "text/html": [
       "<pre style=\"white-space:pre;overflow-x:auto;line-height:normal;font-family:Menlo,'DejaVu Sans Mono',consolas,'Courier New',monospace\"><span style=\"color: #7fbfbf; text-decoration-color: #7fbfbf\">[10:17:37] </span>Starting paper search for <span style=\"color: #008000; text-decoration-color: #008000\">'impact of beam window functions on 2018 spectra baseline Plik likelihood'</span>.   \n",
       "</pre>\n"
      ],
      "text/plain": [
       "\u001b[2;36m[10:17:37]\u001b[0m\u001b[2;36m \u001b[0mStarting paper search for \u001b[32m'impact of beam window functions on 2018 spectra baseline Plik likelihood'\u001b[0m.   \n"
      ]
     },
     "metadata": {},
     "output_type": "display_data"
    },
    {
     "data": {
      "text/html": [
       "<pre style=\"white-space:pre;overflow-x:auto;line-height:normal;font-family:Menlo,'DejaVu Sans Mono',consolas,'Courier New',monospace\"><span style=\"color: #7fbfbf; text-decoration-color: #7fbfbf\">[10:17:38] </span>paper_search for query <span style=\"color: #008000; text-decoration-color: #008000\">'impact of beam window functions on 2018 spectra baseline Plik likelihood'</span> and   \n",
       "<span style=\"color: #7fbfbf; text-decoration-color: #7fbfbf\">           </span>offset <span style=\"color: #008080; text-decoration-color: #008080; font-weight: bold\">0</span> returned <span style=\"color: #008080; text-decoration-color: #008080; font-weight: bold\">5</span> papers.                                                                             \n",
       "</pre>\n"
      ],
      "text/plain": [
       "\u001b[2;36m[10:17:38]\u001b[0m\u001b[2;36m \u001b[0mpaper_search for query \u001b[32m'impact of beam window functions on 2018 spectra baseline Plik likelihood'\u001b[0m and   \n",
       "\u001b[2;36m           \u001b[0moffset \u001b[1;36m0\u001b[0m returned \u001b[1;36m5\u001b[0m papers.                                                                             \n"
      ]
     },
     "metadata": {},
     "output_type": "display_data"
    },
    {
     "data": {
      "text/html": [
       "<pre style=\"white-space:pre;overflow-x:auto;line-height:normal;font-family:Menlo,'DejaVu Sans Mono',consolas,'Courier New',monospace\"><span style=\"color: #7fbfbf; text-decoration-color: #7fbfbf\">           </span>Status: Paper <span style=\"color: #808000; text-decoration-color: #808000\">Count</span>=<span style=\"color: #008080; text-decoration-color: #008080; font-weight: bold\">5</span> | Relevant <span style=\"color: #808000; text-decoration-color: #808000\">Papers</span>=<span style=\"color: #008080; text-decoration-color: #008080; font-weight: bold\">0</span> | Current <span style=\"color: #808000; text-decoration-color: #808000\">Evidence</span>=<span style=\"color: #008080; text-decoration-color: #008080; font-weight: bold\">0</span> | Current <span style=\"color: #808000; text-decoration-color: #808000\">Cost</span>=$<span style=\"color: #008080; text-decoration-color: #008080; font-weight: bold\">0.0001</span>                   \n",
       "</pre>\n"
      ],
      "text/plain": [
       "\u001b[2;36m          \u001b[0m\u001b[2;36m \u001b[0mStatus: Paper \u001b[33mCount\u001b[0m=\u001b[1;36m5\u001b[0m | Relevant \u001b[33mPapers\u001b[0m=\u001b[1;36m0\u001b[0m | Current \u001b[33mEvidence\u001b[0m=\u001b[1;36m0\u001b[0m | Current \u001b[33mCost\u001b[0m=$\u001b[1;36m0.0001\u001b[0m                   \n"
      ]
     },
     "metadata": {},
     "output_type": "display_data"
    },
    {
     "data": {
      "text/html": [
       "<pre style=\"white-space:pre;overflow-x:auto;line-height:normal;font-family:Menlo,'DejaVu Sans Mono',consolas,'Courier New',monospace\"><span style=\"color: #7fbfbf; text-decoration-color: #7fbfbf\">[10:17:39] </span>gather_evidence starting for question <span style=\"color: #008000; text-decoration-color: #008000\">'How large is the impact of beam window functions on the 2018 </span>    \n",
       "<span style=\"color: #7fbfbf; text-decoration-color: #7fbfbf\">           </span><span style=\"color: #008000; text-decoration-color: #008000\">spectra in the baseline Plik likelihood?'</span>.                                                              \n",
       "</pre>\n"
      ],
      "text/plain": [
       "\u001b[2;36m[10:17:39]\u001b[0m\u001b[2;36m \u001b[0mgather_evidence starting for question \u001b[32m'How large is the impact of beam window functions on the 2018 \u001b[0m    \n",
       "\u001b[2;36m           \u001b[0m\u001b[32mspectra in the baseline Plik likelihood?'\u001b[0m.                                                              \n"
      ]
     },
     "metadata": {},
     "output_type": "display_data"
    },
    {
     "data": {
      "text/html": [
       "<pre style=\"white-space:pre;overflow-x:auto;line-height:normal;font-family:Menlo,'DejaVu Sans Mono',consolas,'Courier New',monospace\"><span style=\"color: #7fbfbf; text-decoration-color: #7fbfbf\">[10:17:45] </span>Status: Paper <span style=\"color: #808000; text-decoration-color: #808000\">Count</span>=<span style=\"color: #008080; text-decoration-color: #008080; font-weight: bold\">5</span> | Relevant <span style=\"color: #808000; text-decoration-color: #808000\">Papers</span>=<span style=\"color: #008080; text-decoration-color: #008080; font-weight: bold\">1</span> | Current <span style=\"color: #808000; text-decoration-color: #808000\">Evidence</span>=<span style=\"color: #008080; text-decoration-color: #008080; font-weight: bold\">2</span> | Current <span style=\"color: #808000; text-decoration-color: #808000\">Cost</span>=$<span style=\"color: #008080; text-decoration-color: #008080; font-weight: bold\">0.0018</span>                   \n",
       "</pre>\n"
      ],
      "text/plain": [
       "\u001b[2;36m[10:17:45]\u001b[0m\u001b[2;36m \u001b[0mStatus: Paper \u001b[33mCount\u001b[0m=\u001b[1;36m5\u001b[0m | Relevant \u001b[33mPapers\u001b[0m=\u001b[1;36m1\u001b[0m | Current \u001b[33mEvidence\u001b[0m=\u001b[1;36m2\u001b[0m | Current \u001b[33mCost\u001b[0m=$\u001b[1;36m0.0018\u001b[0m                   \n"
      ]
     },
     "metadata": {},
     "output_type": "display_data"
    },
    {
     "data": {
      "text/html": [
       "<pre style=\"white-space:pre;overflow-x:auto;line-height:normal;font-family:Menlo,'DejaVu Sans Mono',consolas,'Courier New',monospace\"><span style=\"color: #7fbfbf; text-decoration-color: #7fbfbf\">           </span>Generating answer for <span style=\"color: #008000; text-decoration-color: #008000\">'How large is the impact of beam window functions on the 2018 spectra in the </span>     \n",
       "<span style=\"color: #7fbfbf; text-decoration-color: #7fbfbf\">           </span><span style=\"color: #008000; text-decoration-color: #008000\">baseline Plik likelihood?'</span>.                                                                             \n",
       "</pre>\n"
      ],
      "text/plain": [
       "\u001b[2;36m          \u001b[0m\u001b[2;36m \u001b[0mGenerating answer for \u001b[32m'How large is the impact of beam window functions on the 2018 spectra in the \u001b[0m     \n",
       "\u001b[2;36m           \u001b[0m\u001b[32mbaseline Plik likelihood?'\u001b[0m.                                                                             \n"
      ]
     },
     "metadata": {},
     "output_type": "display_data"
    },
    {
     "data": {
      "text/html": [
       "<pre style=\"white-space:pre;overflow-x:auto;line-height:normal;font-family:Menlo,'DejaVu Sans Mono',consolas,'Courier New',monospace\"><span style=\"color: #7fbfbf; text-decoration-color: #7fbfbf\">[10:17:47] </span>Status: Paper <span style=\"color: #808000; text-decoration-color: #808000\">Count</span>=<span style=\"color: #008080; text-decoration-color: #008080; font-weight: bold\">5</span> | Relevant <span style=\"color: #808000; text-decoration-color: #808000\">Papers</span>=<span style=\"color: #008080; text-decoration-color: #008080; font-weight: bold\">1</span> | Current <span style=\"color: #808000; text-decoration-color: #808000\">Evidence</span>=<span style=\"color: #008080; text-decoration-color: #008080; font-weight: bold\">2</span> | Current <span style=\"color: #808000; text-decoration-color: #808000\">Cost</span>=$<span style=\"color: #008080; text-decoration-color: #008080; font-weight: bold\">0.0026</span>                   \n",
       "</pre>\n"
      ],
      "text/plain": [
       "\u001b[2;36m[10:17:47]\u001b[0m\u001b[2;36m \u001b[0mStatus: Paper \u001b[33mCount\u001b[0m=\u001b[1;36m5\u001b[0m | Relevant \u001b[33mPapers\u001b[0m=\u001b[1;36m1\u001b[0m | Current \u001b[33mEvidence\u001b[0m=\u001b[1;36m2\u001b[0m | Current \u001b[33mCost\u001b[0m=$\u001b[1;36m0.0026\u001b[0m                   \n"
      ]
     },
     "metadata": {},
     "output_type": "display_data"
    },
    {
     "data": {
      "text/html": [
       "<pre style=\"white-space:pre;overflow-x:auto;line-height:normal;font-family:Menlo,'DejaVu Sans Mono',consolas,'Courier New',monospace\"><span style=\"color: #7fbfbf; text-decoration-color: #7fbfbf\">[10:17:48] </span>Completing <span style=\"color: #008000; text-decoration-color: #008000\">'How large is the impact of beam window functions on the 2018 spectra in the baseline Plik </span>  \n",
       "<span style=\"color: #7fbfbf; text-decoration-color: #7fbfbf\">           </span><span style=\"color: #008000; text-decoration-color: #008000\">likelihood?'</span> as <span style=\"color: #008000; text-decoration-color: #008000\">'certain'</span>.                                                                              \n",
       "</pre>\n"
      ],
      "text/plain": [
       "\u001b[2;36m[10:17:48]\u001b[0m\u001b[2;36m \u001b[0mCompleting \u001b[32m'How large is the impact of beam window functions on the 2018 spectra in the baseline Plik \u001b[0m  \n",
       "\u001b[2;36m           \u001b[0m\u001b[32mlikelihood?'\u001b[0m as \u001b[32m'certain'\u001b[0m.                                                                              \n"
      ]
     },
     "metadata": {},
     "output_type": "display_data"
    },
    {
     "data": {
      "text/html": [
       "<pre style=\"white-space:pre;overflow-x:auto;line-height:normal;font-family:Menlo,'DejaVu Sans Mono',consolas,'Courier New',monospace\"><span style=\"color: #7fbfbf; text-decoration-color: #7fbfbf\">           </span><span style=\"color: #000080; text-decoration-color: #000080; font-weight: bold\">Answer: The impact of beam window functions on the </span><span style=\"color: #008080; text-decoration-color: #008080; font-weight: bold\">2018</span><span style=\"color: #000080; text-decoration-color: #000080; font-weight: bold\"> spectra in the baseline Plik likelihood is </span>     \n",
       "<span style=\"color: #7fbfbf; text-decoration-color: #7fbfbf\">           </span><span style=\"color: #000080; text-decoration-color: #000080; font-weight: bold\">small, approximately </span><span style=\"color: #008080; text-decoration-color: #008080; font-weight: bold\">0.1</span><span style=\"color: #000080; text-decoration-color: #000080; font-weight: bold\">% at </span><span style=\"color: #808000; text-decoration-color: #808000; font-weight: bold\">ℓ</span><span style=\"color: #000080; text-decoration-color: #000080; font-weight: bold\">=</span><span style=\"color: #008080; text-decoration-color: #008080; font-weight: bold\">2000</span><span style=\"color: #000080; text-decoration-color: #000080; font-weight: bold\">, due to a new approach in calculating effective beam window </span>        \n",
       "<span style=\"color: #7fbfbf; text-decoration-color: #7fbfbf\">           </span><span style=\"color: #000080; text-decoration-color: #000080; font-weight: bold\">functions tailored to specific sky fractions at each frequency (aghanim2020&lt;</span><span style=\"color: #ff00ff; text-decoration-color: #ff00ff; font-weight: bold\">i</span><span style=\"color: #000000; text-decoration-color: #000000; font-weight: bold\">&gt;planck&lt;i</span><span style=\"color: #000080; text-decoration-color: #000080; font-weight: bold\">&gt;2018results chunk</span>\n",
       "<span style=\"color: #7fbfbf; text-decoration-color: #7fbfbf\">           </span><span style=\"color: #008080; text-decoration-color: #008080; font-weight: bold\">8</span><span style=\"color: #000080; text-decoration-color: #000080; font-weight: bold\">).</span>                                                                                                     \n",
       "</pre>\n"
      ],
      "text/plain": [
       "\u001b[2;36m          \u001b[0m\u001b[2;36m \u001b[0m\u001b[1;34mAnswer: The impact of beam window functions on the \u001b[0m\u001b[1;36m2018\u001b[0m\u001b[1;34m spectra in the baseline Plik likelihood is \u001b[0m     \n",
       "\u001b[2;36m           \u001b[0m\u001b[1;34msmall, approximately \u001b[0m\u001b[1;36m0.1\u001b[0m\u001b[1;34m% at \u001b[0m\u001b[1;33mℓ\u001b[0m\u001b[1;34m=\u001b[0m\u001b[1;36m2000\u001b[0m\u001b[1;34m, due to a new approach in calculating effective beam window \u001b[0m        \n",
       "\u001b[2;36m           \u001b[0m\u001b[1;34mfunctions tailored to specific sky fractions at each frequency \u001b[0m\u001b[1;34m(\u001b[0m\u001b[1;34maghanim2020\u001b[0m\u001b[1;34m<\u001b[0m\u001b[1;95mi\u001b[0m\u001b[1;39m>planck<i\u001b[0m\u001b[1;34m>\u001b[0m\u001b[1;34m2018results chunk\u001b[0m\n",
       "\u001b[2;36m           \u001b[0m\u001b[1;36m8\u001b[0m\u001b[1;34m)\u001b[0m\u001b[1;34m.\u001b[0m                                                                                                     \n"
      ]
     },
     "metadata": {},
     "output_type": "display_data"
    },
    {
     "data": {
      "text/markdown": [
       "**Response:**\n",
       "**Answer**:\n",
       "\n",
       "The impact of beam window functions on the 2018 spectra in the baseline Plik likelihood is small, approximately 0.1% at ℓ=2000, due to a new approach in calculating effective beam window functions tailored to specific sky fractions at each frequency .\n",
       "\n",
       "**Sources**:\n",
       "\n",
       "aghanim2020<i>planck<i>2018results chunk 8\n"
      ],
      "text/plain": [
       "<IPython.core.display.Markdown object>"
      ]
     },
     "metadata": {},
     "output_type": "display_data"
    },
    {
     "name": "stdout",
     "output_type": "stream",
     "text": [
      "Processing Time: 12.11 seconds\n"
     ]
    }
   ],
   "source": [
    "paperqa2_df = get_PaperQA2_rag_response(num_questions=5)"
   ]
  },
  {
   "cell_type": "code",
   "execution_count": 25,
   "id": "5329a0bc",
   "metadata": {},
   "outputs": [
    {
     "data": {
      "text/html": [
       "<div>\n",
       "<style scoped>\n",
       "    .dataframe tbody tr th:only-of-type {\n",
       "        vertical-align: middle;\n",
       "    }\n",
       "\n",
       "    .dataframe tbody tr th {\n",
       "        vertical-align: top;\n",
       "    }\n",
       "\n",
       "    .dataframe thead th {\n",
       "        text-align: right;\n",
       "    }\n",
       "</style>\n",
       "<table border=\"1\" class=\"dataframe\">\n",
       "  <thead>\n",
       "    <tr style=\"text-align: right;\">\n",
       "      <th></th>\n",
       "      <th>question_id</th>\n",
       "      <th>question</th>\n",
       "      <th>response</th>\n",
       "      <th>answer</th>\n",
       "      <th>sources</th>\n",
       "      <th>processing_time</th>\n",
       "      <th>success</th>\n",
       "      <th>error</th>\n",
       "      <th>embedding_system</th>\n",
       "    </tr>\n",
       "  </thead>\n",
       "  <tbody>\n",
       "    <tr>\n",
       "      <th>0</th>\n",
       "      <td>1</td>\n",
       "      <td>How is the standard recombination history test...</td>\n",
       "      <td>answer='**Answer**:\\n\\nThe standard recombinat...</td>\n",
       "      <td>The standard recombination history is tested i...</td>\n",
       "      <td>aghanim2020&lt;i&gt;planck&lt;i&gt;2018results chunk 63, c...</td>\n",
       "      <td>12.382422</td>\n",
       "      <td>True</td>\n",
       "      <td>None</td>\n",
       "      <td>PaperQA2</td>\n",
       "    </tr>\n",
       "    <tr>\n",
       "      <th>1</th>\n",
       "      <td>2</td>\n",
       "      <td>Which corrections in polarization spectra were...</td>\n",
       "      <td>answer=\"**Answer**:\\n\\nIn the 2018 Planck anal...</td>\n",
       "      <td>In the 2018 Planck analysis, significant corre...</td>\n",
       "      <td>aghanim2020&lt;i&gt;planck&lt;i&gt;2018results chunk 9</td>\n",
       "      <td>10.743154</td>\n",
       "      <td>True</td>\n",
       "      <td>None</td>\n",
       "      <td>PaperQA2</td>\n",
       "    </tr>\n",
       "    <tr>\n",
       "      <th>2</th>\n",
       "      <td>3</td>\n",
       "      <td>What multipole cuts were applied in the Camspe...</td>\n",
       "      <td>answer='**Answer**:\\n\\nIn the Camspec temperat...</td>\n",
       "      <td>In the Camspec temperature likelihood for the ...</td>\n",
       "      <td>aghanim2020&lt;planck&lt;2018results chunk 10, aghan...</td>\n",
       "      <td>11.040152</td>\n",
       "      <td>True</td>\n",
       "      <td>None</td>\n",
       "      <td>PaperQA2</td>\n",
       "    </tr>\n",
       "    <tr>\n",
       "      <th>3</th>\n",
       "      <td>4</td>\n",
       "      <td>What is the effective sky-fraction of the apod...</td>\n",
       "      <td>answer='**Answer**:\\n\\nThe effective sky-fract...</td>\n",
       "      <td>The effective sky-fraction of the apodized Cam...</td>\n",
       "      <td>aghanim2020&lt;planck&lt;2018results chunk 11</td>\n",
       "      <td>35.736266</td>\n",
       "      <td>True</td>\n",
       "      <td>None</td>\n",
       "      <td>PaperQA2</td>\n",
       "    </tr>\n",
       "    <tr>\n",
       "      <th>4</th>\n",
       "      <td>5</td>\n",
       "      <td>How large is the impact of beam window functio...</td>\n",
       "      <td>answer='**Answer**:\\n\\nThe impact of beam wind...</td>\n",
       "      <td>The impact of beam window functions on the 201...</td>\n",
       "      <td>aghanim2020&lt;i&gt;planck&lt;i&gt;2018results chunk 8</td>\n",
       "      <td>12.105115</td>\n",
       "      <td>True</td>\n",
       "      <td>None</td>\n",
       "      <td>PaperQA2</td>\n",
       "    </tr>\n",
       "  </tbody>\n",
       "</table>\n",
       "</div>"
      ],
      "text/plain": [
       "   question_id                                           question  \\\n",
       "0            1  How is the standard recombination history test...   \n",
       "1            2  Which corrections in polarization spectra were...   \n",
       "2            3  What multipole cuts were applied in the Camspe...   \n",
       "3            4  What is the effective sky-fraction of the apod...   \n",
       "4            5  How large is the impact of beam window functio...   \n",
       "\n",
       "                                            response  \\\n",
       "0  answer='**Answer**:\\n\\nThe standard recombinat...   \n",
       "1  answer=\"**Answer**:\\n\\nIn the 2018 Planck anal...   \n",
       "2  answer='**Answer**:\\n\\nIn the Camspec temperat...   \n",
       "3  answer='**Answer**:\\n\\nThe effective sky-fract...   \n",
       "4  answer='**Answer**:\\n\\nThe impact of beam wind...   \n",
       "\n",
       "                                              answer  \\\n",
       "0  The standard recombination history is tested i...   \n",
       "1  In the 2018 Planck analysis, significant corre...   \n",
       "2  In the Camspec temperature likelihood for the ...   \n",
       "3  The effective sky-fraction of the apodized Cam...   \n",
       "4  The impact of beam window functions on the 201...   \n",
       "\n",
       "                                             sources  processing_time  \\\n",
       "0  aghanim2020<i>planck<i>2018results chunk 63, c...        12.382422   \n",
       "1         aghanim2020<i>planck<i>2018results chunk 9        10.743154   \n",
       "2  aghanim2020<planck<2018results chunk 10, aghan...        11.040152   \n",
       "3            aghanim2020<planck<2018results chunk 11        35.736266   \n",
       "4         aghanim2020<i>planck<i>2018results chunk 8        12.105115   \n",
       "\n",
       "   success error embedding_system  \n",
       "0     True  None         PaperQA2  \n",
       "1     True  None         PaperQA2  \n",
       "2     True  None         PaperQA2  \n",
       "3     True  None         PaperQA2  \n",
       "4     True  None         PaperQA2  "
      ]
     },
     "execution_count": 25,
     "metadata": {},
     "output_type": "execute_result"
    }
   ],
   "source": [
    "paperqa2_df"
   ]
  }
 ],
 "metadata": {
  "kernelspec": {
   "display_name": "myenv",
   "language": "python",
   "name": "python3"
  },
  "language_info": {
   "codemirror_mode": {
    "name": "ipython",
    "version": 3
   },
   "file_extension": ".py",
   "mimetype": "text/x-python",
   "name": "python",
   "nbconvert_exporter": "python",
   "pygments_lexer": "ipython3",
   "version": "3.11.11"
  }
 },
 "nbformat": 4,
 "nbformat_minor": 5
}
