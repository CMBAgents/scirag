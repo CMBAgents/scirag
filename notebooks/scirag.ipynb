{
 "cells": [
  {
   "cell_type": "code",
   "execution_count": 1,
   "id": "c48b79b9-297d-48db-8be0-71aa21a918a7",
   "metadata": {},
   "outputs": [
    {
     "name": "stdout",
     "output_type": "stream",
     "text": [
      "Listing RAG Corpora:\n",
      "--- Corpus: corpus ---\n",
      "  Name (Resource Path): projects/camels-453517/locations/us-central1/ragCorpora/1729382256910270464\n",
      "  Display Name: corpus\n",
      "  Create Time: 2025-05-25 16:17:36\n",
      "  Update Time: 2025-05-25 16:17:36\n",
      "------------------------------\n"
     ]
    }
   ],
   "source": [
    "# Import for displaying Markdown in interactive environments (like Jupyter)\n",
    "from IPython.display import display, Markdown\n",
    "from scirag import Scirag\n",
    "\n",
    "scirag = Scirag()"
   ]
  },
  {
   "cell_type": "code",
   "execution_count": 2,
   "id": "e1342c44-295d-4003-a28b-5bc50061bd75",
   "metadata": {},
   "outputs": [
    {
     "name": "stdout",
     "output_type": "stream",
     "text": [
      "CPU times: user 75.3 ms, sys: 6.75 ms, total: 82.1 ms\n",
      "Wall time: 9.37 s\n"
     ]
    }
   ],
   "source": [
    "%%time\n",
    "response = scirag.get_response(\"What is the best-fit value of H0 according to Planck 2018 in LCDM?\")"
   ]
  },
  {
   "cell_type": "code",
   "execution_count": 3,
   "id": "3c40ef10-3403-4390-8f87-ad82e3e23d02",
   "metadata": {},
   "outputs": [
    {
     "data": {
      "text/markdown": [
       "**Answer**:\n",
       "\n",
       "67.36 km/s/Mpc\n",
       "\n",
       "**Sources**:\n",
       "\n",
       "1807.06209v4.md, Section 3.2, Equation (14)"
      ],
      "text/plain": [
       "<IPython.core.display.Markdown object>"
      ]
     },
     "metadata": {},
     "output_type": "display_data"
    }
   ],
   "source": [
    "display(Markdown(response.text))"
   ]
  },
  {
   "cell_type": "code",
   "execution_count": 4,
   "id": "91b9c067-4264-4825-96a2-cff10f3d4733",
   "metadata": {},
   "outputs": [
    {
     "name": "stdout",
     "output_type": "stream",
     "text": [
      "CPU times: user 8.3 ms, sys: 3.98 ms, total: 12.3 ms\n",
      "Wall time: 2.87 s\n"
     ]
    }
   ],
   "source": [
    "%%time\n",
    "response = scirag.get_response(\"What is the best-fit value of H0 according to the Riess 2016 paper?\")"
   ]
  },
  {
   "cell_type": "code",
   "execution_count": 5,
   "id": "6738b67c-8a4d-4630-b41e-1866d0bf948a",
   "metadata": {},
   "outputs": [
    {
     "data": {
      "text/markdown": [
       "**Answer**:\n",
       "\n",
       "73.24 ± 1.74 km s$^{-1}$ Mpc$^{-1}$\n",
       "\n",
       "**Sources**:\n",
       "\n",
       "1604.01424v3.md: Abstract, Section 5 Discussion"
      ],
      "text/plain": [
       "<IPython.core.display.Markdown object>"
      ]
     },
     "metadata": {},
     "output_type": "display_data"
    }
   ],
   "source": [
    "display(Markdown(response.text))"
   ]
  }
 ],
 "metadata": {
  "kernelspec": {
   "display_name": "google_env",
   "language": "python",
   "name": "google_env"
  },
  "language_info": {
   "codemirror_mode": {
    "name": "ipython",
    "version": 3
   },
   "file_extension": ".py",
   "mimetype": "text/x-python",
   "name": "python",
   "nbconvert_exporter": "python",
   "pygments_lexer": "ipython3",
   "version": "3.12.9"
  }
 },
 "nbformat": 4,
 "nbformat_minor": 5
}
