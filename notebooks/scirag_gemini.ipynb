{
 "cells": [
  {
   "cell_type": "code",
   "execution_count": 1,
   "id": "c48b79b9-297d-48db-8be0-71aa21a918a7",
   "metadata": {},
   "outputs": [
    {
     "name": "stdout",
     "output_type": "stream",
     "text": [
      "  Loaded 2503.14454v1.md\n",
      "  Loaded 2010.00619v2.md\n",
      "  Loaded 2201.02202v1.md\n",
      "  Loaded 1807.06209v4.md\n",
      "  Loaded 1604.01424v3.md\n",
      "Total markdown documents loaded: 5\n",
      "Splitting documents into chunks...\n",
      "Created 1780 chunks from 5 documents\n",
      "Building contextual retrieval index...\n",
      "Processed 1780 chunks\n"
     ]
    }
   ],
   "source": [
    "from IPython.display import display, Markdown\n",
    "from scirag import SciRagGeminiAI, SciRagDataSet\n",
    "\n",
    "\n",
    "scirag = SciRagGeminiAI() \n",
    "dataset = SciRagDataSet()"
   ]
  },
  {
   "cell_type": "code",
   "execution_count": 2,
   "id": "7c9af1f6-c3f3-45fa-8457-30b960af32f3",
   "metadata": {},
   "outputs": [],
   "source": [
    "qa = dataset.load_dataset()"
   ]
  },
  {
   "cell_type": "code",
   "execution_count": 3,
   "id": "e505a6e1-6554-4ec1-b8d0-75754e469397",
   "metadata": {},
   "outputs": [
    {
     "data": {
      "application/vnd.jupyter.widget-view+json": {
       "model_id": "264b03b0cb7c461db5d091cf806e37ea",
       "version_major": 2,
       "version_minor": 0
      },
      "text/plain": [
       "Embedding texts:   0%|          | 0/1 [00:00<?, ?doc/s]"
      ]
     },
     "metadata": {},
     "output_type": "display_data"
    },
    {
     "name": "stdout",
     "output_type": "stream",
     "text": [
      "CPU times: user 2.88 s, sys: 141 ms, total: 3.02 s\n",
      "Wall time: 5.17 s\n"
     ]
    }
   ],
   "source": [
    "%%time\n",
    "qid = 4\n",
    "question = qa['question'].iloc[qid]\n",
    "response = scirag.get_response(question)"
   ]
  },
  {
   "cell_type": "code",
   "execution_count": 4,
   "id": "17f7dcfd-0b1e-4e66-a4c4-195f91a2c3e9",
   "metadata": {},
   "outputs": [
    {
     "data": {
      "text/markdown": [
       "How large is the impact of beam window functions on the 2018 spectra in the baseline Plik likelihood?"
      ],
      "text/plain": [
       "<IPython.core.display.Markdown object>"
      ]
     },
     "metadata": {},
     "output_type": "display_data"
    }
   ],
   "source": [
    "display(Markdown(question))"
   ]
  },
  {
   "cell_type": "code",
   "execution_count": 5,
   "id": "9bb98b0e-fdf6-4c82-a3fa-efa685899cbb",
   "metadata": {},
   "outputs": [
    {
     "data": {
      "text/markdown": [
       "**Answer**:\n",
       "\n",
       "The impact of beam window functions on the 2018 spectra in the baseline Plik likelihood is small, approximately 0.1% at \\ell=2000. This is due to the application of beam window functions calculated for the specific sky fraction retained at each frequency in the new release.\n",
       "\n",
       "**Sources**:\n",
       "\n",
       "1807.06209v4.md - Beams\n"
      ],
      "text/plain": [
       "<IPython.core.display.Markdown object>"
      ]
     },
     "metadata": {},
     "output_type": "display_data"
    }
   ],
   "source": [
    "display(Markdown(response))"
   ]
  },
  {
   "cell_type": "code",
   "execution_count": 6,
   "id": "c395213b-7bb6-4c19-b436-f8574ad571b3",
   "metadata": {},
   "outputs": [
    {
     "data": {
      "text/plain": [
       "'approximately 0.1% at l=2000'"
      ]
     },
     "execution_count": 6,
     "metadata": {},
     "output_type": "execute_result"
    }
   ],
   "source": [
    "qa['ideal'].iloc[qid]"
   ]
  },
  {
   "cell_type": "code",
   "execution_count": 7,
   "id": "e57644eb-5f5d-43a0-96a0-9bbaa1ee7aad",
   "metadata": {},
   "outputs": [
    {
     "data": {
      "text/plain": [
       "'p6; sec2.2.1'"
      ]
     },
     "execution_count": 7,
     "metadata": {},
     "output_type": "execute_result"
    }
   ],
   "source": [
    "qa['Location'].iloc[qid]"
   ]
  },
  {
   "cell_type": "code",
   "execution_count": 8,
   "id": "deb4842d-a1dd-4d46-aced-708244f49ca0",
   "metadata": {},
   "outputs": [
    {
     "data": {
      "text/plain": [
       "{'Cost': [], 'Prompt Tokens': [], 'Completion Tokens': [], 'Total Tokens': []}"
      ]
     },
     "execution_count": 8,
     "metadata": {},
     "output_type": "execute_result"
    }
   ],
   "source": [
    "scirag.cost_dict"
   ]
  }
 ],
 "metadata": {
  "kernelspec": {
   "display_name": "google_env",
   "language": "python",
   "name": "google_env"
  },
  "language_info": {
   "codemirror_mode": {
    "name": "ipython",
    "version": 3
   },
   "file_extension": ".py",
   "mimetype": "text/x-python",
   "name": "python",
   "nbconvert_exporter": "python",
   "pygments_lexer": "ipython3",
   "version": "3.12.9"
  }
 },
 "nbformat": 4,
 "nbformat_minor": 5
}
