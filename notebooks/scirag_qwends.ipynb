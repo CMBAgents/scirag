{
 "cells": [
  {
   "cell_type": "code",
   "execution_count": 1,
   "id": "4fb1b8ef",
   "metadata": {},
   "outputs": [],
   "source": [
    "import os\n",
    "from dotenv import load_dotenv\n",
    "load_dotenv()\n",
    "os.environ[\"GOOGLE_APPLICATION_CREDENTIALS\"] = \"gemini.json\"\n",
    "\n",
    "api_key = os.environ.get(\"DEEPSEEK_API_KEY\")\n",
    "if api_key is None:\n",
    "    raise RuntimeError(\"Please set the DEEPSEEK_API_KEY \")"
   ]
  },
  {
   "cell_type": "code",
   "execution_count": 2,
   "id": "798c6282",
   "metadata": {},
   "outputs": [
    {
     "name": "stdout",
     "output_type": "stream",
     "text": [
      "1.26.4\n"
     ]
    }
   ],
   "source": [
    "import numpy as np\n",
    "print(np.__version__)"
   ]
  },
  {
   "cell_type": "code",
   "execution_count": 3,
   "id": "860dd80b",
   "metadata": {},
   "outputs": [],
   "source": [
    "from scirag import QwenDeepSeekRag"
   ]
  },
  {
   "cell_type": "code",
   "execution_count": 4,
   "id": "99c75627",
   "metadata": {},
   "outputs": [],
   "source": [
    "from IPython.display import display, Markdown\n",
    "from scirag import SciRagDataSet"
   ]
  },
  {
   "cell_type": "code",
   "execution_count": null,
   "id": "9292bd5b",
   "metadata": {},
   "outputs": [],
   "source": [
    "scirag = QwenDeepSeekRag(\n",
    "    deepseek_api_key=api_key)\n"
   ]
  },
  {
   "cell_type": "code",
   "execution_count": null,
   "id": "08a3ffb0",
   "metadata": {},
   "outputs": [],
   "source": [
    "info = scirag.get_model_info()\n",
    "print(info)"
   ]
  },
  {
   "cell_type": "code",
   "execution_count": null,
   "id": "32e8b34c",
   "metadata": {},
   "outputs": [],
   "source": [
    "scirag.create_vector_db()"
   ]
  }
 ],
 "metadata": {
  "kernelspec": {
   "display_name": "myenv",
   "language": "python",
   "name": "python3"
  },
  "language_info": {
   "codemirror_mode": {
    "name": "ipython",
    "version": 3
   },
   "file_extension": ".py",
   "mimetype": "text/x-python",
   "name": "python",
   "nbconvert_exporter": "python",
   "pygments_lexer": "ipython3",
   "version": "3.11.11"
  }
 },
 "nbformat": 4,
 "nbformat_minor": 5
}
