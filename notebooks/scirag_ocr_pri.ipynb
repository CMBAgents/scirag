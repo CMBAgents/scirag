{
 "cells": [
  {
   "cell_type": "code",
   "execution_count": 1,
   "metadata": {},
   "outputs": [],
   "source": [
    "import os\n",
    "from dotenv import load_dotenv\n",
    "load_dotenv()\n",
    "# os.environ[\"GOOGLE_APPLICATION_CREDENTIALS\"] = \"gemini.json\"\n",
    "\n",
    "api_key = os.environ.get(\"OPENAI_API_KEY\")\n",
    "if api_key is None:\n",
    "    raise RuntimeError(\"Please set the OPENAI_API_KEY \")"
   ]
  },
  {
   "cell_type": "code",
   "execution_count": 2,
   "metadata": {},
   "outputs": [
    {
     "ename": "SyntaxError",
     "evalue": "invalid syntax (scirag_vertexai.py, line 88)",
     "output_type": "error",
     "traceback": [
      "Traceback \u001b[36m(most recent call last)\u001b[39m:\n",
      "  File \u001b[92m~/CMBAgents/google_env/lib/python3.12/site-packages/IPython/core/interactiveshell.py:3670\u001b[39m in \u001b[95mrun_code\u001b[39m\n    exec(code_obj, self.user_global_ns, self.user_ns)\n",
      "  Cell \u001b[92mIn[2]\u001b[39m\u001b[92m, line 1\u001b[39m\n    from scirag import MistralOCRProcessor\n",
      "\u001b[36m  \u001b[39m\u001b[36mFile \u001b[39m\u001b[32m~/CMBAgents/scirag/scirag/__init__.py:1\u001b[39m\n\u001b[31m    \u001b[39m\u001b[31mfrom .scirag_vertexai import SciRagVertexAI\u001b[39m\n",
      "  \u001b[36mFile \u001b[39m\u001b[32m~/CMBAgents/scirag/scirag/scirag_vertexai.py:88\u001b[39m\n\u001b[31m    \u001b[39m\u001b[31m<<<<<<< HEAD\u001b[39m\n    ^\n\u001b[31mSyntaxError\u001b[39m\u001b[31m:\u001b[39m invalid syntax\n"
     ]
    }
   ],
   "source": [
    "from scirag import MistralOCRProcessor\n"
   ]
  },
  {
   "cell_type": "code",
   "execution_count": 5,
   "metadata": {},
   "outputs": [
    {
     "name": "stdout",
     "output_type": "stream",
     "text": [
      "Uploading PDF: 2201.02202v1.pdf\n",
      "Processing PDF with OCR...\n",
      "Saved Markdown output to /Users/apple/Documents/GitHub/scirag_paperqa/scirag/markdowns/2201.02202v1.md\n",
      "Saved text output to /Users/apple/Documents/GitHub/scirag_paperqa/scirag/markdowns/2201.02202v1.txt\n",
      "Processed 26 pages\n"
     ]
    }
   ],
   "source": [
    "# Initialize processor\n",
    "processor = MistralOCRProcessor()\n",
    "\n",
    "# Process single PDF\n",
    "result = processor.process_single_pdf(\n",
    "    pdf_path=\"../pdfs/2201.02202v1.pdf\",\n",
    "    save_markdown=True,  # Save .md file\n",
    "    save_json=False,       # Save .json file\n",
    "    save_text=False,\n",
    "    output_dir=\"../markdowns\"\n",
    ")\n",
    "\n",
    "print(f\"Processed {result['num_pages']} pages\")"
   ]
  }
 ],
 "metadata": {
  "kernelspec": {
   "display_name": "google_env",
   "language": "python",
   "name": "google_env"
  },
  "language_info": {
   "codemirror_mode": {
    "name": "ipython",
    "version": 3
   },
   "file_extension": ".py",
   "mimetype": "text/x-python",
   "name": "python",
   "nbconvert_exporter": "python",
   "pygments_lexer": "ipython3",
   "version": "3.12.9"
  }
 },
 "nbformat": 4,
 "nbformat_minor": 4
}
