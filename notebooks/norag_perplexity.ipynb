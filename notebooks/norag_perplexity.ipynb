{
 "cells": [
  {
   "cell_type": "code",
   "execution_count": 1,
   "id": "ea83f7e6",
   "metadata": {},
   "outputs": [],
   "source": [
    "import os\n",
    "from dotenv import load_dotenv\n",
    "load_dotenv()\n",
    "os.environ[\"GOOGLE_APPLICATION_CREDENTIALS\"] = \"gemini.json\"\n",
    "\n",
    "api_key = os.environ.get(\"PERPLEXITY_API_KEY\")\n",
    "if api_key is None:\n",
    "    raise RuntimeError(\"Please set the PERPLEXITY_API_KEY \")"
   ]
  },
  {
   "cell_type": "code",
   "execution_count": 2,
   "id": "13323e6e",
   "metadata": {},
   "outputs": [],
   "source": [
    "from IPython.display import display, Markdown\n",
    "from scirag import PerplexityAgent, SciRagDataSet\n",
    "\n",
    "scirag = PerplexityAgent()\n",
    "dataset = SciRagDataSet()"
   ]
  },
  {
   "cell_type": "code",
   "execution_count": 3,
   "id": "d463d60a",
   "metadata": {},
   "outputs": [],
   "source": [
    "qa = dataset.load_dataset()"
   ]
  },
  {
   "cell_type": "code",
   "execution_count": 4,
   "id": "e8d14d8f",
   "metadata": {},
   "outputs": [
    {
     "name": "stdout",
     "output_type": "stream",
     "text": [
      "Parsed answer: The beam window function's impact on the 2018 Planck spectra in the baseline Plik likelihood is expl...\n",
      "Parsed sources: ['1']\n",
      "CPU times: user 10.2 ms, sys: 14.6 ms, total: 24.8 ms\n",
      "Wall time: 25.1 s\n"
     ]
    }
   ],
   "source": [
    "%%time\n",
    "qid = 4\n",
    "question = qa['question'].iloc[qid]\n",
    "response = scirag.get_response(question)"
   ]
  },
  {
   "cell_type": "code",
   "execution_count": 5,
   "id": "5ff4527a",
   "metadata": {},
   "outputs": [
    {
     "data": {
      "text/markdown": [
       "How large is the impact of beam window functions on the 2018 spectra in the baseline Plik likelihood?"
      ],
      "text/plain": [
       "<IPython.core.display.Markdown object>"
      ]
     },
     "metadata": {},
     "output_type": "display_data"
    }
   ],
   "source": [
    "display(Markdown(question))"
   ]
  },
  {
   "cell_type": "code",
   "execution_count": 6,
   "id": "ed54cbf5",
   "metadata": {},
   "outputs": [
    {
     "data": {
      "text/markdown": [
       "**Answer**:\n",
       "\n",
       "The beam window function's impact on the 2018 Planck spectra in the baseline Plik likelihood is explicitly addressed in the Planck 2018 results [1]. The analysis demonstrates that beam uncertainties contribute significantly to systematic errors at small angular scales (high multipoles), particularly in the 100-217 GHz channels critical for temperature and polarization measurements. Key details include:\n",
       "\n",
       "- **Beam correction**: Beam window functions account for ~0.3% uncertainty in CMB temperature power spectrum (TT) at ℓ > 1000, comparable to statistical errors at these scales (Sec. 3.3.2 of [1]).\n",
       "- **Likelihood implementation**: The Plik likelihood (TT,TE,EE up to ℓ=2500) requires precise beam deconvolution. Residual beam systematics contribute <0.25σ shifts in ΛCDM parameters when using the full mission data (Sec. 4.1.3 of [1]).\n",
       "- **Cross-checks**: Comparison between detector sets (HM1/HM2) shows beam modeling differences induce <0.5% variations in CMB spectrum residuals (Fig. 27 of [1]).\n",
       "\n",
       "This analysis confirms beam window functions are a critical but well-controlled systematic in the Planck baseline cosmology, with sub-percent level impacts that are rigorously marginalized over in parameter estimation.\n",
       "\n",
       "**Sources**:\n",
       "\n",
       "[1] Planck 2018 results. VI. Cosmological parameters - Planck Collaboration, Planck 2018 results. VI. Cosmological parameters, Astron.Astrophys. 641 (2020) A6\n"
      ],
      "text/plain": [
       "<IPython.core.display.Markdown object>"
      ]
     },
     "metadata": {},
     "output_type": "display_data"
    }
   ],
   "source": [
    "display(Markdown(response))"
   ]
  },
  {
   "cell_type": "code",
   "execution_count": 7,
   "id": "da2f80e5",
   "metadata": {},
   "outputs": [
    {
     "data": {
      "text/plain": [
       "'approximately 0.1% at l=2000'"
      ]
     },
     "execution_count": 7,
     "metadata": {},
     "output_type": "execute_result"
    }
   ],
   "source": [
    "qa['ideal'].iloc[qid]"
   ]
  }
 ],
 "metadata": {
  "kernelspec": {
   "display_name": "myenv",
   "language": "python",
   "name": "python3"
  },
  "language_info": {
   "codemirror_mode": {
    "name": "ipython",
    "version": 3
   },
   "file_extension": ".py",
   "mimetype": "text/x-python",
   "name": "python",
   "nbconvert_exporter": "python",
   "pygments_lexer": "ipython3",
   "version": "3.11.11"
  }
 },
 "nbformat": 4,
 "nbformat_minor": 5
}
